{
  "nbformat": 4,
  "nbformat_minor": 0,
  "metadata": {
    "colab": {
      "provenance": [],
      "collapsed_sections": [],
      "include_colab_link": true
    },
    "kernelspec": {
      "name": "python3",
      "display_name": "Python 3"
    },
    "language_info": {
      "name": "python"
    }
  },
  "cells": [
    {
      "cell_type": "markdown",
      "metadata": {
        "id": "view-in-github",
        "colab_type": "text"
      },
      "source": [
        "<a href=\"https://colab.research.google.com/github/urabayen01/Actividad-1/blob/main/A1_BCN.ipynb\" target=\"_parent\"><img src=\"https://colab.research.google.com/assets/colab-badge.svg\" alt=\"Open In Colab\"/></a>"
      ]
    },
    {
      "cell_type": "markdown",
      "source": [
        "Modelo de Regresión lineal simple con Dataset de Airbnb Ciudad de México"
      ],
      "metadata": {
        "id": "K2AK0OZIs1q2"
      }
    },
    {
      "cell_type": "code",
      "execution_count": 1,
      "metadata": {
        "id": "SGkyrVfIfihY"
      },
      "outputs": [],
      "source": [
        "#importar Librerías"
      ]
    },
    {
      "cell_type": "code",
      "source": [
        "import pandas as pd\n",
        "import numpy as np\n",
        "import matplotlib.pyplot as plt\n",
        "import seaborn as sns\n",
        "from numpy import nan as NaN"
      ],
      "metadata": {
        "id": "eSjXzyWoizie"
      },
      "execution_count": 2,
      "outputs": []
    },
    {
      "cell_type": "code",
      "source": [
        "#Leer datos\n",
        "\n",
        "df=pd.read_csv('listings_BCN.csv')\n",
        "df.head()"
      ],
      "metadata": {
        "colab": {
          "base_uri": "https://localhost:8080/",
          "height": 629
        },
        "id": "jyfk-7UKi9VP",
        "outputId": "c04b051c-45f2-46ad-c55f-3831cc370d4f"
      },
      "execution_count": 4,
      "outputs": [
        {
          "output_type": "execute_result",
          "data": {
            "text/plain": [
              "                   id                                      listing_url  \\\n",
              "0  673276379194656210  https://www.airbnb.com/rooms/673276379194656210   \n",
              "1            44192271            https://www.airbnb.com/rooms/44192271   \n",
              "2            17039441            https://www.airbnb.com/rooms/17039441   \n",
              "3               18674               https://www.airbnb.com/rooms/18674   \n",
              "4  553559871868002337  https://www.airbnb.com/rooms/553559871868002337   \n",
              "\n",
              "        scrape_id last_scraped       source  \\\n",
              "0  20220910194401   2022-09-10  city scrape   \n",
              "1  20220910194401   2022-09-10  city scrape   \n",
              "2  20220910194401   2022-09-10  city scrape   \n",
              "3  20220910194401   2022-09-11  city scrape   \n",
              "4  20220910194401   2022-09-10  city scrape   \n",
              "\n",
              "                                                name  \\\n",
              "0                          Habitación muy acogedora.   \n",
              "1       Cozy terrace apartment Apartamento con patio   \n",
              "2  Apart. full equipped. 2 min to Subway lines L1...   \n",
              "3    Huge flat for 8 people close to Sagrada Familia   \n",
              "4                                  8 lacus, VICTORIA   \n",
              "\n",
              "                                         description  \\\n",
              "0  Abrace la simplicidad en este lugar tranquilo ...   \n",
              "1  A private terraced + 2 bedroom ground floor ap...   \n",
              "2  Precioso apartamento ideal para parejas. Lumin...   \n",
              "3  110m2 apartment to rent in Barcelona. Located ...   \n",
              "4  8 apartaments que pretenen recordar la importà...   \n",
              "\n",
              "                               neighborhood_overview  \\\n",
              "0  El barrio es tranquilo y bien hubicado.   Cerc...   \n",
              "1  The neighbourhood is quiet with trees. Though ...   \n",
              "2  La zona dispone de servicios básicos y una exc...   \n",
              "3  Apartment in Barcelona located in the heart of...   \n",
              "4                                                NaN   \n",
              "\n",
              "                                         picture_url    host_id  ...  \\\n",
              "0  https://a0.muscache.com/pictures/miso/Hosting-...   51421682  ...   \n",
              "1  https://a0.muscache.com/pictures/2e579e6b-b717...  200754964  ...   \n",
              "2  https://a0.muscache.com/pictures/02af8b09-c8ca...  114340651  ...   \n",
              "3  https://a0.muscache.com/pictures/13031453/413c...      71615  ...   \n",
              "4  https://a0.muscache.com/pictures/miso/Hosting-...  442972056  ...   \n",
              "\n",
              "  review_scores_communication review_scores_location review_scores_value  \\\n",
              "0                        4.89                   4.89                4.78   \n",
              "1                        4.98                   4.52                4.65   \n",
              "2                        4.99                   4.70                4.89   \n",
              "3                        4.79                   4.79                4.34   \n",
              "4                        4.50                   4.40                4.80   \n",
              "\n",
              "       license instant_bookable calculated_host_listings_count  \\\n",
              "0       Exempt                t                              1   \n",
              "1  HUTB-013294                f                              1   \n",
              "2          NaN                f                              1   \n",
              "3  HUTB-002062                t                             38   \n",
              "4  HUTB-009880                t                              8   \n",
              "\n",
              "  calculated_host_listings_count_entire_homes  \\\n",
              "0                                           0   \n",
              "1                                           1   \n",
              "2                                           1   \n",
              "3                                          38   \n",
              "4                                           8   \n",
              "\n",
              "  calculated_host_listings_count_private_rooms  \\\n",
              "0                                            1   \n",
              "1                                            0   \n",
              "2                                            0   \n",
              "3                                            0   \n",
              "4                                            0   \n",
              "\n",
              "  calculated_host_listings_count_shared_rooms reviews_per_month  \n",
              "0                                           0              9.00  \n",
              "1                                           0              2.45  \n",
              "2                                           0              2.15  \n",
              "3                                           0              0.27  \n",
              "4                                           0              1.52  \n",
              "\n",
              "[5 rows x 75 columns]"
            ],
            "text/html": [
              "\n",
              "  <div id=\"df-5e0d8d3a-3138-4264-a85c-ded538cc09c5\">\n",
              "    <div class=\"colab-df-container\">\n",
              "      <div>\n",
              "<style scoped>\n",
              "    .dataframe tbody tr th:only-of-type {\n",
              "        vertical-align: middle;\n",
              "    }\n",
              "\n",
              "    .dataframe tbody tr th {\n",
              "        vertical-align: top;\n",
              "    }\n",
              "\n",
              "    .dataframe thead th {\n",
              "        text-align: right;\n",
              "    }\n",
              "</style>\n",
              "<table border=\"1\" class=\"dataframe\">\n",
              "  <thead>\n",
              "    <tr style=\"text-align: right;\">\n",
              "      <th></th>\n",
              "      <th>id</th>\n",
              "      <th>listing_url</th>\n",
              "      <th>scrape_id</th>\n",
              "      <th>last_scraped</th>\n",
              "      <th>source</th>\n",
              "      <th>name</th>\n",
              "      <th>description</th>\n",
              "      <th>neighborhood_overview</th>\n",
              "      <th>picture_url</th>\n",
              "      <th>host_id</th>\n",
              "      <th>...</th>\n",
              "      <th>review_scores_communication</th>\n",
              "      <th>review_scores_location</th>\n",
              "      <th>review_scores_value</th>\n",
              "      <th>license</th>\n",
              "      <th>instant_bookable</th>\n",
              "      <th>calculated_host_listings_count</th>\n",
              "      <th>calculated_host_listings_count_entire_homes</th>\n",
              "      <th>calculated_host_listings_count_private_rooms</th>\n",
              "      <th>calculated_host_listings_count_shared_rooms</th>\n",
              "      <th>reviews_per_month</th>\n",
              "    </tr>\n",
              "  </thead>\n",
              "  <tbody>\n",
              "    <tr>\n",
              "      <th>0</th>\n",
              "      <td>673276379194656210</td>\n",
              "      <td>https://www.airbnb.com/rooms/673276379194656210</td>\n",
              "      <td>20220910194401</td>\n",
              "      <td>2022-09-10</td>\n",
              "      <td>city scrape</td>\n",
              "      <td>Habitación muy acogedora.</td>\n",
              "      <td>Abrace la simplicidad en este lugar tranquilo ...</td>\n",
              "      <td>El barrio es tranquilo y bien hubicado.   Cerc...</td>\n",
              "      <td>https://a0.muscache.com/pictures/miso/Hosting-...</td>\n",
              "      <td>51421682</td>\n",
              "      <td>...</td>\n",
              "      <td>4.89</td>\n",
              "      <td>4.89</td>\n",
              "      <td>4.78</td>\n",
              "      <td>Exempt</td>\n",
              "      <td>t</td>\n",
              "      <td>1</td>\n",
              "      <td>0</td>\n",
              "      <td>1</td>\n",
              "      <td>0</td>\n",
              "      <td>9.00</td>\n",
              "    </tr>\n",
              "    <tr>\n",
              "      <th>1</th>\n",
              "      <td>44192271</td>\n",
              "      <td>https://www.airbnb.com/rooms/44192271</td>\n",
              "      <td>20220910194401</td>\n",
              "      <td>2022-09-10</td>\n",
              "      <td>city scrape</td>\n",
              "      <td>Cozy terrace apartment Apartamento con patio</td>\n",
              "      <td>A private terraced + 2 bedroom ground floor ap...</td>\n",
              "      <td>The neighbourhood is quiet with trees. Though ...</td>\n",
              "      <td>https://a0.muscache.com/pictures/2e579e6b-b717...</td>\n",
              "      <td>200754964</td>\n",
              "      <td>...</td>\n",
              "      <td>4.98</td>\n",
              "      <td>4.52</td>\n",
              "      <td>4.65</td>\n",
              "      <td>HUTB-013294</td>\n",
              "      <td>f</td>\n",
              "      <td>1</td>\n",
              "      <td>1</td>\n",
              "      <td>0</td>\n",
              "      <td>0</td>\n",
              "      <td>2.45</td>\n",
              "    </tr>\n",
              "    <tr>\n",
              "      <th>2</th>\n",
              "      <td>17039441</td>\n",
              "      <td>https://www.airbnb.com/rooms/17039441</td>\n",
              "      <td>20220910194401</td>\n",
              "      <td>2022-09-10</td>\n",
              "      <td>city scrape</td>\n",
              "      <td>Apart. full equipped. 2 min to Subway lines L1...</td>\n",
              "      <td>Precioso apartamento ideal para parejas. Lumin...</td>\n",
              "      <td>La zona dispone de servicios básicos y una exc...</td>\n",
              "      <td>https://a0.muscache.com/pictures/02af8b09-c8ca...</td>\n",
              "      <td>114340651</td>\n",
              "      <td>...</td>\n",
              "      <td>4.99</td>\n",
              "      <td>4.70</td>\n",
              "      <td>4.89</td>\n",
              "      <td>NaN</td>\n",
              "      <td>f</td>\n",
              "      <td>1</td>\n",
              "      <td>1</td>\n",
              "      <td>0</td>\n",
              "      <td>0</td>\n",
              "      <td>2.15</td>\n",
              "    </tr>\n",
              "    <tr>\n",
              "      <th>3</th>\n",
              "      <td>18674</td>\n",
              "      <td>https://www.airbnb.com/rooms/18674</td>\n",
              "      <td>20220910194401</td>\n",
              "      <td>2022-09-11</td>\n",
              "      <td>city scrape</td>\n",
              "      <td>Huge flat for 8 people close to Sagrada Familia</td>\n",
              "      <td>110m2 apartment to rent in Barcelona. Located ...</td>\n",
              "      <td>Apartment in Barcelona located in the heart of...</td>\n",
              "      <td>https://a0.muscache.com/pictures/13031453/413c...</td>\n",
              "      <td>71615</td>\n",
              "      <td>...</td>\n",
              "      <td>4.79</td>\n",
              "      <td>4.79</td>\n",
              "      <td>4.34</td>\n",
              "      <td>HUTB-002062</td>\n",
              "      <td>t</td>\n",
              "      <td>38</td>\n",
              "      <td>38</td>\n",
              "      <td>0</td>\n",
              "      <td>0</td>\n",
              "      <td>0.27</td>\n",
              "    </tr>\n",
              "    <tr>\n",
              "      <th>4</th>\n",
              "      <td>553559871868002337</td>\n",
              "      <td>https://www.airbnb.com/rooms/553559871868002337</td>\n",
              "      <td>20220910194401</td>\n",
              "      <td>2022-09-10</td>\n",
              "      <td>city scrape</td>\n",
              "      <td>8 lacus, VICTORIA</td>\n",
              "      <td>8 apartaments que pretenen recordar la importà...</td>\n",
              "      <td>NaN</td>\n",
              "      <td>https://a0.muscache.com/pictures/miso/Hosting-...</td>\n",
              "      <td>442972056</td>\n",
              "      <td>...</td>\n",
              "      <td>4.50</td>\n",
              "      <td>4.40</td>\n",
              "      <td>4.80</td>\n",
              "      <td>HUTB-009880</td>\n",
              "      <td>t</td>\n",
              "      <td>8</td>\n",
              "      <td>8</td>\n",
              "      <td>0</td>\n",
              "      <td>0</td>\n",
              "      <td>1.52</td>\n",
              "    </tr>\n",
              "  </tbody>\n",
              "</table>\n",
              "<p>5 rows × 75 columns</p>\n",
              "</div>\n",
              "      <button class=\"colab-df-convert\" onclick=\"convertToInteractive('df-5e0d8d3a-3138-4264-a85c-ded538cc09c5')\"\n",
              "              title=\"Convert this dataframe to an interactive table.\"\n",
              "              style=\"display:none;\">\n",
              "        \n",
              "  <svg xmlns=\"http://www.w3.org/2000/svg\" height=\"24px\"viewBox=\"0 0 24 24\"\n",
              "       width=\"24px\">\n",
              "    <path d=\"M0 0h24v24H0V0z\" fill=\"none\"/>\n",
              "    <path d=\"M18.56 5.44l.94 2.06.94-2.06 2.06-.94-2.06-.94-.94-2.06-.94 2.06-2.06.94zm-11 1L8.5 8.5l.94-2.06 2.06-.94-2.06-.94L8.5 2.5l-.94 2.06-2.06.94zm10 10l.94 2.06.94-2.06 2.06-.94-2.06-.94-.94-2.06-.94 2.06-2.06.94z\"/><path d=\"M17.41 7.96l-1.37-1.37c-.4-.4-.92-.59-1.43-.59-.52 0-1.04.2-1.43.59L10.3 9.45l-7.72 7.72c-.78.78-.78 2.05 0 2.83L4 21.41c.39.39.9.59 1.41.59.51 0 1.02-.2 1.41-.59l7.78-7.78 2.81-2.81c.8-.78.8-2.07 0-2.86zM5.41 20L4 18.59l7.72-7.72 1.47 1.35L5.41 20z\"/>\n",
              "  </svg>\n",
              "      </button>\n",
              "      \n",
              "  <style>\n",
              "    .colab-df-container {\n",
              "      display:flex;\n",
              "      flex-wrap:wrap;\n",
              "      gap: 12px;\n",
              "    }\n",
              "\n",
              "    .colab-df-convert {\n",
              "      background-color: #E8F0FE;\n",
              "      border: none;\n",
              "      border-radius: 50%;\n",
              "      cursor: pointer;\n",
              "      display: none;\n",
              "      fill: #1967D2;\n",
              "      height: 32px;\n",
              "      padding: 0 0 0 0;\n",
              "      width: 32px;\n",
              "    }\n",
              "\n",
              "    .colab-df-convert:hover {\n",
              "      background-color: #E2EBFA;\n",
              "      box-shadow: 0px 1px 2px rgba(60, 64, 67, 0.3), 0px 1px 3px 1px rgba(60, 64, 67, 0.15);\n",
              "      fill: #174EA6;\n",
              "    }\n",
              "\n",
              "    [theme=dark] .colab-df-convert {\n",
              "      background-color: #3B4455;\n",
              "      fill: #D2E3FC;\n",
              "    }\n",
              "\n",
              "    [theme=dark] .colab-df-convert:hover {\n",
              "      background-color: #434B5C;\n",
              "      box-shadow: 0px 1px 3px 1px rgba(0, 0, 0, 0.15);\n",
              "      filter: drop-shadow(0px 1px 2px rgba(0, 0, 0, 0.3));\n",
              "      fill: #FFFFFF;\n",
              "    }\n",
              "  </style>\n",
              "\n",
              "      <script>\n",
              "        const buttonEl =\n",
              "          document.querySelector('#df-5e0d8d3a-3138-4264-a85c-ded538cc09c5 button.colab-df-convert');\n",
              "        buttonEl.style.display =\n",
              "          google.colab.kernel.accessAllowed ? 'block' : 'none';\n",
              "\n",
              "        async function convertToInteractive(key) {\n",
              "          const element = document.querySelector('#df-5e0d8d3a-3138-4264-a85c-ded538cc09c5');\n",
              "          const dataTable =\n",
              "            await google.colab.kernel.invokeFunction('convertToInteractive',\n",
              "                                                     [key], {});\n",
              "          if (!dataTable) return;\n",
              "\n",
              "          const docLinkHtml = 'Like what you see? Visit the ' +\n",
              "            '<a target=\"_blank\" href=https://colab.research.google.com/notebooks/data_table.ipynb>data table notebook</a>'\n",
              "            + ' to learn more about interactive tables.';\n",
              "          element.innerHTML = '';\n",
              "          dataTable['output_type'] = 'display_data';\n",
              "          await google.colab.output.renderOutput(dataTable, element);\n",
              "          const docLink = document.createElement('div');\n",
              "          docLink.innerHTML = docLinkHtml;\n",
              "          element.appendChild(docLink);\n",
              "        }\n",
              "      </script>\n",
              "    </div>\n",
              "  </div>\n",
              "  "
            ]
          },
          "metadata": {},
          "execution_count": 4
        }
      ]
    },
    {
      "cell_type": "code",
      "source": [
        "#Solo tomamos las columnas de interés\n",
        "\n",
        "df=df[['number_of_reviews', 'host_acceptance_rate', 'price', 'availability_365', 'review_scores_rating', 'review_scores_cleanliness','review_scores_communication', 'room_type']]\n",
        "df.head()\n"
      ],
      "metadata": {
        "colab": {
          "base_uri": "https://localhost:8080/",
          "height": 206
        },
        "id": "caumnQ0EjZkT",
        "outputId": "3fff67b9-4cc9-4745-ffd0-3b01966f1d0c"
      },
      "execution_count": 5,
      "outputs": [
        {
          "output_type": "execute_result",
          "data": {
            "text/plain": [
              "   number_of_reviews host_acceptance_rate    price  availability_365  \\\n",
              "0                  9                 100%   $59.00               351   \n",
              "1                 54                 100%  $110.00               151   \n",
              "2                145                  97%   $86.00               218   \n",
              "3                 30                  93%  $180.00                60   \n",
              "4                 10                 100%  $110.00               106   \n",
              "\n",
              "   review_scores_rating  review_scores_cleanliness  \\\n",
              "0                  4.89                       5.00   \n",
              "1                  4.83                       4.70   \n",
              "2                  4.94                       4.94   \n",
              "3                  4.38                       4.72   \n",
              "4                  4.70                       4.90   \n",
              "\n",
              "   review_scores_communication        room_type  \n",
              "0                         4.89     Private room  \n",
              "1                         4.98  Entire home/apt  \n",
              "2                         4.99  Entire home/apt  \n",
              "3                         4.79  Entire home/apt  \n",
              "4                         4.50  Entire home/apt  "
            ],
            "text/html": [
              "\n",
              "  <div id=\"df-b1f993f6-e4f0-462d-9cf6-551f2497759d\">\n",
              "    <div class=\"colab-df-container\">\n",
              "      <div>\n",
              "<style scoped>\n",
              "    .dataframe tbody tr th:only-of-type {\n",
              "        vertical-align: middle;\n",
              "    }\n",
              "\n",
              "    .dataframe tbody tr th {\n",
              "        vertical-align: top;\n",
              "    }\n",
              "\n",
              "    .dataframe thead th {\n",
              "        text-align: right;\n",
              "    }\n",
              "</style>\n",
              "<table border=\"1\" class=\"dataframe\">\n",
              "  <thead>\n",
              "    <tr style=\"text-align: right;\">\n",
              "      <th></th>\n",
              "      <th>number_of_reviews</th>\n",
              "      <th>host_acceptance_rate</th>\n",
              "      <th>price</th>\n",
              "      <th>availability_365</th>\n",
              "      <th>review_scores_rating</th>\n",
              "      <th>review_scores_cleanliness</th>\n",
              "      <th>review_scores_communication</th>\n",
              "      <th>room_type</th>\n",
              "    </tr>\n",
              "  </thead>\n",
              "  <tbody>\n",
              "    <tr>\n",
              "      <th>0</th>\n",
              "      <td>9</td>\n",
              "      <td>100%</td>\n",
              "      <td>$59.00</td>\n",
              "      <td>351</td>\n",
              "      <td>4.89</td>\n",
              "      <td>5.00</td>\n",
              "      <td>4.89</td>\n",
              "      <td>Private room</td>\n",
              "    </tr>\n",
              "    <tr>\n",
              "      <th>1</th>\n",
              "      <td>54</td>\n",
              "      <td>100%</td>\n",
              "      <td>$110.00</td>\n",
              "      <td>151</td>\n",
              "      <td>4.83</td>\n",
              "      <td>4.70</td>\n",
              "      <td>4.98</td>\n",
              "      <td>Entire home/apt</td>\n",
              "    </tr>\n",
              "    <tr>\n",
              "      <th>2</th>\n",
              "      <td>145</td>\n",
              "      <td>97%</td>\n",
              "      <td>$86.00</td>\n",
              "      <td>218</td>\n",
              "      <td>4.94</td>\n",
              "      <td>4.94</td>\n",
              "      <td>4.99</td>\n",
              "      <td>Entire home/apt</td>\n",
              "    </tr>\n",
              "    <tr>\n",
              "      <th>3</th>\n",
              "      <td>30</td>\n",
              "      <td>93%</td>\n",
              "      <td>$180.00</td>\n",
              "      <td>60</td>\n",
              "      <td>4.38</td>\n",
              "      <td>4.72</td>\n",
              "      <td>4.79</td>\n",
              "      <td>Entire home/apt</td>\n",
              "    </tr>\n",
              "    <tr>\n",
              "      <th>4</th>\n",
              "      <td>10</td>\n",
              "      <td>100%</td>\n",
              "      <td>$110.00</td>\n",
              "      <td>106</td>\n",
              "      <td>4.70</td>\n",
              "      <td>4.90</td>\n",
              "      <td>4.50</td>\n",
              "      <td>Entire home/apt</td>\n",
              "    </tr>\n",
              "  </tbody>\n",
              "</table>\n",
              "</div>\n",
              "      <button class=\"colab-df-convert\" onclick=\"convertToInteractive('df-b1f993f6-e4f0-462d-9cf6-551f2497759d')\"\n",
              "              title=\"Convert this dataframe to an interactive table.\"\n",
              "              style=\"display:none;\">\n",
              "        \n",
              "  <svg xmlns=\"http://www.w3.org/2000/svg\" height=\"24px\"viewBox=\"0 0 24 24\"\n",
              "       width=\"24px\">\n",
              "    <path d=\"M0 0h24v24H0V0z\" fill=\"none\"/>\n",
              "    <path d=\"M18.56 5.44l.94 2.06.94-2.06 2.06-.94-2.06-.94-.94-2.06-.94 2.06-2.06.94zm-11 1L8.5 8.5l.94-2.06 2.06-.94-2.06-.94L8.5 2.5l-.94 2.06-2.06.94zm10 10l.94 2.06.94-2.06 2.06-.94-2.06-.94-.94-2.06-.94 2.06-2.06.94z\"/><path d=\"M17.41 7.96l-1.37-1.37c-.4-.4-.92-.59-1.43-.59-.52 0-1.04.2-1.43.59L10.3 9.45l-7.72 7.72c-.78.78-.78 2.05 0 2.83L4 21.41c.39.39.9.59 1.41.59.51 0 1.02-.2 1.41-.59l7.78-7.78 2.81-2.81c.8-.78.8-2.07 0-2.86zM5.41 20L4 18.59l7.72-7.72 1.47 1.35L5.41 20z\"/>\n",
              "  </svg>\n",
              "      </button>\n",
              "      \n",
              "  <style>\n",
              "    .colab-df-container {\n",
              "      display:flex;\n",
              "      flex-wrap:wrap;\n",
              "      gap: 12px;\n",
              "    }\n",
              "\n",
              "    .colab-df-convert {\n",
              "      background-color: #E8F0FE;\n",
              "      border: none;\n",
              "      border-radius: 50%;\n",
              "      cursor: pointer;\n",
              "      display: none;\n",
              "      fill: #1967D2;\n",
              "      height: 32px;\n",
              "      padding: 0 0 0 0;\n",
              "      width: 32px;\n",
              "    }\n",
              "\n",
              "    .colab-df-convert:hover {\n",
              "      background-color: #E2EBFA;\n",
              "      box-shadow: 0px 1px 2px rgba(60, 64, 67, 0.3), 0px 1px 3px 1px rgba(60, 64, 67, 0.15);\n",
              "      fill: #174EA6;\n",
              "    }\n",
              "\n",
              "    [theme=dark] .colab-df-convert {\n",
              "      background-color: #3B4455;\n",
              "      fill: #D2E3FC;\n",
              "    }\n",
              "\n",
              "    [theme=dark] .colab-df-convert:hover {\n",
              "      background-color: #434B5C;\n",
              "      box-shadow: 0px 1px 3px 1px rgba(0, 0, 0, 0.15);\n",
              "      filter: drop-shadow(0px 1px 2px rgba(0, 0, 0, 0.3));\n",
              "      fill: #FFFFFF;\n",
              "    }\n",
              "  </style>\n",
              "\n",
              "      <script>\n",
              "        const buttonEl =\n",
              "          document.querySelector('#df-b1f993f6-e4f0-462d-9cf6-551f2497759d button.colab-df-convert');\n",
              "        buttonEl.style.display =\n",
              "          google.colab.kernel.accessAllowed ? 'block' : 'none';\n",
              "\n",
              "        async function convertToInteractive(key) {\n",
              "          const element = document.querySelector('#df-b1f993f6-e4f0-462d-9cf6-551f2497759d');\n",
              "          const dataTable =\n",
              "            await google.colab.kernel.invokeFunction('convertToInteractive',\n",
              "                                                     [key], {});\n",
              "          if (!dataTable) return;\n",
              "\n",
              "          const docLinkHtml = 'Like what you see? Visit the ' +\n",
              "            '<a target=\"_blank\" href=https://colab.research.google.com/notebooks/data_table.ipynb>data table notebook</a>'\n",
              "            + ' to learn more about interactive tables.';\n",
              "          element.innerHTML = '';\n",
              "          dataTable['output_type'] = 'display_data';\n",
              "          await google.colab.output.renderOutput(dataTable, element);\n",
              "          const docLink = document.createElement('div');\n",
              "          docLink.innerHTML = docLinkHtml;\n",
              "          element.appendChild(docLink);\n",
              "        }\n",
              "      </script>\n",
              "    </div>\n",
              "  </div>\n",
              "  "
            ]
          },
          "metadata": {},
          "execution_count": 5
        }
      ]
    },
    {
      "cell_type": "markdown",
      "source": [
        "#PUNTO 3"
      ],
      "metadata": {
        "id": "WQ6nHExCFF7J"
      }
    },
    {
      "cell_type": "code",
      "source": [
        "#Quitamos % y $ en las columnas correspondiente\n",
        "df[\"host_acceptance_rate\"] = df[\"host_acceptance_rate\"].str.replace(\"%\",\"\")\n",
        "df[\"price\"] = df[\"price\"].str.replace(\"$\",\"\")\n",
        "df[\"price\"] = df[\"price\"].str.replace(\",\",\"\")\n",
        "\n",
        "df.dtypes"
      ],
      "metadata": {
        "colab": {
          "base_uri": "https://localhost:8080/"
        },
        "id": "vPN0i_DIq4mL",
        "outputId": "2f0eba64-a2e3-42a8-ecd8-be21185ab620"
      },
      "execution_count": 6,
      "outputs": [
        {
          "output_type": "stream",
          "name": "stderr",
          "text": [
            "/usr/local/lib/python3.7/dist-packages/ipykernel_launcher.py:3: FutureWarning: The default value of regex will change from True to False in a future version. In addition, single character regular expressions will *not* be treated as literal strings when regex=True.\n",
            "  This is separate from the ipykernel package so we can avoid doing imports until\n"
          ]
        },
        {
          "output_type": "execute_result",
          "data": {
            "text/plain": [
              "number_of_reviews                int64\n",
              "host_acceptance_rate            object\n",
              "price                           object\n",
              "availability_365                 int64\n",
              "review_scores_rating           float64\n",
              "review_scores_cleanliness      float64\n",
              "review_scores_communication    float64\n",
              "room_type                       object\n",
              "dtype: object"
            ]
          },
          "metadata": {},
          "execution_count": 6
        }
      ]
    },
    {
      "cell_type": "code",
      "source": [
        "print(df.shape) #Número de filas y columnas\n",
        "Duplicadas=df.duplicated()  #Crea una serie \n",
        "print(\"\\nNúmero de filas duplicadas:\", Duplicadas[Duplicadas==True].count()) "
      ],
      "metadata": {
        "colab": {
          "base_uri": "https://localhost:8080/"
        },
        "id": "ZEROvkzEkGZp",
        "outputId": "7bd09982-3707-4d2f-9202-64e5c1173512"
      },
      "execution_count": 7,
      "outputs": [
        {
          "output_type": "stream",
          "name": "stdout",
          "text": [
            "(16920, 8)\n",
            "\n",
            "Número de filas duplicadas: 996\n"
          ]
        }
      ]
    },
    {
      "cell_type": "code",
      "source": [
        "#Limpieza de filas repetidas\n",
        "df.drop_duplicates(keep='first', inplace=True)\n",
        "df.shape"
      ],
      "metadata": {
        "colab": {
          "base_uri": "https://localhost:8080/"
        },
        "id": "zHzq8oK5kMuW",
        "outputId": "7a2fcc66-c4fc-4b62-c177-d4d5d63acd34"
      },
      "execution_count": 8,
      "outputs": [
        {
          "output_type": "execute_result",
          "data": {
            "text/plain": [
              "(15924, 8)"
            ]
          },
          "metadata": {},
          "execution_count": 8
        }
      ]
    },
    {
      "cell_type": "code",
      "source": [
        "#Identificar nulos\n",
        "df.isnull().sum()"
      ],
      "metadata": {
        "colab": {
          "base_uri": "https://localhost:8080/"
        },
        "id": "LKQRzqeRmsnJ",
        "outputId": "79786079-b320-464b-c7cc-e13ab73cad7f"
      },
      "execution_count": 9,
      "outputs": [
        {
          "output_type": "execute_result",
          "data": {
            "text/plain": [
              "number_of_reviews                 0\n",
              "host_acceptance_rate           1762\n",
              "price                             0\n",
              "availability_365                  0\n",
              "review_scores_rating           2809\n",
              "review_scores_cleanliness      2880\n",
              "review_scores_communication    2879\n",
              "room_type                         0\n",
              "dtype: int64"
            ]
          },
          "metadata": {},
          "execution_count": 9
        }
      ]
    },
    {
      "cell_type": "code",
      "source": [
        "df =df.fillna(method=\"bfill\") \n",
        "df =df.fillna(method=\"ffill\") \n",
        "df.isnull().sum()"
      ],
      "metadata": {
        "colab": {
          "base_uri": "https://localhost:8080/"
        },
        "id": "7ECoPa1mLret",
        "outputId": "d8d342a5-f69e-46cc-8a78-e468a0fad667"
      },
      "execution_count": 10,
      "outputs": [
        {
          "output_type": "execute_result",
          "data": {
            "text/plain": [
              "number_of_reviews              0\n",
              "host_acceptance_rate           0\n",
              "price                          0\n",
              "availability_365               0\n",
              "review_scores_rating           0\n",
              "review_scores_cleanliness      0\n",
              "review_scores_communication    0\n",
              "room_type                      0\n",
              "dtype: int64"
            ]
          },
          "metadata": {},
          "execution_count": 10
        }
      ]
    },
    {
      "cell_type": "code",
      "source": [
        "df[\"host_acceptance_rate\"] = df[\"host_acceptance_rate\"].astype('int64')\n",
        "df[\"price\"] = df[\"price\"].astype('float64')\n",
        "df.dtypes"
      ],
      "metadata": {
        "colab": {
          "base_uri": "https://localhost:8080/"
        },
        "id": "Z2toU8qIrYMx",
        "outputId": "81b89920-bdc2-49cb-8152-1429024ab2c9"
      },
      "execution_count": 11,
      "outputs": [
        {
          "output_type": "execute_result",
          "data": {
            "text/plain": [
              "number_of_reviews                int64\n",
              "host_acceptance_rate             int64\n",
              "price                          float64\n",
              "availability_365                 int64\n",
              "review_scores_rating           float64\n",
              "review_scores_cleanliness      float64\n",
              "review_scores_communication    float64\n",
              "room_type                       object\n",
              "dtype: object"
            ]
          },
          "metadata": {},
          "execution_count": 11
        }
      ]
    },
    {
      "cell_type": "code",
      "source": [
        "fig, axs = plt.subplots(ncols=7, figsize=(16,8))\n",
        "index=0\n",
        "axs=axs.flatten()\n",
        "copiadf=df.copy()\n",
        "copiadf=copiadf.drop('room_type', axis=1)\n",
        "for k, v in copiadf.items(): # k variable, v valores\n",
        "  sns.boxplot(y=k, data=df, ax=axs[index])\n",
        "  index += 1\n",
        "plt.tight_layout(pad=0.4)"
      ],
      "metadata": {
        "colab": {
          "base_uri": "https://localhost:8080/",
          "height": 599
        },
        "id": "I6x3MwVUpOdv",
        "outputId": "3f15d0fd-4bbd-420c-b1c2-2b08cb38c768"
      },
      "execution_count": 12,
      "outputs": [
        {
          "output_type": "display_data",
          "data": {
            "text/plain": [
              "<Figure size 1152x576 with 7 Axes>"
            ],
            "image/png": "[encoded data removed]"
          },
          "metadata": {
            "needs_background": "light"
          }
        }
      ]
    },
    {
      "cell_type": "code",
      "source": [
        "y=df\n",
        "\n",
        "percentile25=y.quantile(0.25) #Q1\n",
        "percentile75=y.quantile(0.75) #Q3\n",
        "iqr= percentile75 - percentile25\n",
        "\n",
        "Limite_Superior_iqr= percentile75 + 1.5*iqr\n",
        "Limite_Inferior_iqr= percentile25 - 1.5*iqr\n",
        "print(\"Limite superior permitido\", Limite_Superior_iqr)\n",
        "print(\"Limite inferior permitido\", Limite_Inferior_iqr)"
      ],
      "metadata": {
        "colab": {
          "base_uri": "https://localhost:8080/"
        },
        "id": "VJY3Sw9dWqXl",
        "outputId": "76e81e19-aa42-4e8b-b8a4-4a8011a9b0d4"
      },
      "execution_count": 13,
      "outputs": [
        {
          "output_type": "stream",
          "name": "stdout",
          "text": [
            "Limite superior permitido number_of_reviews              121.000\n",
            "host_acceptance_rate           116.500\n",
            "price                          405.000\n",
            "availability_365               691.000\n",
            "review_scores_rating             5.650\n",
            "review_scores_cleanliness        5.665\n",
            "review_scores_communication      5.540\n",
            "dtype: float64\n",
            "Limite inferior permitido number_of_reviews              -71.000\n",
            "host_acceptance_rate            72.500\n",
            "price                         -155.000\n",
            "availability_365              -325.000\n",
            "review_scores_rating             3.650\n",
            "review_scores_cleanliness        3.705\n",
            "review_scores_communication      4.100\n",
            "dtype: float64\n"
          ]
        }
      ]
    },
    {
      "cell_type": "code",
      "source": [
        "df=df[df['number_of_reviews']<121.000]\n",
        "df=df[df['host_acceptance_rate']>72.500]\n",
        "df=df[df['price']<405.000]\n",
        "df=df[df['review_scores_rating']>3.605]\n",
        "df=df[df['review_scores_cleanliness']>3.705]\n",
        "df=df[df['review_scores_communication']>4.100]\n",
        "df.head()"
      ],
      "metadata": {
        "id": "8nykaMB2uYDq",
        "colab": {
          "base_uri": "https://localhost:8080/",
          "height": 206
        },
        "outputId": "05984cdb-8513-4f54-b5d1-c76065fb55b5"
      },
      "execution_count": 14,
      "outputs": [
        {
          "output_type": "execute_result",
          "data": {
            "text/plain": [
              "   number_of_reviews  host_acceptance_rate  price  availability_365  \\\n",
              "0                  9                   100   59.0               351   \n",
              "1                 54                   100  110.0               151   \n",
              "3                 30                    93  180.0                60   \n",
              "4                 10                   100  110.0               106   \n",
              "5                  0                    84   71.0               269   \n",
              "\n",
              "   review_scores_rating  review_scores_cleanliness  \\\n",
              "0                  4.89                       5.00   \n",
              "1                  4.83                       4.70   \n",
              "3                  4.38                       4.72   \n",
              "4                  4.70                       4.90   \n",
              "5                  4.73                       4.88   \n",
              "\n",
              "   review_scores_communication        room_type  \n",
              "0                         4.89     Private room  \n",
              "1                         4.98  Entire home/apt  \n",
              "3                         4.79  Entire home/apt  \n",
              "4                         4.50  Entire home/apt  \n",
              "5                         4.98  Entire home/apt  "
            ],
            "text/html": [
              "\n",
              "  <div id=\"df-1cbab8bf-c484-403f-9297-a37a8163743d\">\n",
              "    <div class=\"colab-df-container\">\n",
              "      <div>\n",
              "<style scoped>\n",
              "    .dataframe tbody tr th:only-of-type {\n",
              "        vertical-align: middle;\n",
              "    }\n",
              "\n",
              "    .dataframe tbody tr th {\n",
              "        vertical-align: top;\n",
              "    }\n",
              "\n",
              "    .dataframe thead th {\n",
              "        text-align: right;\n",
              "    }\n",
              "</style>\n",
              "<table border=\"1\" class=\"dataframe\">\n",
              "  <thead>\n",
              "    <tr style=\"text-align: right;\">\n",
              "      <th></th>\n",
              "      <th>number_of_reviews</th>\n",
              "      <th>host_acceptance_rate</th>\n",
              "      <th>price</th>\n",
              "      <th>availability_365</th>\n",
              "      <th>review_scores_rating</th>\n",
              "      <th>review_scores_cleanliness</th>\n",
              "      <th>review_scores_communication</th>\n",
              "      <th>room_type</th>\n",
              "    </tr>\n",
              "  </thead>\n",
              "  <tbody>\n",
              "    <tr>\n",
              "      <th>0</th>\n",
              "      <td>9</td>\n",
              "      <td>100</td>\n",
              "      <td>59.0</td>\n",
              "      <td>351</td>\n",
              "      <td>4.89</td>\n",
              "      <td>5.00</td>\n",
              "      <td>4.89</td>\n",
              "      <td>Private room</td>\n",
              "    </tr>\n",
              "    <tr>\n",
              "      <th>1</th>\n",
              "      <td>54</td>\n",
              "      <td>100</td>\n",
              "      <td>110.0</td>\n",
              "      <td>151</td>\n",
              "      <td>4.83</td>\n",
              "      <td>4.70</td>\n",
              "      <td>4.98</td>\n",
              "      <td>Entire home/apt</td>\n",
              "    </tr>\n",
              "    <tr>\n",
              "      <th>3</th>\n",
              "      <td>30</td>\n",
              "      <td>93</td>\n",
              "      <td>180.0</td>\n",
              "      <td>60</td>\n",
              "      <td>4.38</td>\n",
              "      <td>4.72</td>\n",
              "      <td>4.79</td>\n",
              "      <td>Entire home/apt</td>\n",
              "    </tr>\n",
              "    <tr>\n",
              "      <th>4</th>\n",
              "      <td>10</td>\n",
              "      <td>100</td>\n",
              "      <td>110.0</td>\n",
              "      <td>106</td>\n",
              "      <td>4.70</td>\n",
              "      <td>4.90</td>\n",
              "      <td>4.50</td>\n",
              "      <td>Entire home/apt</td>\n",
              "    </tr>\n",
              "    <tr>\n",
              "      <th>5</th>\n",
              "      <td>0</td>\n",
              "      <td>84</td>\n",
              "      <td>71.0</td>\n",
              "      <td>269</td>\n",
              "      <td>4.73</td>\n",
              "      <td>4.88</td>\n",
              "      <td>4.98</td>\n",
              "      <td>Entire home/apt</td>\n",
              "    </tr>\n",
              "  </tbody>\n",
              "</table>\n",
              "</div>\n",
              "      <button class=\"colab-df-convert\" onclick=\"convertToInteractive('df-1cbab8bf-c484-403f-9297-a37a8163743d')\"\n",
              "              title=\"Convert this dataframe to an interactive table.\"\n",
              "              style=\"display:none;\">\n",
              "        \n",
              "  <svg xmlns=\"http://www.w3.org/2000/svg\" height=\"24px\"viewBox=\"0 0 24 24\"\n",
              "       width=\"24px\">\n",
              "    <path d=\"M0 0h24v24H0V0z\" fill=\"none\"/>\n",
              "    <path d=\"M18.56 5.44l.94 2.06.94-2.06 2.06-.94-2.06-.94-.94-2.06-.94 2.06-2.06.94zm-11 1L8.5 8.5l.94-2.06 2.06-.94-2.06-.94L8.5 2.5l-.94 2.06-2.06.94zm10 10l.94 2.06.94-2.06 2.06-.94-2.06-.94-.94-2.06-.94 2.06-2.06.94z\"/><path d=\"M17.41 7.96l-1.37-1.37c-.4-.4-.92-.59-1.43-.59-.52 0-1.04.2-1.43.59L10.3 9.45l-7.72 7.72c-.78.78-.78 2.05 0 2.83L4 21.41c.39.39.9.59 1.41.59.51 0 1.02-.2 1.41-.59l7.78-7.78 2.81-2.81c.8-.78.8-2.07 0-2.86zM5.41 20L4 18.59l7.72-7.72 1.47 1.35L5.41 20z\"/>\n",
              "  </svg>\n",
              "      </button>\n",
              "      \n",
              "  <style>\n",
              "    .colab-df-container {\n",
              "      display:flex;\n",
              "      flex-wrap:wrap;\n",
              "      gap: 12px;\n",
              "    }\n",
              "\n",
              "    .colab-df-convert {\n",
              "      background-color: #E8F0FE;\n",
              "      border: none;\n",
              "      border-radius: 50%;\n",
              "      cursor: pointer;\n",
              "      display: none;\n",
              "      fill: #1967D2;\n",
              "      height: 32px;\n",
              "      padding: 0 0 0 0;\n",
              "      width: 32px;\n",
              "    }\n",
              "\n",
              "    .colab-df-convert:hover {\n",
              "      background-color: #E2EBFA;\n",
              "      box-shadow: 0px 1px 2px rgba(60, 64, 67, 0.3), 0px 1px 3px 1px rgba(60, 64, 67, 0.15);\n",
              "      fill: #174EA6;\n",
              "    }\n",
              "\n",
              "    [theme=dark] .colab-df-convert {\n",
              "      background-color: #3B4455;\n",
              "      fill: #D2E3FC;\n",
              "    }\n",
              "\n",
              "    [theme=dark] .colab-df-convert:hover {\n",
              "      background-color: #434B5C;\n",
              "      box-shadow: 0px 1px 3px 1px rgba(0, 0, 0, 0.15);\n",
              "      filter: drop-shadow(0px 1px 2px rgba(0, 0, 0, 0.3));\n",
              "      fill: #FFFFFF;\n",
              "    }\n",
              "  </style>\n",
              "\n",
              "      <script>\n",
              "        const buttonEl =\n",
              "          document.querySelector('#df-1cbab8bf-c484-403f-9297-a37a8163743d button.colab-df-convert');\n",
              "        buttonEl.style.display =\n",
              "          google.colab.kernel.accessAllowed ? 'block' : 'none';\n",
              "\n",
              "        async function convertToInteractive(key) {\n",
              "          const element = document.querySelector('#df-1cbab8bf-c484-403f-9297-a37a8163743d');\n",
              "          const dataTable =\n",
              "            await google.colab.kernel.invokeFunction('convertToInteractive',\n",
              "                                                     [key], {});\n",
              "          if (!dataTable) return;\n",
              "\n",
              "          const docLinkHtml = 'Like what you see? Visit the ' +\n",
              "            '<a target=\"_blank\" href=https://colab.research.google.com/notebooks/data_table.ipynb>data table notebook</a>'\n",
              "            + ' to learn more about interactive tables.';\n",
              "          element.innerHTML = '';\n",
              "          dataTable['output_type'] = 'display_data';\n",
              "          await google.colab.output.renderOutput(dataTable, element);\n",
              "          const docLink = document.createElement('div');\n",
              "          docLink.innerHTML = docLinkHtml;\n",
              "          element.appendChild(docLink);\n",
              "        }\n",
              "      </script>\n",
              "    </div>\n",
              "  </div>\n",
              "  "
            ]
          },
          "metadata": {},
          "execution_count": 14
        }
      ]
    },
    {
      "cell_type": "code",
      "source": [
        "fig, axs = plt.subplots(ncols=7, figsize=(16,8))\n",
        "index=0\n",
        "axs=axs.flatten()\n",
        "copiadf=df.copy()\n",
        "copiadf=copiadf.drop('room_type', axis=1)\n",
        "for k, v in copiadf.items(): # k variable, v valores\n",
        "  sns.boxplot(y=k, data=df, ax=axs[index])\n",
        "  index += 1\n",
        "plt.tight_layout(pad=0.4)"
      ],
      "metadata": {
        "colab": {
          "base_uri": "https://localhost:8080/",
          "height": 599
        },
        "id": "pDhYcBjEuoBA",
        "outputId": "72166ef7-fd7c-4513-fee1-571553bffbc7"
      },
      "execution_count": 15,
      "outputs": [
        {
          "output_type": "display_data",
          "data": {
            "text/plain": [
              "<Figure size 1152x576 with 7 Axes>"
            ],
            "image/png": "[encoded data removed]"
          },
          "metadata": {
            "needs_background": "light"
          }
        }
      ]
    },
    {
      "cell_type": "markdown",
      "source": [
        "#PUNTO 4"
      ],
      "metadata": {
        "id": "YP5ucEjLFKpq"
      }
    },
    {
      "cell_type": "code",
      "source": [
        "#División en 3 DataFrames\n",
        "\n",
        "Home=df[df['room_type']=='Entire home/apt']\n",
        "Room=df[df['room_type']=='Private room']\n",
        "Shared=df[df['room_type']=='Shared room']\n",
        "Hotel=df[df['room_type']=='Hotel room']\n",
        "print(Home.shape)\n",
        "print(Room.shape)\n",
        "print(Shared.shape)\n",
        "print(Hotel.shape)"
      ],
      "metadata": {
        "colab": {
          "base_uri": "https://localhost:8080/"
        },
        "id": "tzKSlzldeUXm",
        "outputId": "8cbd31a6-6884-4857-8d1d-8f9eca203616"
      },
      "execution_count": 16,
      "outputs": [
        {
          "output_type": "stream",
          "name": "stdout",
          "text": [
            "(6093, 8)\n",
            "(3589, 8)\n",
            "(109, 8)\n",
            "(116, 8)\n"
          ]
        }
      ]
    },
    {
      "cell_type": "code",
      "source": [
        "def correlaciones(i):\n",
        "  print('number_of_reviews vs host_acceptance_rate: ',abs(i['number_of_reviews'].corr(i['host_acceptance_rate'])))\n",
        "  print('number_of_reviews  vs review_scores_rating: ',abs(i['number_of_reviews'].corr(i['review_scores_rating'])))\n",
        "  print('number_of_reviews  vs price: ',abs(i['number_of_reviews'].corr(i['price'])))\n",
        "  print('number_of_reviews  vs review_scores_cleanliness: ',abs(i['number_of_reviews'].corr(i['review_scores_cleanliness'])))\n",
        "  print('number_of_reviews  vs availability_365: ',abs(i['number_of_reviews'].corr(i['availability_365'])))\n",
        "  print('number_of_reviews  vs review_scores_communication: ',abs(i['number_of_reviews'].corr(i['review_scores_communication'])))"
      ],
      "metadata": {
        "id": "hWRKJqhaZKe5"
      },
      "execution_count": 17,
      "outputs": []
    },
    {
      "cell_type": "code",
      "source": [
        "#Mapa de correlaciones\n",
        "Corr_Factors=Home.corr()\n",
        "Corr_Factors_abs= abs(Corr_Factors)\n",
        "mask=np.triu(np.ones_like(df.corr(),dtype=bool))\n",
        "Heat_Map=sns.heatmap(Corr_Factors_abs, annot=True,mask=mask, fmt='.2f')\n",
        "Heat_Map"
      ],
      "metadata": {
        "colab": {
          "base_uri": "https://localhost:8080/",
          "height": 424
        },
        "id": "FnM2euuodOoC",
        "outputId": "c6799182-1f35-4899-a5dd-1a9a3df6f3cf"
      },
      "execution_count": 18,
      "outputs": [
        {
          "output_type": "execute_result",
          "data": {
            "text/plain": [
              "<matplotlib.axes._subplots.AxesSubplot at 0x7fd4c0e47ad0>"
            ]
          },
          "metadata": {},
          "execution_count": 18
        },
        {
          "output_type": "display_data",
          "data": {
            "text/plain": [
              "<Figure size 432x288 with 2 Axes>"
            ],
            "image/png": "[encoded data removed]"
          },
          "metadata": {
            "needs_background": "light"
          }
        }
      ]
    },
    {
      "cell_type": "code",
      "source": [
        "correlaciones(Home)"
      ],
      "metadata": {
        "colab": {
          "base_uri": "https://localhost:8080/"
        },
        "id": "ChGMilBFbafs",
        "outputId": "813af680-02cf-4928-d729-10f8e73e972d"
      },
      "execution_count": 19,
      "outputs": [
        {
          "output_type": "stream",
          "name": "stdout",
          "text": [
            "number_of_reviews vs host_acceptance_rate:  0.13710557833119638\n",
            "number_of_reviews  vs review_scores_rating:  0.12832830735600964\n",
            "number_of_reviews  vs price:  0.27572259336342964\n",
            "number_of_reviews  vs review_scores_cleanliness:  0.05366820349665364\n",
            "number_of_reviews  vs availability_365:  0.04784738517088788\n",
            "number_of_reviews  vs review_scores_communication:  0.1374003376856906\n"
          ]
        }
      ]
    },
    {
      "cell_type": "code",
      "source": [
        "#Mapa de correlaciones\n",
        "Corr_Factors=Room.corr()\n",
        "Corr_Factors_abs= abs(Corr_Factors)\n",
        "mask=np.triu(np.ones_like(df.corr(),dtype=bool))\n",
        "Heat_Map=sns.heatmap(Corr_Factors_abs, annot=True, mask=mask, fmt='.2f')\n",
        "Heat_Map"
      ],
      "metadata": {
        "colab": {
          "base_uri": "https://localhost:8080/",
          "height": 424
        },
        "id": "lS2HdhPDhXe4",
        "outputId": "ebb99193-d874-40b5-d6d8-049b51d394f0"
      },
      "execution_count": 20,
      "outputs": [
        {
          "output_type": "execute_result",
          "data": {
            "text/plain": [
              "<matplotlib.axes._subplots.AxesSubplot at 0x7fd4c0d60490>"
            ]
          },
          "metadata": {},
          "execution_count": 20
        },
        {
          "output_type": "display_data",
          "data": {
            "text/plain": [
              "<Figure size 432x288 with 2 Axes>"
            ],
            "image/png": "[encoded data removed]"
          },
          "metadata": {
            "needs_background": "light"
          }
        }
      ]
    },
    {
      "cell_type": "code",
      "source": [
        "correlaciones(Room)"
      ],
      "metadata": {
        "colab": {
          "base_uri": "https://localhost:8080/"
        },
        "id": "SzVc9IhebhPN",
        "outputId": "9abde4e3-9876-4f10-866b-57c1a4c281e4"
      },
      "execution_count": 21,
      "outputs": [
        {
          "output_type": "stream",
          "name": "stdout",
          "text": [
            "number_of_reviews vs host_acceptance_rate:  0.003973107881781965\n",
            "number_of_reviews  vs review_scores_rating:  0.08093414247555429\n",
            "number_of_reviews  vs price:  0.10398596809296198\n",
            "number_of_reviews  vs review_scores_cleanliness:  0.037339360458459425\n",
            "number_of_reviews  vs availability_365:  0.09576636110420295\n",
            "number_of_reviews  vs review_scores_communication:  0.1187714909587272\n"
          ]
        }
      ]
    },
    {
      "cell_type": "code",
      "source": [
        "#Mapa de correlaciones\n",
        "Corr_Factors=Shared.corr()\n",
        "Corr_Factors_abs= abs(Corr_Factors)\n",
        "mask=np.triu(np.ones_like(df.corr(),dtype=bool))\n",
        "Heat_Map=sns.heatmap(Corr_Factors_abs, annot=True, mask=mask,fmt='.2f')\n",
        "Heat_Map"
      ],
      "metadata": {
        "id": "dkEwxyGAhbQl",
        "outputId": "abe37ece-ad45-4b35-eda8-d296be12b531",
        "colab": {
          "base_uri": "https://localhost:8080/",
          "height": 424
        }
      },
      "execution_count": 22,
      "outputs": [
        {
          "output_type": "execute_result",
          "data": {
            "text/plain": [
              "<matplotlib.axes._subplots.AxesSubplot at 0x7fd4c0df9d50>"
            ]
          },
          "metadata": {},
          "execution_count": 22
        },
        {
          "output_type": "display_data",
          "data": {
            "text/plain": [
              "<Figure size 432x288 with 2 Axes>"
            ],
            "image/png": "[encoded data removed]"
          },
          "metadata": {
            "needs_background": "light"
          }
        }
      ]
    },
    {
      "cell_type": "code",
      "source": [
        "correlaciones(Shared)"
      ],
      "metadata": {
        "colab": {
          "base_uri": "https://localhost:8080/"
        },
        "id": "op6ILqdCbnVh",
        "outputId": "4bdc3942-4a43-45af-80da-304e314c9bf8"
      },
      "execution_count": 23,
      "outputs": [
        {
          "output_type": "stream",
          "name": "stdout",
          "text": [
            "number_of_reviews vs host_acceptance_rate:  0.047385775342589725\n",
            "number_of_reviews  vs review_scores_rating:  0.15793237240214625\n",
            "number_of_reviews  vs price:  0.09974121818280315\n",
            "number_of_reviews  vs review_scores_cleanliness:  0.09449950743711462\n",
            "number_of_reviews  vs availability_365:  0.007370907620454065\n",
            "number_of_reviews  vs review_scores_communication:  0.15915077507274838\n"
          ]
        }
      ]
    },
    {
      "cell_type": "code",
      "source": [
        "#Mapa de correlaciones\n",
        "Corr_Factors=Hotel.corr()\n",
        "Corr_Factors_abs= abs(Corr_Factors)\n",
        "mask=np.triu(np.ones_like(df.corr(),dtype=bool))\n",
        "Heat_Map=sns.heatmap(Corr_Factors_abs, annot=True, mask=mask,fmt='.2f')\n",
        "Heat_Map"
      ],
      "metadata": {
        "colab": {
          "base_uri": "https://localhost:8080/",
          "height": 424
        },
        "id": "2DdNJpiuI9TD",
        "outputId": "64353b33-1b0d-41ca-a426-9ddb333a87bd"
      },
      "execution_count": 24,
      "outputs": [
        {
          "output_type": "execute_result",
          "data": {
            "text/plain": [
              "<matplotlib.axes._subplots.AxesSubplot at 0x7fd4c0b94710>"
            ]
          },
          "metadata": {},
          "execution_count": 24
        },
        {
          "output_type": "display_data",
          "data": {
            "text/plain": [
              "<Figure size 432x288 with 2 Axes>"
            ],
            "image/png": "[encoded data removed]"
          },
          "metadata": {
            "needs_background": "light"
          }
        }
      ]
    },
    {
      "cell_type": "code",
      "source": [
        "correlaciones(Hotel)"
      ],
      "metadata": {
        "colab": {
          "base_uri": "https://localhost:8080/"
        },
        "id": "Yi_kn4uIJB2E",
        "outputId": "fabcf518-742f-4c98-8905-6652372ad2e0"
      },
      "execution_count": 25,
      "outputs": [
        {
          "output_type": "stream",
          "name": "stdout",
          "text": [
            "number_of_reviews vs host_acceptance_rate:  0.058094593018926326\n",
            "number_of_reviews  vs review_scores_rating:  0.1656101750082596\n",
            "number_of_reviews  vs price:  0.31560632862029453\n",
            "number_of_reviews  vs review_scores_cleanliness:  0.04409387988002524\n",
            "number_of_reviews  vs availability_365:  0.0256207821220384\n",
            "number_of_reviews  vs review_scores_communication:  0.2678139300399419\n"
          ]
        }
      ]
    },
    {
      "cell_type": "markdown",
      "source": [
        "#PUNTO 5"
      ],
      "metadata": {
        "id": "JYa-PxAge3mI"
      }
    },
    {
      "cell_type": "markdown",
      "source": [
        "HOME"
      ],
      "metadata": {
        "id": "QZoK_2PxDhJY"
      }
    },
    {
      "cell_type": "code",
      "source": [
        "Home.columns"
      ],
      "metadata": {
        "colab": {
          "base_uri": "https://localhost:8080/"
        },
        "id": "QslQvAmGNoJD",
        "outputId": "49870aec-bac2-45c9-e777-cffa4b8fdb27"
      },
      "execution_count": 28,
      "outputs": [
        {
          "output_type": "execute_result",
          "data": {
            "text/plain": [
              "Index(['number_of_reviews', 'host_acceptance_rate', 'price',\n",
              "       'availability_365', 'review_scores_rating', 'review_scores_cleanliness',\n",
              "       'review_scores_communication', 'room_type'],\n",
              "      dtype='object')"
            ]
          },
          "metadata": {},
          "execution_count": 28
        }
      ]
    },
    {
      "cell_type": "code",
      "source": [
        "from sklearn.linear_model import LinearRegression\n",
        "model=LinearRegression()\n",
        "type(model)"
      ],
      "metadata": {
        "id": "5_JSqIZ7e6in",
        "colab": {
          "base_uri": "https://localhost:8080/"
        },
        "outputId": "ecb75161-a823-478e-f0b3-9b3809083794"
      },
      "execution_count": 29,
      "outputs": [
        {
          "output_type": "execute_result",
          "data": {
            "text/plain": [
              "sklearn.linear_model._base.LinearRegression"
            ]
          },
          "metadata": {},
          "execution_count": 29
        }
      ]
    },
    {
      "cell_type": "code",
      "source": [
        "Var_Dep=Home['number_of_reviews']\n",
        "Var_Indep=Home[['host_acceptance_rate', 'price',\n",
        "       'availability_365', 'review_scores_rating', 'review_scores_cleanliness',\n",
        "       'review_scores_communication']]"
      ],
      "metadata": {
        "id": "Wc0cy2vrDHVQ"
      },
      "execution_count": 30,
      "outputs": []
    },
    {
      "cell_type": "code",
      "source": [
        "model.fit(X=Var_Indep, y=Var_Dep)\n",
        "model.__dict__\n",
        "model.score(X=Var_Indep,y=Var_Dep)"
      ],
      "metadata": {
        "colab": {
          "base_uri": "https://localhost:8080/"
        },
        "id": "SCF5WpuoEd5r",
        "outputId": "e4aabaf0-aacf-425e-c1a7-8ed2efab8b84"
      },
      "execution_count": 31,
      "outputs": [
        {
          "output_type": "execute_result",
          "data": {
            "text/plain": [
              "0.09940971617904604"
            ]
          },
          "metadata": {},
          "execution_count": 31
        }
      ]
    },
    {
      "cell_type": "markdown",
      "source": [
        "PRIVATE ROOM"
      ],
      "metadata": {
        "id": "kSqWR6uDG35R"
      }
    },
    {
      "cell_type": "code",
      "source": [
        "modelP=LinearRegression()\n",
        "type(model)"
      ],
      "metadata": {
        "colab": {
          "base_uri": "https://localhost:8080/"
        },
        "id": "gzjQXhOHHWSp",
        "outputId": "0cafba0d-ee1f-4a40-9299-fe21b06e3742"
      },
      "execution_count": 32,
      "outputs": [
        {
          "output_type": "execute_result",
          "data": {
            "text/plain": [
              "sklearn.linear_model._base.LinearRegression"
            ]
          },
          "metadata": {},
          "execution_count": 32
        }
      ]
    },
    {
      "cell_type": "code",
      "source": [
        "PVar_Dep=Room['number_of_reviews']\n",
        "PVar_Indep=Room[['host_acceptance_rate', 'price',\n",
        "       'availability_365', 'review_scores_rating', 'review_scores_cleanliness',\n",
        "       'review_scores_communication']]"
      ],
      "metadata": {
        "id": "4myvir8uG7EW"
      },
      "execution_count": 33,
      "outputs": []
    },
    {
      "cell_type": "code",
      "source": [
        "modelP.fit(X=PVar_Indep, y=PVar_Dep)\n",
        "modelP.__dict__\n",
        "modelP.score(X=PVar_Indep,y=PVar_Dep)"
      ],
      "metadata": {
        "colab": {
          "base_uri": "https://localhost:8080/"
        },
        "id": "f3ZkDOJnHSRO",
        "outputId": "cb02b0c6-04f6-4c9d-8a59-ea7f9a41e796"
      },
      "execution_count": 34,
      "outputs": [
        {
          "output_type": "execute_result",
          "data": {
            "text/plain": [
              "0.03353723327044611"
            ]
          },
          "metadata": {},
          "execution_count": 34
        }
      ]
    },
    {
      "cell_type": "markdown",
      "source": [
        "SHARED ROOM"
      ],
      "metadata": {
        "id": "KmtnBk0IIAOw"
      }
    },
    {
      "cell_type": "code",
      "source": [
        "modelS=LinearRegression()\n",
        "type(model)"
      ],
      "metadata": {
        "colab": {
          "base_uri": "https://localhost:8080/"
        },
        "id": "v5F16hmhICXT",
        "outputId": "ef1ce513-cd27-4138-c46b-25b1246a8ee2"
      },
      "execution_count": 35,
      "outputs": [
        {
          "output_type": "execute_result",
          "data": {
            "text/plain": [
              "sklearn.linear_model._base.LinearRegression"
            ]
          },
          "metadata": {},
          "execution_count": 35
        }
      ]
    },
    {
      "cell_type": "code",
      "source": [
        "SVar_Dep=Shared['number_of_reviews']\n",
        "SVar_Indep=Shared[['host_acceptance_rate', 'price',\n",
        "       'availability_365', 'review_scores_rating', 'review_scores_cleanliness',\n",
        "       'review_scores_communication']]"
      ],
      "metadata": {
        "id": "HOAoA07ZINl2"
      },
      "execution_count": 36,
      "outputs": []
    },
    {
      "cell_type": "code",
      "source": [
        "modelS.fit(X=SVar_Indep, y=SVar_Dep)\n",
        "modelS.__dict__\n",
        "modelS.score(X=SVar_Indep,y=SVar_Dep)"
      ],
      "metadata": {
        "colab": {
          "base_uri": "https://localhost:8080/"
        },
        "id": "fThf9WztIaB3",
        "outputId": "c8bb4632-2d8a-4d42-a1b6-9a4f1754bc30"
      },
      "execution_count": 37,
      "outputs": [
        {
          "output_type": "execute_result",
          "data": {
            "text/plain": [
              "0.0396105533636133"
            ]
          },
          "metadata": {},
          "execution_count": 37
        }
      ]
    },
    {
      "cell_type": "markdown",
      "source": [
        "HOTEL ROOM"
      ],
      "metadata": {
        "id": "UN-ihwWdJXW-"
      }
    },
    {
      "cell_type": "code",
      "source": [
        "modelH=LinearRegression()\n",
        "type(model)"
      ],
      "metadata": {
        "colab": {
          "base_uri": "https://localhost:8080/"
        },
        "id": "6vlZ9iJBJYti",
        "outputId": "88ce2a57-e2be-4137-c6d0-2b475857ece4"
      },
      "execution_count": 38,
      "outputs": [
        {
          "output_type": "execute_result",
          "data": {
            "text/plain": [
              "sklearn.linear_model._base.LinearRegression"
            ]
          },
          "metadata": {},
          "execution_count": 38
        }
      ]
    },
    {
      "cell_type": "code",
      "source": [
        "HVar_Dep=Hotel['number_of_reviews']\n",
        "HVar_Indep=Hotel[['host_acceptance_rate', 'price',\n",
        "       'availability_365', 'review_scores_rating', 'review_scores_cleanliness',\n",
        "       'review_scores_communication']]"
      ],
      "metadata": {
        "id": "J1i1dN8SJeaD"
      },
      "execution_count": 39,
      "outputs": []
    },
    {
      "cell_type": "code",
      "source": [
        "modelH.fit(X=HVar_Indep, y=HVar_Dep)\n",
        "modelH.__dict__\n",
        "modelH.score(X=HVar_Indep,y=HVar_Dep)"
      ],
      "metadata": {
        "colab": {
          "base_uri": "https://localhost:8080/"
        },
        "id": "N6_MB-SKJebg",
        "outputId": "6b254195-8a39-4d8a-a29e-5122c7afe403"
      },
      "execution_count": 40,
      "outputs": [
        {
          "output_type": "execute_result",
          "data": {
            "text/plain": [
              "0.1995223371459316"
            ]
          },
          "metadata": {},
          "execution_count": 40
        }
      ]
    },
    {
      "cell_type": "markdown",
      "source": [
        "#PUNTO 6"
      ],
      "metadata": {
        "id": "MKBsx98HFPxZ"
      }
    },
    {
      "cell_type": "code",
      "source": [
        "#Home\n",
        "coef_Deter=model.score(X=Var_Indep,y=Var_Dep)\n",
        "coef_Deter"
      ],
      "metadata": {
        "colab": {
          "base_uri": "https://localhost:8080/"
        },
        "id": "2_uX75B9FTBI",
        "outputId": "cb78da87-dd14-4ed8-fce9-951f9d09f506"
      },
      "execution_count": 41,
      "outputs": [
        {
          "output_type": "execute_result",
          "data": {
            "text/plain": [
              "0.09940971617904604"
            ]
          },
          "metadata": {},
          "execution_count": 41
        }
      ]
    },
    {
      "cell_type": "code",
      "source": [
        "#Home\n",
        "coef_Correl=np.sqrt(coef_Deter)\n",
        "coef_Correl"
      ],
      "metadata": {
        "colab": {
          "base_uri": "https://localhost:8080/"
        },
        "id": "kcuUN4ZFFagr",
        "outputId": "73caf674-a6e8-4f4b-8dd8-279a95f39018"
      },
      "execution_count": 42,
      "outputs": [
        {
          "output_type": "execute_result",
          "data": {
            "text/plain": [
              "0.31529306395644996"
            ]
          },
          "metadata": {},
          "execution_count": 42
        }
      ]
    },
    {
      "cell_type": "code",
      "source": [
        "#Private Room\n",
        "coef_DeterP=modelP.score(X=PVar_Indep,y=PVar_Dep)\n",
        "coef_DeterP"
      ],
      "metadata": {
        "colab": {
          "base_uri": "https://localhost:8080/"
        },
        "id": "k6xVqRhTFhLo",
        "outputId": "5e31a378-7b6c-4f1f-d651-43986fa805fb"
      },
      "execution_count": 43,
      "outputs": [
        {
          "output_type": "execute_result",
          "data": {
            "text/plain": [
              "0.03353723327044611"
            ]
          },
          "metadata": {},
          "execution_count": 43
        }
      ]
    },
    {
      "cell_type": "code",
      "source": [
        "#Private Room\n",
        "coef_Correlp=np.sqrt(coef_DeterP)\n",
        "coef_Correlp"
      ],
      "metadata": {
        "colab": {
          "base_uri": "https://localhost:8080/"
        },
        "id": "vy2iQFCiFlae",
        "outputId": "4bbf118e-b58b-461c-adbd-c75e984acf1b"
      },
      "execution_count": 44,
      "outputs": [
        {
          "output_type": "execute_result",
          "data": {
            "text/plain": [
              "0.1831317374745462"
            ]
          },
          "metadata": {},
          "execution_count": 44
        }
      ]
    },
    {
      "cell_type": "code",
      "source": [
        "#Shared Room\n",
        "coef_Deters=modelS.score(X=SVar_Indep,y=SVar_Dep)\n",
        "coef_Deters"
      ],
      "metadata": {
        "colab": {
          "base_uri": "https://localhost:8080/"
        },
        "id": "PEjv9R3ZFsWi",
        "outputId": "aecbc98d-70ce-4bdd-b8dd-b9792a02d944"
      },
      "execution_count": 45,
      "outputs": [
        {
          "output_type": "execute_result",
          "data": {
            "text/plain": [
              "0.0396105533636133"
            ]
          },
          "metadata": {},
          "execution_count": 45
        }
      ]
    },
    {
      "cell_type": "code",
      "source": [
        "#Shared Room\n",
        "coef_Correls=np.sqrt(coef_Deters)\n",
        "coef_Correls"
      ],
      "metadata": {
        "colab": {
          "base_uri": "https://localhost:8080/"
        },
        "id": "tf-1bfkrF2vg",
        "outputId": "91fc2b35-ae82-43f7-c42d-2fcabb289005"
      },
      "execution_count": 46,
      "outputs": [
        {
          "output_type": "execute_result",
          "data": {
            "text/plain": [
              "0.19902400197868925"
            ]
          },
          "metadata": {},
          "execution_count": 46
        }
      ]
    },
    {
      "cell_type": "code",
      "source": [
        "#Hotel Room\n",
        "coef_Deterh=modelH.score(X=HVar_Indep,y=HVar_Dep)\n",
        "coef_Deterh"
      ],
      "metadata": {
        "colab": {
          "base_uri": "https://localhost:8080/"
        },
        "id": "sEPUS-2fJPDn",
        "outputId": "2767ca7d-61dc-4fd9-ec4d-9fc993942f09"
      },
      "execution_count": 47,
      "outputs": [
        {
          "output_type": "execute_result",
          "data": {
            "text/plain": [
              "0.1995223371459316"
            ]
          },
          "metadata": {},
          "execution_count": 47
        }
      ]
    },
    {
      "cell_type": "code",
      "source": [
        "#Hotel Room\n",
        "coef_Correlh=np.sqrt(coef_Deterh)\n",
        "coef_Correlh"
      ],
      "metadata": {
        "colab": {
          "base_uri": "https://localhost:8080/"
        },
        "id": "BQayKwo_JO5s",
        "outputId": "cf4e5605-c06e-4fbd-d057-ef938d297674"
      },
      "execution_count": 48,
      "outputs": [
        {
          "output_type": "execute_result",
          "data": {
            "text/plain": [
              "0.4466792329467888"
            ]
          },
          "metadata": {},
          "execution_count": 48
        }
      ]
    },
    {
      "cell_type": "code",
      "source": [
        "Tabla = pd.DataFrame()"
      ],
      "metadata": {
        "id": "XwGUJSF0F4-F"
      },
      "execution_count": 49,
      "outputs": []
    },
    {
      "cell_type": "code",
      "source": [
        "Tabla['Tipo de habitacion'] = ['Entire room/apt', 'Private room', 'Shared room', 'Hotel room']\n",
        "Tabla['Coef_det']=[coef_Deter,coef_DeterP,coef_Deters,coef_Deterh]\n",
        "Tabla['Coef_Correl']=[coef_Correl,coef_Correlp,coef_Correls,coef_Correlh]"
      ],
      "metadata": {
        "id": "vFCmz-J3F7kP"
      },
      "execution_count": 50,
      "outputs": []
    },
    {
      "cell_type": "code",
      "source": [
        "print(Tabla)"
      ],
      "metadata": {
        "colab": {
          "base_uri": "https://localhost:8080/"
        },
        "id": "lY2N8Q3CKCgb",
        "outputId": "2c8ec9d3-fa01-4f5c-d6cb-952796a0d887"
      },
      "execution_count": 51,
      "outputs": [
        {
          "output_type": "stream",
          "name": "stdout",
          "text": [
            "  Tipo de habitacion  Coef_det  Coef_Correl\n",
            "0    Entire room/apt  0.099410     0.315293\n",
            "1       Private room  0.033537     0.183132\n",
            "2        Shared room  0.039611     0.199024\n",
            "3         Hotel room  0.199522     0.446679\n"
          ]
        }
      ]
    }
  ]
}