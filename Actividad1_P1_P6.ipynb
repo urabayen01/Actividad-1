{
  "nbformat": 4,
  "nbformat_minor": 0,
  "metadata": {
    "colab": {
      "provenance": [],
      "collapsed_sections": [],
      "include_colab_link": true
    },
    "kernelspec": {
      "name": "python3",
      "display_name": "Python 3"
    },
    "language_info": {
      "name": "python"
    }
  },
  "cells": [
    {
      "cell_type": "markdown",
      "metadata": {
        "id": "view-in-github",
        "colab_type": "text"
      },
      "source": [
        "<a href=\"https://colab.research.google.com/github/urabayen01/Actividad-1/blob/main/Actividad1_P1_P6.ipynb\" target=\"_parent\"><img src=\"https://colab.research.google.com/assets/colab-badge.svg\" alt=\"Open In Colab\"/></a>"
      ]
    },
    {
      "cell_type": "markdown",
      "source": [
        "Modelo de Regresión lineal simple con Dataset de Airbnb Ciudad de México"
      ],
      "metadata": {
        "id": "K2AK0OZIs1q2"
      }
    },
    {
      "cell_type": "code",
      "execution_count": 90,
      "metadata": {
        "id": "SGkyrVfIfihY"
      },
      "outputs": [],
      "source": [
        "#importar Librerías"
      ]
    },
    {
      "cell_type": "code",
      "source": [
        "import pandas as pd\n",
        "import numpy as np\n",
        "import matplotlib.pyplot as plt\n",
        "import seaborn as sns\n",
        "from numpy import nan as NaN"
      ],
      "metadata": {
        "id": "eSjXzyWoizie"
      },
      "execution_count": 91,
      "outputs": []
    },
    {
      "cell_type": "code",
      "source": [
        "#Leer datos\n",
        "\n",
        "df=pd.read_csv('listings.csv')\n",
        "df.head()"
      ],
      "metadata": {
        "colab": {
          "base_uri": "https://localhost:8080/",
          "height": 646
        },
        "id": "jyfk-7UKi9VP",
        "outputId": "699c75ba-59e1-454e-95e8-04c4487d8640"
      },
      "execution_count": 92,
      "outputs": [
        {
          "output_type": "execute_result",
          "data": {
            "text/plain": [
              "      id                         listing_url       scrape_id last_scraped  \\\n",
              "0   2818   https://www.airbnb.com/rooms/2818  20220907151523   2022-09-07   \n",
              "1  20168  https://www.airbnb.com/rooms/20168  20220907151523   2022-09-07   \n",
              "2  27886  https://www.airbnb.com/rooms/27886  20220907151523   2022-09-07   \n",
              "3  28871  https://www.airbnb.com/rooms/28871  20220907151523   2022-09-07   \n",
              "4  29051  https://www.airbnb.com/rooms/29051  20220907151523   2022-09-07   \n",
              "\n",
              "            source                                               name  \\\n",
              "0      city scrape           Quiet Garden View Room & Super Fast WiFi   \n",
              "1  previous scrape       Studio with private bathroom in the centre 1   \n",
              "2      city scrape  Romantic, stylish B&B houseboat in canal district   \n",
              "3      city scrape                            Comfortable double room   \n",
              "4      city scrape                            Comfortable single room   \n",
              "\n",
              "                                         description  \\\n",
              "0  Quiet Garden View Room & Super Fast WiFi<br />...   \n",
              "1  17th century Dutch townhouse in the heart of t...   \n",
              "2  Stylish and romantic houseboat on fantastic hi...   \n",
              "3  <b>The space</b><br />In a monumental house ri...   \n",
              "4  This room can also accomodate 2 people.  For a...   \n",
              "\n",
              "                               neighborhood_overview  \\\n",
              "0  Indische Buurt (\"Indies Neighborhood\") is a ne...   \n",
              "1  Located just in between famous central canals....   \n",
              "2         Central, quiet, safe, clean and beautiful.   \n",
              "3       Flower market , Leidseplein , Rembrantsplein   \n",
              "4  the street is quite lively especially on weeke...   \n",
              "\n",
              "                                         picture_url  host_id  ...  \\\n",
              "0  https://a0.muscache.com/pictures/10272854/8dcc...     3159  ...   \n",
              "1  https://a0.muscache.com/pictures/69979628/fd6a...    59484  ...   \n",
              "2  https://a0.muscache.com/pictures/02c2da9d-660e...    97647  ...   \n",
              "3  https://a0.muscache.com/pictures/160889/362340...   124245  ...   \n",
              "4  https://a0.muscache.com/pictures/162009/bd6be2...   124245  ...   \n",
              "\n",
              "  review_scores_communication review_scores_location review_scores_value  \\\n",
              "0                        4.98                   4.69                4.82   \n",
              "1                        4.62                   4.87                4.49   \n",
              "2                        4.92                   4.89                4.79   \n",
              "3                        4.94                   4.96                4.83   \n",
              "4                        4.92                   4.87                4.77   \n",
              "\n",
              "                    license instant_bookable calculated_host_listings_count  \\\n",
              "0  0363 5F3A 5684 6750 D14D                t                              1   \n",
              "1  0363 CBB3 2C10 0C2A 1E29                t                              2   \n",
              "2  0363 974D 4986 7411 88D8                t                              1   \n",
              "3  0363 607B EA74 0BD8 2F6F                f                              2   \n",
              "4  0363 607B EA74 0BD8 2F6F                f                              2   \n",
              "\n",
              "  calculated_host_listings_count_entire_homes  \\\n",
              "0                                           0   \n",
              "1                                           0   \n",
              "2                                           0   \n",
              "3                                           0   \n",
              "4                                           0   \n",
              "\n",
              "  calculated_host_listings_count_private_rooms  \\\n",
              "0                                            1   \n",
              "1                                            2   \n",
              "2                                            1   \n",
              "3                                            2   \n",
              "4                                            2   \n",
              "\n",
              "  calculated_host_listings_count_shared_rooms reviews_per_month  \n",
              "0                                           0              1.86  \n",
              "1                                           0              2.22  \n",
              "2                                           0              1.78  \n",
              "3                                           0              2.92  \n",
              "4                                           0              4.16  \n",
              "\n",
              "[5 rows x 75 columns]"
            ],
            "text/html": [
              "\n",
              "  <div id=\"df-02f3a143-b558-4973-a0da-4b213b547446\">\n",
              "    <div class=\"colab-df-container\">\n",
              "      <div>\n",
              "<style scoped>\n",
              "    .dataframe tbody tr th:only-of-type {\n",
              "        vertical-align: middle;\n",
              "    }\n",
              "\n",
              "    .dataframe tbody tr th {\n",
              "        vertical-align: top;\n",
              "    }\n",
              "\n",
              "    .dataframe thead th {\n",
              "        text-align: right;\n",
              "    }\n",
              "</style>\n",
              "<table border=\"1\" class=\"dataframe\">\n",
              "  <thead>\n",
              "    <tr style=\"text-align: right;\">\n",
              "      <th></th>\n",
              "      <th>id</th>\n",
              "      <th>listing_url</th>\n",
              "      <th>scrape_id</th>\n",
              "      <th>last_scraped</th>\n",
              "      <th>source</th>\n",
              "      <th>name</th>\n",
              "      <th>description</th>\n",
              "      <th>neighborhood_overview</th>\n",
              "      <th>picture_url</th>\n",
              "      <th>host_id</th>\n",
              "      <th>...</th>\n",
              "      <th>review_scores_communication</th>\n",
              "      <th>review_scores_location</th>\n",
              "      <th>review_scores_value</th>\n",
              "      <th>license</th>\n",
              "      <th>instant_bookable</th>\n",
              "      <th>calculated_host_listings_count</th>\n",
              "      <th>calculated_host_listings_count_entire_homes</th>\n",
              "      <th>calculated_host_listings_count_private_rooms</th>\n",
              "      <th>calculated_host_listings_count_shared_rooms</th>\n",
              "      <th>reviews_per_month</th>\n",
              "    </tr>\n",
              "  </thead>\n",
              "  <tbody>\n",
              "    <tr>\n",
              "      <th>0</th>\n",
              "      <td>2818</td>\n",
              "      <td>https://www.airbnb.com/rooms/2818</td>\n",
              "      <td>20220907151523</td>\n",
              "      <td>2022-09-07</td>\n",
              "      <td>city scrape</td>\n",
              "      <td>Quiet Garden View Room &amp; Super Fast WiFi</td>\n",
              "      <td>Quiet Garden View Room &amp; Super Fast WiFi&lt;br /&gt;...</td>\n",
              "      <td>Indische Buurt (\"Indies Neighborhood\") is a ne...</td>\n",
              "      <td>https://a0.muscache.com/pictures/10272854/8dcc...</td>\n",
              "      <td>3159</td>\n",
              "      <td>...</td>\n",
              "      <td>4.98</td>\n",
              "      <td>4.69</td>\n",
              "      <td>4.82</td>\n",
              "      <td>0363 5F3A 5684 6750 D14D</td>\n",
              "      <td>t</td>\n",
              "      <td>1</td>\n",
              "      <td>0</td>\n",
              "      <td>1</td>\n",
              "      <td>0</td>\n",
              "      <td>1.86</td>\n",
              "    </tr>\n",
              "    <tr>\n",
              "      <th>1</th>\n",
              "      <td>20168</td>\n",
              "      <td>https://www.airbnb.com/rooms/20168</td>\n",
              "      <td>20220907151523</td>\n",
              "      <td>2022-09-07</td>\n",
              "      <td>previous scrape</td>\n",
              "      <td>Studio with private bathroom in the centre 1</td>\n",
              "      <td>17th century Dutch townhouse in the heart of t...</td>\n",
              "      <td>Located just in between famous central canals....</td>\n",
              "      <td>https://a0.muscache.com/pictures/69979628/fd6a...</td>\n",
              "      <td>59484</td>\n",
              "      <td>...</td>\n",
              "      <td>4.62</td>\n",
              "      <td>4.87</td>\n",
              "      <td>4.49</td>\n",
              "      <td>0363 CBB3 2C10 0C2A 1E29</td>\n",
              "      <td>t</td>\n",
              "      <td>2</td>\n",
              "      <td>0</td>\n",
              "      <td>2</td>\n",
              "      <td>0</td>\n",
              "      <td>2.22</td>\n",
              "    </tr>\n",
              "    <tr>\n",
              "      <th>2</th>\n",
              "      <td>27886</td>\n",
              "      <td>https://www.airbnb.com/rooms/27886</td>\n",
              "      <td>20220907151523</td>\n",
              "      <td>2022-09-07</td>\n",
              "      <td>city scrape</td>\n",
              "      <td>Romantic, stylish B&amp;B houseboat in canal district</td>\n",
              "      <td>Stylish and romantic houseboat on fantastic hi...</td>\n",
              "      <td>Central, quiet, safe, clean and beautiful.</td>\n",
              "      <td>https://a0.muscache.com/pictures/02c2da9d-660e...</td>\n",
              "      <td>97647</td>\n",
              "      <td>...</td>\n",
              "      <td>4.92</td>\n",
              "      <td>4.89</td>\n",
              "      <td>4.79</td>\n",
              "      <td>0363 974D 4986 7411 88D8</td>\n",
              "      <td>t</td>\n",
              "      <td>1</td>\n",
              "      <td>0</td>\n",
              "      <td>1</td>\n",
              "      <td>0</td>\n",
              "      <td>1.78</td>\n",
              "    </tr>\n",
              "    <tr>\n",
              "      <th>3</th>\n",
              "      <td>28871</td>\n",
              "      <td>https://www.airbnb.com/rooms/28871</td>\n",
              "      <td>20220907151523</td>\n",
              "      <td>2022-09-07</td>\n",
              "      <td>city scrape</td>\n",
              "      <td>Comfortable double room</td>\n",
              "      <td>&lt;b&gt;The space&lt;/b&gt;&lt;br /&gt;In a monumental house ri...</td>\n",
              "      <td>Flower market , Leidseplein , Rembrantsplein</td>\n",
              "      <td>https://a0.muscache.com/pictures/160889/362340...</td>\n",
              "      <td>124245</td>\n",
              "      <td>...</td>\n",
              "      <td>4.94</td>\n",
              "      <td>4.96</td>\n",
              "      <td>4.83</td>\n",
              "      <td>0363 607B EA74 0BD8 2F6F</td>\n",
              "      <td>f</td>\n",
              "      <td>2</td>\n",
              "      <td>0</td>\n",
              "      <td>2</td>\n",
              "      <td>0</td>\n",
              "      <td>2.92</td>\n",
              "    </tr>\n",
              "    <tr>\n",
              "      <th>4</th>\n",
              "      <td>29051</td>\n",
              "      <td>https://www.airbnb.com/rooms/29051</td>\n",
              "      <td>20220907151523</td>\n",
              "      <td>2022-09-07</td>\n",
              "      <td>city scrape</td>\n",
              "      <td>Comfortable single room</td>\n",
              "      <td>This room can also accomodate 2 people.  For a...</td>\n",
              "      <td>the street is quite lively especially on weeke...</td>\n",
              "      <td>https://a0.muscache.com/pictures/162009/bd6be2...</td>\n",
              "      <td>124245</td>\n",
              "      <td>...</td>\n",
              "      <td>4.92</td>\n",
              "      <td>4.87</td>\n",
              "      <td>4.77</td>\n",
              "      <td>0363 607B EA74 0BD8 2F6F</td>\n",
              "      <td>f</td>\n",
              "      <td>2</td>\n",
              "      <td>0</td>\n",
              "      <td>2</td>\n",
              "      <td>0</td>\n",
              "      <td>4.16</td>\n",
              "    </tr>\n",
              "  </tbody>\n",
              "</table>\n",
              "<p>5 rows × 75 columns</p>\n",
              "</div>\n",
              "      <button class=\"colab-df-convert\" onclick=\"convertToInteractive('df-02f3a143-b558-4973-a0da-4b213b547446')\"\n",
              "              title=\"Convert this dataframe to an interactive table.\"\n",
              "              style=\"display:none;\">\n",
              "        \n",
              "  <svg xmlns=\"http://www.w3.org/2000/svg\" height=\"24px\"viewBox=\"0 0 24 24\"\n",
              "       width=\"24px\">\n",
              "    <path d=\"M0 0h24v24H0V0z\" fill=\"none\"/>\n",
              "    <path d=\"M18.56 5.44l.94 2.06.94-2.06 2.06-.94-2.06-.94-.94-2.06-.94 2.06-2.06.94zm-11 1L8.5 8.5l.94-2.06 2.06-.94-2.06-.94L8.5 2.5l-.94 2.06-2.06.94zm10 10l.94 2.06.94-2.06 2.06-.94-2.06-.94-.94-2.06-.94 2.06-2.06.94z\"/><path d=\"M17.41 7.96l-1.37-1.37c-.4-.4-.92-.59-1.43-.59-.52 0-1.04.2-1.43.59L10.3 9.45l-7.72 7.72c-.78.78-.78 2.05 0 2.83L4 21.41c.39.39.9.59 1.41.59.51 0 1.02-.2 1.41-.59l7.78-7.78 2.81-2.81c.8-.78.8-2.07 0-2.86zM5.41 20L4 18.59l7.72-7.72 1.47 1.35L5.41 20z\"/>\n",
              "  </svg>\n",
              "      </button>\n",
              "      \n",
              "  <style>\n",
              "    .colab-df-container {\n",
              "      display:flex;\n",
              "      flex-wrap:wrap;\n",
              "      gap: 12px;\n",
              "    }\n",
              "\n",
              "    .colab-df-convert {\n",
              "      background-color: #E8F0FE;\n",
              "      border: none;\n",
              "      border-radius: 50%;\n",
              "      cursor: pointer;\n",
              "      display: none;\n",
              "      fill: #1967D2;\n",
              "      height: 32px;\n",
              "      padding: 0 0 0 0;\n",
              "      width: 32px;\n",
              "    }\n",
              "\n",
              "    .colab-df-convert:hover {\n",
              "      background-color: #E2EBFA;\n",
              "      box-shadow: 0px 1px 2px rgba(60, 64, 67, 0.3), 0px 1px 3px 1px rgba(60, 64, 67, 0.15);\n",
              "      fill: #174EA6;\n",
              "    }\n",
              "\n",
              "    [theme=dark] .colab-df-convert {\n",
              "      background-color: #3B4455;\n",
              "      fill: #D2E3FC;\n",
              "    }\n",
              "\n",
              "    [theme=dark] .colab-df-convert:hover {\n",
              "      background-color: #434B5C;\n",
              "      box-shadow: 0px 1px 3px 1px rgba(0, 0, 0, 0.15);\n",
              "      filter: drop-shadow(0px 1px 2px rgba(0, 0, 0, 0.3));\n",
              "      fill: #FFFFFF;\n",
              "    }\n",
              "  </style>\n",
              "\n",
              "      <script>\n",
              "        const buttonEl =\n",
              "          document.querySelector('#df-02f3a143-b558-4973-a0da-4b213b547446 button.colab-df-convert');\n",
              "        buttonEl.style.display =\n",
              "          google.colab.kernel.accessAllowed ? 'block' : 'none';\n",
              "\n",
              "        async function convertToInteractive(key) {\n",
              "          const element = document.querySelector('#df-02f3a143-b558-4973-a0da-4b213b547446');\n",
              "          const dataTable =\n",
              "            await google.colab.kernel.invokeFunction('convertToInteractive',\n",
              "                                                     [key], {});\n",
              "          if (!dataTable) return;\n",
              "\n",
              "          const docLinkHtml = 'Like what you see? Visit the ' +\n",
              "            '<a target=\"_blank\" href=https://colab.research.google.com/notebooks/data_table.ipynb>data table notebook</a>'\n",
              "            + ' to learn more about interactive tables.';\n",
              "          element.innerHTML = '';\n",
              "          dataTable['output_type'] = 'display_data';\n",
              "          await google.colab.output.renderOutput(dataTable, element);\n",
              "          const docLink = document.createElement('div');\n",
              "          docLink.innerHTML = docLinkHtml;\n",
              "          element.appendChild(docLink);\n",
              "        }\n",
              "      </script>\n",
              "    </div>\n",
              "  </div>\n",
              "  "
            ]
          },
          "metadata": {},
          "execution_count": 92
        }
      ]
    },
    {
      "cell_type": "code",
      "source": [
        "#Solo tomamos las columnas de interés\n",
        "\n",
        "df=df[['number_of_reviews', 'host_acceptance_rate', 'price', 'availability_365', 'review_scores_rating', 'review_scores_cleanliness','review_scores_communication', 'room_type']]\n",
        "df.head()\n"
      ],
      "metadata": {
        "colab": {
          "base_uri": "https://localhost:8080/",
          "height": 206
        },
        "id": "caumnQ0EjZkT",
        "outputId": "6c508bce-e2eb-448f-d30e-52d2507ebcfd"
      },
      "execution_count": 93,
      "outputs": [
        {
          "output_type": "execute_result",
          "data": {
            "text/plain": [
              "   number_of_reviews host_acceptance_rate    price  availability_365  \\\n",
              "0                305                 100%   $49.00                14   \n",
              "1                339                  98%  $106.00                 0   \n",
              "2                231                 100%  $136.00               121   \n",
              "3                428                 100%   $75.00               117   \n",
              "4                582                 100%   $55.00               160   \n",
              "\n",
              "   review_scores_rating  review_scores_cleanliness  \\\n",
              "0                  4.89                       5.00   \n",
              "1                  4.44                       4.79   \n",
              "2                  4.94                       4.95   \n",
              "3                  4.88                       4.89   \n",
              "4                  4.79                       4.84   \n",
              "\n",
              "   review_scores_communication     room_type  \n",
              "0                         4.98  Private room  \n",
              "1                         4.62  Private room  \n",
              "2                         4.92  Private room  \n",
              "3                         4.94  Private room  \n",
              "4                         4.92  Private room  "
            ],
            "text/html": [
              "\n",
              "  <div id=\"df-5518cc67-f2ea-475f-8182-9a1d3ec04d2b\">\n",
              "    <div class=\"colab-df-container\">\n",
              "      <div>\n",
              "<style scoped>\n",
              "    .dataframe tbody tr th:only-of-type {\n",
              "        vertical-align: middle;\n",
              "    }\n",
              "\n",
              "    .dataframe tbody tr th {\n",
              "        vertical-align: top;\n",
              "    }\n",
              "\n",
              "    .dataframe thead th {\n",
              "        text-align: right;\n",
              "    }\n",
              "</style>\n",
              "<table border=\"1\" class=\"dataframe\">\n",
              "  <thead>\n",
              "    <tr style=\"text-align: right;\">\n",
              "      <th></th>\n",
              "      <th>number_of_reviews</th>\n",
              "      <th>host_acceptance_rate</th>\n",
              "      <th>price</th>\n",
              "      <th>availability_365</th>\n",
              "      <th>review_scores_rating</th>\n",
              "      <th>review_scores_cleanliness</th>\n",
              "      <th>review_scores_communication</th>\n",
              "      <th>room_type</th>\n",
              "    </tr>\n",
              "  </thead>\n",
              "  <tbody>\n",
              "    <tr>\n",
              "      <th>0</th>\n",
              "      <td>305</td>\n",
              "      <td>100%</td>\n",
              "      <td>$49.00</td>\n",
              "      <td>14</td>\n",
              "      <td>4.89</td>\n",
              "      <td>5.00</td>\n",
              "      <td>4.98</td>\n",
              "      <td>Private room</td>\n",
              "    </tr>\n",
              "    <tr>\n",
              "      <th>1</th>\n",
              "      <td>339</td>\n",
              "      <td>98%</td>\n",
              "      <td>$106.00</td>\n",
              "      <td>0</td>\n",
              "      <td>4.44</td>\n",
              "      <td>4.79</td>\n",
              "      <td>4.62</td>\n",
              "      <td>Private room</td>\n",
              "    </tr>\n",
              "    <tr>\n",
              "      <th>2</th>\n",
              "      <td>231</td>\n",
              "      <td>100%</td>\n",
              "      <td>$136.00</td>\n",
              "      <td>121</td>\n",
              "      <td>4.94</td>\n",
              "      <td>4.95</td>\n",
              "      <td>4.92</td>\n",
              "      <td>Private room</td>\n",
              "    </tr>\n",
              "    <tr>\n",
              "      <th>3</th>\n",
              "      <td>428</td>\n",
              "      <td>100%</td>\n",
              "      <td>$75.00</td>\n",
              "      <td>117</td>\n",
              "      <td>4.88</td>\n",
              "      <td>4.89</td>\n",
              "      <td>4.94</td>\n",
              "      <td>Private room</td>\n",
              "    </tr>\n",
              "    <tr>\n",
              "      <th>4</th>\n",
              "      <td>582</td>\n",
              "      <td>100%</td>\n",
              "      <td>$55.00</td>\n",
              "      <td>160</td>\n",
              "      <td>4.79</td>\n",
              "      <td>4.84</td>\n",
              "      <td>4.92</td>\n",
              "      <td>Private room</td>\n",
              "    </tr>\n",
              "  </tbody>\n",
              "</table>\n",
              "</div>\n",
              "      <button class=\"colab-df-convert\" onclick=\"convertToInteractive('df-5518cc67-f2ea-475f-8182-9a1d3ec04d2b')\"\n",
              "              title=\"Convert this dataframe to an interactive table.\"\n",
              "              style=\"display:none;\">\n",
              "        \n",
              "  <svg xmlns=\"http://www.w3.org/2000/svg\" height=\"24px\"viewBox=\"0 0 24 24\"\n",
              "       width=\"24px\">\n",
              "    <path d=\"M0 0h24v24H0V0z\" fill=\"none\"/>\n",
              "    <path d=\"M18.56 5.44l.94 2.06.94-2.06 2.06-.94-2.06-.94-.94-2.06-.94 2.06-2.06.94zm-11 1L8.5 8.5l.94-2.06 2.06-.94-2.06-.94L8.5 2.5l-.94 2.06-2.06.94zm10 10l.94 2.06.94-2.06 2.06-.94-2.06-.94-.94-2.06-.94 2.06-2.06.94z\"/><path d=\"M17.41 7.96l-1.37-1.37c-.4-.4-.92-.59-1.43-.59-.52 0-1.04.2-1.43.59L10.3 9.45l-7.72 7.72c-.78.78-.78 2.05 0 2.83L4 21.41c.39.39.9.59 1.41.59.51 0 1.02-.2 1.41-.59l7.78-7.78 2.81-2.81c.8-.78.8-2.07 0-2.86zM5.41 20L4 18.59l7.72-7.72 1.47 1.35L5.41 20z\"/>\n",
              "  </svg>\n",
              "      </button>\n",
              "      \n",
              "  <style>\n",
              "    .colab-df-container {\n",
              "      display:flex;\n",
              "      flex-wrap:wrap;\n",
              "      gap: 12px;\n",
              "    }\n",
              "\n",
              "    .colab-df-convert {\n",
              "      background-color: #E8F0FE;\n",
              "      border: none;\n",
              "      border-radius: 50%;\n",
              "      cursor: pointer;\n",
              "      display: none;\n",
              "      fill: #1967D2;\n",
              "      height: 32px;\n",
              "      padding: 0 0 0 0;\n",
              "      width: 32px;\n",
              "    }\n",
              "\n",
              "    .colab-df-convert:hover {\n",
              "      background-color: #E2EBFA;\n",
              "      box-shadow: 0px 1px 2px rgba(60, 64, 67, 0.3), 0px 1px 3px 1px rgba(60, 64, 67, 0.15);\n",
              "      fill: #174EA6;\n",
              "    }\n",
              "\n",
              "    [theme=dark] .colab-df-convert {\n",
              "      background-color: #3B4455;\n",
              "      fill: #D2E3FC;\n",
              "    }\n",
              "\n",
              "    [theme=dark] .colab-df-convert:hover {\n",
              "      background-color: #434B5C;\n",
              "      box-shadow: 0px 1px 3px 1px rgba(0, 0, 0, 0.15);\n",
              "      filter: drop-shadow(0px 1px 2px rgba(0, 0, 0, 0.3));\n",
              "      fill: #FFFFFF;\n",
              "    }\n",
              "  </style>\n",
              "\n",
              "      <script>\n",
              "        const buttonEl =\n",
              "          document.querySelector('#df-5518cc67-f2ea-475f-8182-9a1d3ec04d2b button.colab-df-convert');\n",
              "        buttonEl.style.display =\n",
              "          google.colab.kernel.accessAllowed ? 'block' : 'none';\n",
              "\n",
              "        async function convertToInteractive(key) {\n",
              "          const element = document.querySelector('#df-5518cc67-f2ea-475f-8182-9a1d3ec04d2b');\n",
              "          const dataTable =\n",
              "            await google.colab.kernel.invokeFunction('convertToInteractive',\n",
              "                                                     [key], {});\n",
              "          if (!dataTable) return;\n",
              "\n",
              "          const docLinkHtml = 'Like what you see? Visit the ' +\n",
              "            '<a target=\"_blank\" href=https://colab.research.google.com/notebooks/data_table.ipynb>data table notebook</a>'\n",
              "            + ' to learn more about interactive tables.';\n",
              "          element.innerHTML = '';\n",
              "          dataTable['output_type'] = 'display_data';\n",
              "          await google.colab.output.renderOutput(dataTable, element);\n",
              "          const docLink = document.createElement('div');\n",
              "          docLink.innerHTML = docLinkHtml;\n",
              "          element.appendChild(docLink);\n",
              "        }\n",
              "      </script>\n",
              "    </div>\n",
              "  </div>\n",
              "  "
            ]
          },
          "metadata": {},
          "execution_count": 93
        }
      ]
    },
    {
      "cell_type": "markdown",
      "source": [
        "#PUNTO 3"
      ],
      "metadata": {
        "id": "WQ6nHExCFF7J"
      }
    },
    {
      "cell_type": "code",
      "source": [
        "#Quitamos % y $ en las columnas correspondiente\n",
        "df[\"host_acceptance_rate\"] = df[\"host_acceptance_rate\"].str.replace(\"%\",\"\")\n",
        "df[\"price\"] = df[\"price\"].str.replace(\"$\",\"\")\n",
        "df[\"price\"] = df[\"price\"].str.replace(\",\",\"\")\n",
        "\n",
        "df.dtypes"
      ],
      "metadata": {
        "colab": {
          "base_uri": "https://localhost:8080/"
        },
        "id": "vPN0i_DIq4mL",
        "outputId": "41678722-3d29-4534-f4bd-4b0e995a5c4a"
      },
      "execution_count": 94,
      "outputs": [
        {
          "output_type": "stream",
          "name": "stderr",
          "text": [
            "/usr/local/lib/python3.7/dist-packages/ipykernel_launcher.py:3: FutureWarning: The default value of regex will change from True to False in a future version. In addition, single character regular expressions will *not* be treated as literal strings when regex=True.\n",
            "  This is separate from the ipykernel package so we can avoid doing imports until\n"
          ]
        },
        {
          "output_type": "execute_result",
          "data": {
            "text/plain": [
              "number_of_reviews                int64\n",
              "host_acceptance_rate            object\n",
              "price                           object\n",
              "availability_365                 int64\n",
              "review_scores_rating           float64\n",
              "review_scores_cleanliness      float64\n",
              "review_scores_communication    float64\n",
              "room_type                       object\n",
              "dtype: object"
            ]
          },
          "metadata": {},
          "execution_count": 94
        }
      ]
    },
    {
      "cell_type": "code",
      "source": [
        "print(df.shape) #Número de filas y columnas\n",
        "Duplicadas=df.duplicated()  #Crea una serie \n",
        "print(\"\\nNúmero de filas duplicadas:\", Duplicadas[Duplicadas==True].count()) "
      ],
      "metadata": {
        "colab": {
          "base_uri": "https://localhost:8080/"
        },
        "id": "ZEROvkzEkGZp",
        "outputId": "1c9d9720-7a32-4179-fa83-1edf7aff53d2"
      },
      "execution_count": 95,
      "outputs": [
        {
          "output_type": "stream",
          "name": "stdout",
          "text": [
            "(6893, 8)\n",
            "\n",
            "Número de filas duplicadas: 63\n"
          ]
        }
      ]
    },
    {
      "cell_type": "code",
      "source": [
        "#Limpieza de filas repetidas\n",
        "df.drop_duplicates(keep='first', inplace=True)\n",
        "df.shape"
      ],
      "metadata": {
        "colab": {
          "base_uri": "https://localhost:8080/"
        },
        "id": "zHzq8oK5kMuW",
        "outputId": "561b91f9-8dce-47b4-f3dd-ca3b4d1b5137"
      },
      "execution_count": 96,
      "outputs": [
        {
          "output_type": "execute_result",
          "data": {
            "text/plain": [
              "(6830, 8)"
            ]
          },
          "metadata": {},
          "execution_count": 96
        }
      ]
    },
    {
      "cell_type": "code",
      "source": [
        "#Identificar nulos\n",
        "df.isnull().sum()"
      ],
      "metadata": {
        "colab": {
          "base_uri": "https://localhost:8080/"
        },
        "id": "LKQRzqeRmsnJ",
        "outputId": "5e10d834-f7a5-44db-bafa-3c3ab6e27f39"
      },
      "execution_count": 97,
      "outputs": [
        {
          "output_type": "execute_result",
          "data": {
            "text/plain": [
              "number_of_reviews                0\n",
              "host_acceptance_rate           834\n",
              "price                            0\n",
              "availability_365                 0\n",
              "review_scores_rating           609\n",
              "review_scores_cleanliness      614\n",
              "review_scores_communication    614\n",
              "room_type                        0\n",
              "dtype: int64"
            ]
          },
          "metadata": {},
          "execution_count": 97
        }
      ]
    },
    {
      "cell_type": "code",
      "source": [
        "df =df.fillna(method=\"bfill\") \n",
        "df =df.fillna(method=\"ffill\") \n",
        "df.isnull().sum()"
      ],
      "metadata": {
        "colab": {
          "base_uri": "https://localhost:8080/"
        },
        "id": "7ECoPa1mLret",
        "outputId": "ee2f7b6c-1791-4a9c-cf5c-561de1ce438b"
      },
      "execution_count": 98,
      "outputs": [
        {
          "output_type": "execute_result",
          "data": {
            "text/plain": [
              "number_of_reviews              0\n",
              "host_acceptance_rate           0\n",
              "price                          0\n",
              "availability_365               0\n",
              "review_scores_rating           0\n",
              "review_scores_cleanliness      0\n",
              "review_scores_communication    0\n",
              "room_type                      0\n",
              "dtype: int64"
            ]
          },
          "metadata": {},
          "execution_count": 98
        }
      ]
    },
    {
      "cell_type": "code",
      "source": [
        "df[\"host_acceptance_rate\"] = df[\"host_acceptance_rate\"].astype('int64')\n",
        "df[\"price\"] = df[\"price\"].astype('float64')\n",
        "df.dtypes"
      ],
      "metadata": {
        "colab": {
          "base_uri": "https://localhost:8080/"
        },
        "id": "Z2toU8qIrYMx",
        "outputId": "1c0a279f-75ab-460f-ab8c-41560c607883"
      },
      "execution_count": 99,
      "outputs": [
        {
          "output_type": "execute_result",
          "data": {
            "text/plain": [
              "number_of_reviews                int64\n",
              "host_acceptance_rate             int64\n",
              "price                          float64\n",
              "availability_365                 int64\n",
              "review_scores_rating           float64\n",
              "review_scores_cleanliness      float64\n",
              "review_scores_communication    float64\n",
              "room_type                       object\n",
              "dtype: object"
            ]
          },
          "metadata": {},
          "execution_count": 99
        }
      ]
    },
    {
      "cell_type": "code",
      "source": [
        "fig, axs = plt.subplots(ncols=7, figsize=(16,8))\n",
        "index=0\n",
        "axs=axs.flatten()\n",
        "copiadf=df.copy()\n",
        "copiadf=copiadf.drop('room_type', axis=1)\n",
        "for k, v in copiadf.items(): # k variable, v valores\n",
        "  sns.boxplot(y=k, data=df, ax=axs[index])\n",
        "  index += 1\n",
        "plt.tight_layout(pad=0.4)"
      ],
      "metadata": {
        "colab": {
          "base_uri": "https://localhost:8080/",
          "height": 599
        },
        "id": "I6x3MwVUpOdv",
        "outputId": "5daf47af-bf6b-4e0b-fcaa-88292d85bd80"
      },
      "execution_count": 100,
      "outputs": [
        {
          "output_type": "display_data",
          "data": {
            "text/plain": [
              "<Figure size 1152x576 with 7 Axes>"
            ],
            "image/png": "[encoded data removed]"
          },
          "metadata": {
            "needs_background": "light"
          }
        }
      ]
    },
    {
      "cell_type": "markdown",
      "source": [
        "Se observan valores atípicos muy marcados en el precio por encima de 0.2 x10^6, que pueden llegar a afectar a nuestro modelo, además de ser muy pocos, pueden ser habitaciones muy caras poco rentadas que no resumen de manera adecuada a nuestros datos.\n",
        "En el caso del review score rating vemos calificaciones muuy bajas menores a 2.5, que aunque tienen sentido, ya que un cliente se pudo haber llevado una experiencias muy mala como para poner un calificación muy baja. Son realemente pocas y pueden no describir de manera correcta a los datos.\n",
        "En el caso de número de reviews vemos valores extremadamente altos, que pueden corresponder a habitaciones muy rentadas, pero que estas pueden afectar a nuestro modelo."
      ],
      "metadata": {
        "id": "x7bYccG1sz81"
      }
    },
    {
      "cell_type": "code",
      "source": [
        "y=df\n",
        "\n",
        "percentile25=y.quantile(0.25) #Q1\n",
        "percentile75=y.quantile(0.75) #Q3\n",
        "iqr= percentile75 - percentile25\n",
        "\n",
        "Limite_Superior_iqr= percentile75 + 1.5*iqr\n",
        "Limite_Inferior_iqr= percentile25 - 1.5*iqr\n",
        "print(\"Limite superior permitido\", Limite_Superior_iqr)\n",
        "print(\"Limite inferior permitido\", Limite_Inferior_iqr)"
      ],
      "metadata": {
        "colab": {
          "base_uri": "https://localhost:8080/"
        },
        "id": "VJY3Sw9dWqXl",
        "outputId": "66b58990-59a2-400b-ac26-f3beb2f3def5"
      },
      "execution_count": 101,
      "outputs": [
        {
          "output_type": "stream",
          "name": "stdout",
          "text": [
            "Limite superior permitido number_of_reviews              111.500\n",
            "host_acceptance_rate           149.500\n",
            "price                          472.500\n",
            "availability_365               385.000\n",
            "review_scores_rating             5.375\n",
            "review_scores_cleanliness        5.495\n",
            "review_scores_communication      5.195\n",
            "dtype: float64\n",
            "Limite inferior permitido number_of_reviews              -60.500\n",
            "host_acceptance_rate            17.500\n",
            "price                          -83.500\n",
            "availability_365              -231.000\n",
            "review_scores_rating             4.375\n",
            "review_scores_cleanliness        4.175\n",
            "review_scores_communication      4.675\n",
            "dtype: float64\n"
          ]
        }
      ]
    },
    {
      "cell_type": "code",
      "source": [
        "df=df[df['number_of_reviews']<111.500]\n",
        "df=df[df['host_acceptance_rate']>17.500]\n",
        "df=df[df['price']<472.500]\n",
        "df=df[df['review_scores_rating']>4.375]\n",
        "df=df[df['review_scores_cleanliness']>4.275]\n",
        "df=df[df['review_scores_communication']>4.675]\n",
        "df.head()"
      ],
      "metadata": {
        "id": "8nykaMB2uYDq",
        "colab": {
          "base_uri": "https://localhost:8080/",
          "height": 206
        },
        "outputId": "8001b83c-7ef5-41b0-e428-77a58396a434"
      },
      "execution_count": 102,
      "outputs": [
        {
          "output_type": "execute_result",
          "data": {
            "text/plain": [
              "    number_of_reviews  host_acceptance_rate  price  availability_365  \\\n",
              "5                  44                   100  240.0                 0   \n",
              "8                  63                    50  250.0                 0   \n",
              "10                 36                    33  120.0                 0   \n",
              "13                 90                   100  165.0                66   \n",
              "15                 55                   100  115.0                 0   \n",
              "\n",
              "    review_scores_rating  review_scores_cleanliness  \\\n",
              "5                   4.72                       4.45   \n",
              "8                   4.95                       4.92   \n",
              "10                  4.91                       4.88   \n",
              "13                  4.80                       4.70   \n",
              "15                  4.89                       4.91   \n",
              "\n",
              "    review_scores_communication        room_type  \n",
              "5                          4.90  Entire home/apt  \n",
              "8                          4.98  Entire home/apt  \n",
              "10                         4.94  Entire home/apt  \n",
              "13                         4.84     Private room  \n",
              "15                         4.96  Entire home/apt  "
            ],
            "text/html": [
              "\n",
              "  <div id=\"df-8b669897-d64c-4c87-b733-1d4dcf5d399d\">\n",
              "    <div class=\"colab-df-container\">\n",
              "      <div>\n",
              "<style scoped>\n",
              "    .dataframe tbody tr th:only-of-type {\n",
              "        vertical-align: middle;\n",
              "    }\n",
              "\n",
              "    .dataframe tbody tr th {\n",
              "        vertical-align: top;\n",
              "    }\n",
              "\n",
              "    .dataframe thead th {\n",
              "        text-align: right;\n",
              "    }\n",
              "</style>\n",
              "<table border=\"1\" class=\"dataframe\">\n",
              "  <thead>\n",
              "    <tr style=\"text-align: right;\">\n",
              "      <th></th>\n",
              "      <th>number_of_reviews</th>\n",
              "      <th>host_acceptance_rate</th>\n",
              "      <th>price</th>\n",
              "      <th>availability_365</th>\n",
              "      <th>review_scores_rating</th>\n",
              "      <th>review_scores_cleanliness</th>\n",
              "      <th>review_scores_communication</th>\n",
              "      <th>room_type</th>\n",
              "    </tr>\n",
              "  </thead>\n",
              "  <tbody>\n",
              "    <tr>\n",
              "      <th>5</th>\n",
              "      <td>44</td>\n",
              "      <td>100</td>\n",
              "      <td>240.0</td>\n",
              "      <td>0</td>\n",
              "      <td>4.72</td>\n",
              "      <td>4.45</td>\n",
              "      <td>4.90</td>\n",
              "      <td>Entire home/apt</td>\n",
              "    </tr>\n",
              "    <tr>\n",
              "      <th>8</th>\n",
              "      <td>63</td>\n",
              "      <td>50</td>\n",
              "      <td>250.0</td>\n",
              "      <td>0</td>\n",
              "      <td>4.95</td>\n",
              "      <td>4.92</td>\n",
              "      <td>4.98</td>\n",
              "      <td>Entire home/apt</td>\n",
              "    </tr>\n",
              "    <tr>\n",
              "      <th>10</th>\n",
              "      <td>36</td>\n",
              "      <td>33</td>\n",
              "      <td>120.0</td>\n",
              "      <td>0</td>\n",
              "      <td>4.91</td>\n",
              "      <td>4.88</td>\n",
              "      <td>4.94</td>\n",
              "      <td>Entire home/apt</td>\n",
              "    </tr>\n",
              "    <tr>\n",
              "      <th>13</th>\n",
              "      <td>90</td>\n",
              "      <td>100</td>\n",
              "      <td>165.0</td>\n",
              "      <td>66</td>\n",
              "      <td>4.80</td>\n",
              "      <td>4.70</td>\n",
              "      <td>4.84</td>\n",
              "      <td>Private room</td>\n",
              "    </tr>\n",
              "    <tr>\n",
              "      <th>15</th>\n",
              "      <td>55</td>\n",
              "      <td>100</td>\n",
              "      <td>115.0</td>\n",
              "      <td>0</td>\n",
              "      <td>4.89</td>\n",
              "      <td>4.91</td>\n",
              "      <td>4.96</td>\n",
              "      <td>Entire home/apt</td>\n",
              "    </tr>\n",
              "  </tbody>\n",
              "</table>\n",
              "</div>\n",
              "      <button class=\"colab-df-convert\" onclick=\"convertToInteractive('df-8b669897-d64c-4c87-b733-1d4dcf5d399d')\"\n",
              "              title=\"Convert this dataframe to an interactive table.\"\n",
              "              style=\"display:none;\">\n",
              "        \n",
              "  <svg xmlns=\"http://www.w3.org/2000/svg\" height=\"24px\"viewBox=\"0 0 24 24\"\n",
              "       width=\"24px\">\n",
              "    <path d=\"M0 0h24v24H0V0z\" fill=\"none\"/>\n",
              "    <path d=\"M18.56 5.44l.94 2.06.94-2.06 2.06-.94-2.06-.94-.94-2.06-.94 2.06-2.06.94zm-11 1L8.5 8.5l.94-2.06 2.06-.94-2.06-.94L8.5 2.5l-.94 2.06-2.06.94zm10 10l.94 2.06.94-2.06 2.06-.94-2.06-.94-.94-2.06-.94 2.06-2.06.94z\"/><path d=\"M17.41 7.96l-1.37-1.37c-.4-.4-.92-.59-1.43-.59-.52 0-1.04.2-1.43.59L10.3 9.45l-7.72 7.72c-.78.78-.78 2.05 0 2.83L4 21.41c.39.39.9.59 1.41.59.51 0 1.02-.2 1.41-.59l7.78-7.78 2.81-2.81c.8-.78.8-2.07 0-2.86zM5.41 20L4 18.59l7.72-7.72 1.47 1.35L5.41 20z\"/>\n",
              "  </svg>\n",
              "      </button>\n",
              "      \n",
              "  <style>\n",
              "    .colab-df-container {\n",
              "      display:flex;\n",
              "      flex-wrap:wrap;\n",
              "      gap: 12px;\n",
              "    }\n",
              "\n",
              "    .colab-df-convert {\n",
              "      background-color: #E8F0FE;\n",
              "      border: none;\n",
              "      border-radius: 50%;\n",
              "      cursor: pointer;\n",
              "      display: none;\n",
              "      fill: #1967D2;\n",
              "      height: 32px;\n",
              "      padding: 0 0 0 0;\n",
              "      width: 32px;\n",
              "    }\n",
              "\n",
              "    .colab-df-convert:hover {\n",
              "      background-color: #E2EBFA;\n",
              "      box-shadow: 0px 1px 2px rgba(60, 64, 67, 0.3), 0px 1px 3px 1px rgba(60, 64, 67, 0.15);\n",
              "      fill: #174EA6;\n",
              "    }\n",
              "\n",
              "    [theme=dark] .colab-df-convert {\n",
              "      background-color: #3B4455;\n",
              "      fill: #D2E3FC;\n",
              "    }\n",
              "\n",
              "    [theme=dark] .colab-df-convert:hover {\n",
              "      background-color: #434B5C;\n",
              "      box-shadow: 0px 1px 3px 1px rgba(0, 0, 0, 0.15);\n",
              "      filter: drop-shadow(0px 1px 2px rgba(0, 0, 0, 0.3));\n",
              "      fill: #FFFFFF;\n",
              "    }\n",
              "  </style>\n",
              "\n",
              "      <script>\n",
              "        const buttonEl =\n",
              "          document.querySelector('#df-8b669897-d64c-4c87-b733-1d4dcf5d399d button.colab-df-convert');\n",
              "        buttonEl.style.display =\n",
              "          google.colab.kernel.accessAllowed ? 'block' : 'none';\n",
              "\n",
              "        async function convertToInteractive(key) {\n",
              "          const element = document.querySelector('#df-8b669897-d64c-4c87-b733-1d4dcf5d399d');\n",
              "          const dataTable =\n",
              "            await google.colab.kernel.invokeFunction('convertToInteractive',\n",
              "                                                     [key], {});\n",
              "          if (!dataTable) return;\n",
              "\n",
              "          const docLinkHtml = 'Like what you see? Visit the ' +\n",
              "            '<a target=\"_blank\" href=https://colab.research.google.com/notebooks/data_table.ipynb>data table notebook</a>'\n",
              "            + ' to learn more about interactive tables.';\n",
              "          element.innerHTML = '';\n",
              "          dataTable['output_type'] = 'display_data';\n",
              "          await google.colab.output.renderOutput(dataTable, element);\n",
              "          const docLink = document.createElement('div');\n",
              "          docLink.innerHTML = docLinkHtml;\n",
              "          element.appendChild(docLink);\n",
              "        }\n",
              "      </script>\n",
              "    </div>\n",
              "  </div>\n",
              "  "
            ]
          },
          "metadata": {},
          "execution_count": 102
        }
      ]
    },
    {
      "cell_type": "code",
      "source": [
        "fig, axs = plt.subplots(ncols=7, figsize=(16,8))\n",
        "index=0\n",
        "axs=axs.flatten()\n",
        "copiadf=df.copy()\n",
        "copiadf=copiadf.drop('room_type', axis=1)\n",
        "for k, v in copiadf.items(): # k variable, v valores\n",
        "  sns.boxplot(y=k, data=df, ax=axs[index])\n",
        "  index += 1\n",
        "plt.tight_layout(pad=0.4)"
      ],
      "metadata": {
        "colab": {
          "base_uri": "https://localhost:8080/",
          "height": 599
        },
        "id": "pDhYcBjEuoBA",
        "outputId": "cb61476e-e049-4de7-fa17-24bc24a48525"
      },
      "execution_count": 103,
      "outputs": [
        {
          "output_type": "display_data",
          "data": {
            "text/plain": [
              "<Figure size 1152x576 with 7 Axes>"
            ],
            "image/png": "[encoded data removed]"
          },
          "metadata": {
            "needs_background": "light"
          }
        }
      ]
    },
    {
      "cell_type": "markdown",
      "source": [
        "#PUNTO 4"
      ],
      "metadata": {
        "id": "YP5ucEjLFKpq"
      }
    },
    {
      "cell_type": "code",
      "source": [
        "#División en 3 DataFrames\n",
        "\n",
        "Home=df[df['room_type']=='Entire home/apt']\n",
        "Room=df[df['room_type']=='Private room']\n",
        "Shared=df[df['room_type']=='Shared room']\n",
        "Hotel=df[df['room_type']=='Hotel room']\n",
        "print(Home.shape)\n",
        "print(Room.shape)\n",
        "print(Shared.shape)\n",
        "print(Hotel.shape)"
      ],
      "metadata": {
        "colab": {
          "base_uri": "https://localhost:8080/"
        },
        "id": "tzKSlzldeUXm",
        "outputId": "c4a9deec-4817-4031-8d97-d286d23f0f2c"
      },
      "execution_count": 144,
      "outputs": [
        {
          "output_type": "stream",
          "name": "stdout",
          "text": [
            "(3591, 8)\n",
            "(917, 8)\n",
            "(18, 8)\n",
            "(44, 8)\n"
          ]
        }
      ]
    },
    {
      "cell_type": "code",
      "source": [
        "def correlaciones(i):\n",
        "  print('number_of_reviews vs host_acceptance_rate: ',abs(i['number_of_reviews'].corr(i['host_acceptance_rate'])))\n",
        "  print('number_of_reviews  vs review_scores_rating: ',abs(i['number_of_reviews'].corr(i['review_scores_rating'])))\n",
        "  print('number_of_reviews  vs price: ',abs(i['number_of_reviews'].corr(i['price'])))\n",
        "  print('number_of_reviews  vs review_scores_cleanliness: ',abs(i['number_of_reviews'].corr(i['review_scores_cleanliness'])))\n",
        "  print('number_of_reviews  vs availability_365: ',abs(i['number_of_reviews'].corr(i['availability_365'])))\n",
        "  print('number_of_reviews  vs review_scores_communication: ',abs(i['number_of_reviews'].corr(i['review_scores_communication'])))"
      ],
      "metadata": {
        "id": "hWRKJqhaZKe5"
      },
      "execution_count": 105,
      "outputs": []
    },
    {
      "cell_type": "code",
      "source": [
        "#Mapa de correlaciones\n",
        "Corr_Factors=Home.corr()\n",
        "Corr_Factors_abs= abs(Corr_Factors)\n",
        "mask=np.triu(np.ones_like(df.corr(),dtype=bool))\n",
        "Heat_Map=sns.heatmap(Corr_Factors_abs, annot=True,mask=mask, fmt='.2f')\n",
        "Heat_Map"
      ],
      "metadata": {
        "colab": {
          "base_uri": "https://localhost:8080/",
          "height": 424
        },
        "id": "FnM2euuodOoC",
        "outputId": "66ea7b1f-69ce-4ce4-a45c-96ecfebdb775"
      },
      "execution_count": 106,
      "outputs": [
        {
          "output_type": "execute_result",
          "data": {
            "text/plain": [
              "<matplotlib.axes._subplots.AxesSubplot at 0x7fabdaa5ee90>"
            ]
          },
          "metadata": {},
          "execution_count": 106
        },
        {
          "output_type": "display_data",
          "data": {
            "text/plain": [
              "<Figure size 432x288 with 2 Axes>"
            ],
            "image/png": "[encoded data removed]"
          },
          "metadata": {
            "needs_background": "light"
          }
        }
      ]
    },
    {
      "cell_type": "code",
      "source": [
        "correlaciones(Home)"
      ],
      "metadata": {
        "colab": {
          "base_uri": "https://localhost:8080/"
        },
        "id": "ChGMilBFbafs",
        "outputId": "83854e70-b514-48b4-cdeb-2da78720f7a4"
      },
      "execution_count": 107,
      "outputs": [
        {
          "output_type": "stream",
          "name": "stdout",
          "text": [
            "number_of_reviews vs host_acceptance_rate:  0.06136357821019017\n",
            "number_of_reviews  vs review_scores_rating:  0.30738199211246336\n",
            "number_of_reviews  vs price:  0.09901237272508372\n",
            "number_of_reviews  vs review_scores_cleanliness:  0.19096219311513005\n",
            "number_of_reviews  vs availability_365:  0.030861368914737897\n",
            "number_of_reviews  vs review_scores_communication:  0.2734764313076942\n"
          ]
        }
      ]
    },
    {
      "cell_type": "code",
      "source": [
        "#Mapa de correlaciones\n",
        "Corr_Factors=Room.corr()\n",
        "Corr_Factors_abs= abs(Corr_Factors)\n",
        "mask=np.triu(np.ones_like(df.corr(),dtype=bool))\n",
        "Heat_Map=sns.heatmap(Corr_Factors_abs, annot=True, mask=mask, fmt='.2f')\n",
        "Heat_Map"
      ],
      "metadata": {
        "colab": {
          "base_uri": "https://localhost:8080/",
          "height": 424
        },
        "id": "lS2HdhPDhXe4",
        "outputId": "6b294267-b1a5-44ce-b5b8-bf981a24ec35"
      },
      "execution_count": 108,
      "outputs": [
        {
          "output_type": "execute_result",
          "data": {
            "text/plain": [
              "<matplotlib.axes._subplots.AxesSubplot at 0x7fabda9e62d0>"
            ]
          },
          "metadata": {},
          "execution_count": 108
        },
        {
          "output_type": "display_data",
          "data": {
            "text/plain": [
              "<Figure size 432x288 with 2 Axes>"
            ],
            "image/png": "[encoded data removed]"
          },
          "metadata": {
            "needs_background": "light"
          }
        }
      ]
    },
    {
      "cell_type": "code",
      "source": [
        "correlaciones(Room)"
      ],
      "metadata": {
        "colab": {
          "base_uri": "https://localhost:8080/"
        },
        "id": "SzVc9IhebhPN",
        "outputId": "6102ebad-5f89-47a3-e8b4-342ececb9d87"
      },
      "execution_count": 109,
      "outputs": [
        {
          "output_type": "stream",
          "name": "stdout",
          "text": [
            "number_of_reviews vs host_acceptance_rate:  0.08640714320474652\n",
            "number_of_reviews  vs review_scores_rating:  0.17843724720272014\n",
            "number_of_reviews  vs price:  0.09962001067935795\n",
            "number_of_reviews  vs review_scores_cleanliness:  0.059066446394493724\n",
            "number_of_reviews  vs availability_365:  0.0017101601173593465\n",
            "number_of_reviews  vs review_scores_communication:  0.21826571253938698\n"
          ]
        }
      ]
    },
    {
      "cell_type": "code",
      "source": [
        "#Mapa de correlaciones\n",
        "Corr_Factors=Shared.corr()\n",
        "Corr_Factors_abs= abs(Corr_Factors)\n",
        "mask=np.triu(np.ones_like(df.corr(),dtype=bool))\n",
        "Heat_Map=sns.heatmap(Corr_Factors_abs, annot=True, mask=mask,fmt='.2f')\n",
        "Heat_Map"
      ],
      "metadata": {
        "id": "dkEwxyGAhbQl",
        "outputId": "cda15688-aab1-4f8e-bdfa-24beb7fcea44",
        "colab": {
          "base_uri": "https://localhost:8080/",
          "height": 424
        }
      },
      "execution_count": 110,
      "outputs": [
        {
          "output_type": "execute_result",
          "data": {
            "text/plain": [
              "<matplotlib.axes._subplots.AxesSubplot at 0x7fabdadcb490>"
            ]
          },
          "metadata": {},
          "execution_count": 110
        },
        {
          "output_type": "display_data",
          "data": {
            "text/plain": [
              "<Figure size 432x288 with 2 Axes>"
            ],
            "image/png": "[encoded data removed]"
          },
          "metadata": {
            "needs_background": "light"
          }
        }
      ]
    },
    {
      "cell_type": "code",
      "source": [
        "correlaciones(Shared)"
      ],
      "metadata": {
        "colab": {
          "base_uri": "https://localhost:8080/"
        },
        "id": "op6ILqdCbnVh",
        "outputId": "6d9051af-f5c4-483f-88d2-635b43d2843e"
      },
      "execution_count": 111,
      "outputs": [
        {
          "output_type": "stream",
          "name": "stdout",
          "text": [
            "number_of_reviews vs host_acceptance_rate:  0.12441261754461413\n",
            "number_of_reviews  vs review_scores_rating:  0.05874728617521897\n",
            "number_of_reviews  vs price:  0.04107930936291522\n",
            "number_of_reviews  vs review_scores_cleanliness:  0.2585643328613199\n",
            "number_of_reviews  vs availability_365:  0.19716441592598624\n",
            "number_of_reviews  vs review_scores_communication:  0.32111495604655355\n"
          ]
        }
      ]
    },
    {
      "cell_type": "code",
      "source": [
        "#Mapa de correlaciones\n",
        "Corr_Factors=Hotel.corr()\n",
        "Corr_Factors_abs= abs(Corr_Factors)\n",
        "mask=np.triu(np.ones_like(df.corr(),dtype=bool))\n",
        "Heat_Map=sns.heatmap(Corr_Factors_abs, annot=True, mask=mask,fmt='.2f')\n",
        "Heat_Map"
      ],
      "metadata": {
        "colab": {
          "base_uri": "https://localhost:8080/",
          "height": 424
        },
        "id": "2DdNJpiuI9TD",
        "outputId": "c5200f4b-4e84-41eb-fef5-7741e413a33f"
      },
      "execution_count": 145,
      "outputs": [
        {
          "output_type": "execute_result",
          "data": {
            "text/plain": [
              "<matplotlib.axes._subplots.AxesSubplot at 0x7fabdbb94250>"
            ]
          },
          "metadata": {},
          "execution_count": 145
        },
        {
          "output_type": "display_data",
          "data": {
            "text/plain": [
              "<Figure size 432x288 with 2 Axes>"
            ],
            "image/png": "[encoded data removed]"
          },
          "metadata": {
            "needs_background": "light"
          }
        }
      ]
    },
    {
      "cell_type": "code",
      "source": [
        "correlaciones(Hotel)"
      ],
      "metadata": {
        "colab": {
          "base_uri": "https://localhost:8080/"
        },
        "id": "Yi_kn4uIJB2E",
        "outputId": "0353ed47-da71-48a2-e342-0210c9900a7d"
      },
      "execution_count": 146,
      "outputs": [
        {
          "output_type": "stream",
          "name": "stdout",
          "text": [
            "number_of_reviews vs host_acceptance_rate:  0.3224611001316103\n",
            "number_of_reviews  vs review_scores_rating:  0.19842958046075673\n",
            "number_of_reviews  vs price:  0.30088399258575355\n",
            "number_of_reviews  vs review_scores_cleanliness:  0.1218027804075313\n",
            "number_of_reviews  vs availability_365:  0.10746615835021579\n",
            "number_of_reviews  vs review_scores_communication:  0.21386573403612985\n"
          ]
        }
      ]
    },
    {
      "cell_type": "markdown",
      "source": [
        "#PUNTO 5"
      ],
      "metadata": {
        "id": "JYa-PxAge3mI"
      }
    },
    {
      "cell_type": "markdown",
      "source": [
        "HOME"
      ],
      "metadata": {
        "id": "QZoK_2PxDhJY"
      }
    },
    {
      "cell_type": "code",
      "source": [
        "from sklearn.linear_model import LinearRegression\n",
        "model=LinearRegression()\n",
        "type(model)"
      ],
      "metadata": {
        "id": "5_JSqIZ7e6in",
        "colab": {
          "base_uri": "https://localhost:8080/"
        },
        "outputId": "f2e65920-8dc2-4fed-a2b7-87cd6547373d"
      },
      "execution_count": 112,
      "outputs": [
        {
          "output_type": "execute_result",
          "data": {
            "text/plain": [
              "sklearn.linear_model._base.LinearRegression"
            ]
          },
          "metadata": {},
          "execution_count": 112
        }
      ]
    },
    {
      "cell_type": "code",
      "source": [
        "Var_Dep=Home['number_of_reviews']\n",
        "Var_Indep=Home[['review_scores_cleanliness']]"
      ],
      "metadata": {
        "id": "Wc0cy2vrDHVQ"
      },
      "execution_count": 115,
      "outputs": []
    },
    {
      "cell_type": "code",
      "source": [
        "model.fit(X=Var_Indep, y=Var_Dep)\n",
        "model.__dict__\n",
        "model.score(X=Var_Indep,y=Var_Dep)"
      ],
      "metadata": {
        "colab": {
          "base_uri": "https://localhost:8080/"
        },
        "id": "SCF5WpuoEd5r",
        "outputId": "0ce582a7-cc5f-43fb-8b54-0eba73112106"
      },
      "execution_count": 117,
      "outputs": [
        {
          "output_type": "execute_result",
          "data": {
            "text/plain": [
              "0.036466559199340165"
            ]
          },
          "metadata": {},
          "execution_count": 117
        }
      ]
    },
    {
      "cell_type": "markdown",
      "source": [
        "PRIVATE ROOM"
      ],
      "metadata": {
        "id": "kSqWR6uDG35R"
      }
    },
    {
      "cell_type": "code",
      "source": [
        "modelP=LinearRegression()\n",
        "type(model)"
      ],
      "metadata": {
        "colab": {
          "base_uri": "https://localhost:8080/"
        },
        "id": "gzjQXhOHHWSp",
        "outputId": "9c7ab089-5aee-4cad-e311-2212de9d7401"
      },
      "execution_count": 123,
      "outputs": [
        {
          "output_type": "execute_result",
          "data": {
            "text/plain": [
              "sklearn.linear_model._base.LinearRegression"
            ]
          },
          "metadata": {},
          "execution_count": 123
        }
      ]
    },
    {
      "cell_type": "code",
      "source": [
        "PVar_Dep=Room['number_of_reviews']\n",
        "PVar_Indep=Room[['review_scores_communication']]"
      ],
      "metadata": {
        "id": "4myvir8uG7EW"
      },
      "execution_count": 131,
      "outputs": []
    },
    {
      "cell_type": "code",
      "source": [
        "modelP.fit(X=PVar_Indep, y=PVar_Dep)\n",
        "modelP.__dict__\n",
        "modelP.score(X=PVar_Indep,y=PVar_Dep)"
      ],
      "metadata": {
        "colab": {
          "base_uri": "https://localhost:8080/"
        },
        "id": "f3ZkDOJnHSRO",
        "outputId": "fbefaafc-9e7e-4457-9cf0-82f14048f003"
      },
      "execution_count": 132,
      "outputs": [
        {
          "output_type": "execute_result",
          "data": {
            "text/plain": [
              "0.047639921270326124"
            ]
          },
          "metadata": {},
          "execution_count": 132
        }
      ]
    },
    {
      "cell_type": "markdown",
      "source": [
        "SHARED ROOM"
      ],
      "metadata": {
        "id": "KmtnBk0IIAOw"
      }
    },
    {
      "cell_type": "code",
      "source": [
        "modelS=LinearRegression()\n",
        "type(model)"
      ],
      "metadata": {
        "colab": {
          "base_uri": "https://localhost:8080/"
        },
        "id": "v5F16hmhICXT",
        "outputId": "39e93578-f93f-426b-8ab7-8a446a8d3720"
      },
      "execution_count": 137,
      "outputs": [
        {
          "output_type": "execute_result",
          "data": {
            "text/plain": [
              "sklearn.linear_model._base.LinearRegression"
            ]
          },
          "metadata": {},
          "execution_count": 137
        }
      ]
    },
    {
      "cell_type": "code",
      "source": [
        "SVar_Dep=Shared['number_of_reviews']\n",
        "SVar_Indep=Shared[['review_scores_communication']]"
      ],
      "metadata": {
        "id": "HOAoA07ZINl2"
      },
      "execution_count": 138,
      "outputs": []
    },
    {
      "cell_type": "code",
      "source": [
        "modelS.fit(X=SVar_Indep, y=SVar_Dep)\n",
        "modelS.__dict__\n",
        "modelS.score(X=SVar_Indep,y=SVar_Dep)"
      ],
      "metadata": {
        "colab": {
          "base_uri": "https://localhost:8080/"
        },
        "id": "fThf9WztIaB3",
        "outputId": "90161c4f-0019-491b-e683-979b040b6d59"
      },
      "execution_count": 139,
      "outputs": [
        {
          "output_type": "execute_result",
          "data": {
            "text/plain": [
              "0.10311481499677977"
            ]
          },
          "metadata": {},
          "execution_count": 139
        }
      ]
    },
    {
      "cell_type": "markdown",
      "source": [
        "HOTEL ROOM"
      ],
      "metadata": {
        "id": "UN-ihwWdJXW-"
      }
    },
    {
      "cell_type": "code",
      "source": [
        "modelH=LinearRegression()\n",
        "type(model)"
      ],
      "metadata": {
        "colab": {
          "base_uri": "https://localhost:8080/"
        },
        "id": "6vlZ9iJBJYti",
        "outputId": "3c3de218-1125-4a67-8eb3-0fb3028b6119"
      },
      "execution_count": 155,
      "outputs": [
        {
          "output_type": "execute_result",
          "data": {
            "text/plain": [
              "sklearn.linear_model._base.LinearRegression"
            ]
          },
          "metadata": {},
          "execution_count": 155
        }
      ]
    },
    {
      "cell_type": "code",
      "source": [
        "HVar_Dep=Hotel['number_of_reviews']\n",
        "HVar_Indep=Hotel[['host_acceptance_rate']]"
      ],
      "metadata": {
        "id": "J1i1dN8SJeaD"
      },
      "execution_count": 156,
      "outputs": []
    },
    {
      "cell_type": "code",
      "source": [
        "modelH.fit(X=HVar_Indep, y=HVar_Dep)\n",
        "modelH.__dict__\n",
        "modelH.score(X=HVar_Indep,y=HVar_Dep)"
      ],
      "metadata": {
        "colab": {
          "base_uri": "https://localhost:8080/"
        },
        "id": "N6_MB-SKJebg",
        "outputId": "f30421d0-b824-4f30-b59f-207afcb3e110"
      },
      "execution_count": 157,
      "outputs": [
        {
          "output_type": "execute_result",
          "data": {
            "text/plain": [
              "0.10398116109808853"
            ]
          },
          "metadata": {},
          "execution_count": 157
        }
      ]
    },
    {
      "cell_type": "markdown",
      "source": [
        "#PUNTO 6"
      ],
      "metadata": {
        "id": "MKBsx98HFPxZ"
      }
    },
    {
      "cell_type": "code",
      "source": [
        "#Home\n",
        "coef_Deter=model.score(X=Var_Indep,y=Var_Dep)\n",
        "coef_Deter"
      ],
      "metadata": {
        "colab": {
          "base_uri": "https://localhost:8080/"
        },
        "id": "2_uX75B9FTBI",
        "outputId": "9684b64e-e26b-4469-da80-89354a02ef79"
      },
      "execution_count": 158,
      "outputs": [
        {
          "output_type": "stream",
          "name": "stderr",
          "text": [
            "/usr/local/lib/python3.7/dist-packages/sklearn/base.py:493: FutureWarning: The feature names should match those that were passed during fit. Starting version 1.2, an error will be raised.\n",
            "Feature names unseen at fit time:\n",
            "- review_scores_communication\n",
            "Feature names seen at fit time, yet now missing:\n",
            "- review_scores_cleanliness\n",
            "\n",
            "  warnings.warn(message, FutureWarning)\n"
          ]
        },
        {
          "output_type": "execute_result",
          "data": {
            "text/plain": [
              "0.01987426397314207"
            ]
          },
          "metadata": {},
          "execution_count": 158
        }
      ]
    },
    {
      "cell_type": "code",
      "source": [
        "#Home\n",
        "coef_Correl=np.sqrt(coef_Deter)\n",
        "coef_Correl"
      ],
      "metadata": {
        "colab": {
          "base_uri": "https://localhost:8080/"
        },
        "id": "kcuUN4ZFFagr",
        "outputId": "f24a8975-9407-4e3b-8d2f-3032c2337c2a"
      },
      "execution_count": 159,
      "outputs": [
        {
          "output_type": "execute_result",
          "data": {
            "text/plain": [
              "0.1409761113562935"
            ]
          },
          "metadata": {},
          "execution_count": 159
        }
      ]
    },
    {
      "cell_type": "code",
      "source": [
        "#Private Room\n",
        "coef_DeterP=modelP.score(X=PVar_Indep,y=PVar_Dep)\n",
        "coef_DeterP"
      ],
      "metadata": {
        "colab": {
          "base_uri": "https://localhost:8080/"
        },
        "id": "k6xVqRhTFhLo",
        "outputId": "7f6ccf26-5d3d-48cf-ade3-a88c66881252"
      },
      "execution_count": 160,
      "outputs": [
        {
          "output_type": "execute_result",
          "data": {
            "text/plain": [
              "0.047639921270326124"
            ]
          },
          "metadata": {},
          "execution_count": 160
        }
      ]
    },
    {
      "cell_type": "code",
      "source": [
        "#Private Room\n",
        "coef_Correlp=np.sqrt(coef_DeterP)\n",
        "coef_Correlp"
      ],
      "metadata": {
        "colab": {
          "base_uri": "https://localhost:8080/"
        },
        "id": "vy2iQFCiFlae",
        "outputId": "e8cde4b6-0e8b-4434-def7-1794fc955bfa"
      },
      "execution_count": 161,
      "outputs": [
        {
          "output_type": "execute_result",
          "data": {
            "text/plain": [
              "0.21826571253938656"
            ]
          },
          "metadata": {},
          "execution_count": 161
        }
      ]
    },
    {
      "cell_type": "code",
      "source": [
        "#Shared Room\n",
        "coef_Deters=modelS.score(X=SVar_Indep,y=SVar_Dep)\n",
        "coef_Deters"
      ],
      "metadata": {
        "colab": {
          "base_uri": "https://localhost:8080/"
        },
        "id": "PEjv9R3ZFsWi",
        "outputId": "f266dcac-7c55-4569-b53e-1e22c3ea776a"
      },
      "execution_count": 162,
      "outputs": [
        {
          "output_type": "execute_result",
          "data": {
            "text/plain": [
              "0.10311481499677977"
            ]
          },
          "metadata": {},
          "execution_count": 162
        }
      ]
    },
    {
      "cell_type": "code",
      "source": [
        "#Shared Room\n",
        "coef_Correls=np.sqrt(coef_Deters)\n",
        "coef_Correls"
      ],
      "metadata": {
        "colab": {
          "base_uri": "https://localhost:8080/"
        },
        "id": "tf-1bfkrF2vg",
        "outputId": "6a693c1d-4d5f-4c87-ccd6-ecb8a3442901"
      },
      "execution_count": 163,
      "outputs": [
        {
          "output_type": "execute_result",
          "data": {
            "text/plain": [
              "0.32111495604655316"
            ]
          },
          "metadata": {},
          "execution_count": 163
        }
      ]
    },
    {
      "cell_type": "code",
      "source": [
        "#Hotel Room\n",
        "coef_Deterh=modelH.score(X=HVar_Indep,y=HVar_Dep)\n",
        "coef_Deterh"
      ],
      "metadata": {
        "colab": {
          "base_uri": "https://localhost:8080/"
        },
        "id": "sEPUS-2fJPDn",
        "outputId": "9f2490f5-35ea-45c2-e636-80d19daa1196"
      },
      "execution_count": 164,
      "outputs": [
        {
          "output_type": "execute_result",
          "data": {
            "text/plain": [
              "0.10398116109808853"
            ]
          },
          "metadata": {},
          "execution_count": 164
        }
      ]
    },
    {
      "cell_type": "code",
      "source": [
        "#Hotel Room\n",
        "coef_Correlh=np.sqrt(coef_Deterh)\n",
        "coef_Correlh"
      ],
      "metadata": {
        "colab": {
          "base_uri": "https://localhost:8080/"
        },
        "id": "BQayKwo_JO5s",
        "outputId": "0bb689c6-cf57-4d2c-ddf8-4de4afab08e0"
      },
      "execution_count": 165,
      "outputs": [
        {
          "output_type": "execute_result",
          "data": {
            "text/plain": [
              "0.3224611001316105"
            ]
          },
          "metadata": {},
          "execution_count": 165
        }
      ]
    },
    {
      "cell_type": "code",
      "source": [
        "Tabla = pd.DataFrame()"
      ],
      "metadata": {
        "id": "XwGUJSF0F4-F"
      },
      "execution_count": 166,
      "outputs": []
    },
    {
      "cell_type": "code",
      "source": [
        "Tabla['Tipo de habitacion'] = ['Entire room/apt', 'Private room', 'Shared room', 'Hotel room']\n",
        "Tabla['Coef_det']=[coef_Deter,coef_DeterP,coef_Deters,coef_Deterh]\n",
        "Tabla['Coef_Correl']=[coef_Correl,coef_Correlp,coef_Correls,coef_Correlh]"
      ],
      "metadata": {
        "id": "vFCmz-J3F7kP"
      },
      "execution_count": 167,
      "outputs": []
    },
    {
      "cell_type": "code",
      "source": [
        "print(Tabla)"
      ],
      "metadata": {
        "colab": {
          "base_uri": "https://localhost:8080/"
        },
        "id": "lY2N8Q3CKCgb",
        "outputId": "48814e83-b5b1-45ed-f990-ee6f2351d0f5"
      },
      "execution_count": 168,
      "outputs": [
        {
          "output_type": "stream",
          "name": "stdout",
          "text": [
            "  Tipo de habitacion  Coef_det  Coef_Correl\n",
            "0    Entire room/apt  0.019874     0.140976\n",
            "1       Private room  0.047640     0.218266\n",
            "2        Shared room  0.103115     0.321115\n",
            "3         Hotel room  0.103981     0.322461\n"
          ]
        }
      ]
    }
  ]
}