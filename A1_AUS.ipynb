{
  "nbformat": 4,
  "nbformat_minor": 0,
  "metadata": {
    "colab": {
      "provenance": [],
      "collapsed_sections": [],
      "include_colab_link": true
    },
    "kernelspec": {
      "name": "python3",
      "display_name": "Python 3"
    },
    "language_info": {
      "name": "python"
    }
  },
  "cells": [
    {
      "cell_type": "markdown",
      "metadata": {
        "id": "view-in-github",
        "colab_type": "text"
      },
      "source": [
        "<a href=\"https://colab.research.google.com/github/urabayen01/Actividad-1/blob/main/A1_AUS.ipynb\" target=\"_parent\"><img src=\"https://colab.research.google.com/assets/colab-badge.svg\" alt=\"Open In Colab\"/></a>"
      ]
    },
    {
      "cell_type": "markdown",
      "source": [
        "Modelo de Regresión lineal simple con Dataset de Airbnb Ciudad de México"
      ],
      "metadata": {
        "id": "K2AK0OZIs1q2"
      }
    },
    {
      "cell_type": "code",
      "execution_count": 14,
      "metadata": {
        "id": "SGkyrVfIfihY"
      },
      "outputs": [],
      "source": [
        "#importar Librerías"
      ]
    },
    {
      "cell_type": "code",
      "source": [
        "import pandas as pd\n",
        "import numpy as np\n",
        "import matplotlib.pyplot as plt\n",
        "import seaborn as sns\n",
        "from numpy import nan as NaN"
      ],
      "metadata": {
        "id": "eSjXzyWoizie"
      },
      "execution_count": 15,
      "outputs": []
    },
    {
      "cell_type": "code",
      "source": [
        "#Leer datos\n",
        "\n",
        "df=pd.read_csv('listings_AUS.csv')\n",
        "df.head()"
      ],
      "metadata": {
        "colab": {
          "base_uri": "https://localhost:8080/",
          "height": 664
        },
        "id": "jyfk-7UKi9VP",
        "outputId": "66b542c5-f7f6-47f4-f20a-97ccc4a216e6"
      },
      "execution_count": 16,
      "outputs": [
        {
          "output_type": "execute_result",
          "data": {
            "text/plain": [
              "         id                            listing_url       scrape_id  \\\n",
              "0      5456      https://www.airbnb.com/rooms/5456  20220912200151   \n",
              "1      5769      https://www.airbnb.com/rooms/5769  20220912200151   \n",
              "2  46856014  https://www.airbnb.com/rooms/46856014  20220912200151   \n",
              "3    319887    https://www.airbnb.com/rooms/319887  20220912200151   \n",
              "4    319894    https://www.airbnb.com/rooms/319894  20220912200151   \n",
              "\n",
              "  last_scraped           source  \\\n",
              "0   2022-09-13      city scrape   \n",
              "1   2022-09-13      city scrape   \n",
              "2   2022-09-12      city scrape   \n",
              "3   2022-09-13  previous scrape   \n",
              "4   2022-09-13      city scrape   \n",
              "\n",
              "                                                name  \\\n",
              "0          Walk to 6th, Rainey St and Convention Ctr   \n",
              "1                                     NW Austin Room   \n",
              "2  Electric Fireplace+Fire Pit, Lake Fishing + ka...   \n",
              "3                   Quaint East Austin 2BR SXSW 2016   \n",
              "4                     The Perfect Austin Modern Home   \n",
              "\n",
              "                                         description  \\\n",
              "0  Great central  location for walking to Convent...   \n",
              "1  <b>The space</b><br />Looking for a comfortabl...   \n",
              "2  Quiet evenings with a beautiful view of the la...   \n",
              "3  Awesome house in the middle of downtown action...   \n",
              "4  The home is a 2300 square foot modern style 3 ...   \n",
              "\n",
              "                               neighborhood_overview  \\\n",
              "0  My neighborhood is ideally located if you want...   \n",
              "1  Quiet neighborhood with lots of trees and good...   \n",
              "2  Starbucks, Shopping center, Grocery Store, Dol...   \n",
              "3  The neighborhood is the first sub-division in ...   \n",
              "4  Everyone who lives in Agave - LOVES Agave. It'...   \n",
              "\n",
              "                                         picture_url    host_id  ...  \\\n",
              "0  https://a0.muscache.com/pictures/14084884/b5a3...       8028  ...   \n",
              "1  https://a0.muscache.com/pictures/23822033/ac94...       8186  ...   \n",
              "2  https://a0.muscache.com/pictures/13ec989b-f3b6...  375760981  ...   \n",
              "3  https://a0.muscache.com/pictures/31764696/dbae...    1640158  ...   \n",
              "4  https://a0.muscache.com/pictures/200398af-d3b2...    1640172  ...   \n",
              "\n",
              "  review_scores_communication review_scores_location review_scores_value  \\\n",
              "0                        4.81                   4.74                4.79   \n",
              "1                        4.94                   4.75                4.92   \n",
              "2                        4.97                   4.83                4.77   \n",
              "3                        5.00                   4.00                4.00   \n",
              "4                        4.98                   4.82                4.88   \n",
              "\n",
              "  license instant_bookable calculated_host_listings_count  \\\n",
              "0     NaN                f                              1   \n",
              "1     NaN                f                              1   \n",
              "2     NaN                t                              1   \n",
              "3     NaN                f                              1   \n",
              "4     NaN                f                              2   \n",
              "\n",
              "  calculated_host_listings_count_entire_homes  \\\n",
              "0                                           1   \n",
              "1                                           0   \n",
              "2                                           1   \n",
              "3                                           1   \n",
              "4                                           1   \n",
              "\n",
              "  calculated_host_listings_count_private_rooms  \\\n",
              "0                                            0   \n",
              "1                                            1   \n",
              "2                                            0   \n",
              "3                                            0   \n",
              "4                                            1   \n",
              "\n",
              "  calculated_host_listings_count_shared_rooms reviews_per_month  \n",
              "0                                           0              3.73  \n",
              "1                                           0              1.78  \n",
              "2                                           0              4.17  \n",
              "3                                           0              0.02  \n",
              "4                                           0              1.34  \n",
              "\n",
              "[5 rows x 75 columns]"
            ],
            "text/html": [
              "\n",
              "  <div id=\"df-e128028a-a94e-4ce3-999b-e87abb17d436\">\n",
              "    <div class=\"colab-df-container\">\n",
              "      <div>\n",
              "<style scoped>\n",
              "    .dataframe tbody tr th:only-of-type {\n",
              "        vertical-align: middle;\n",
              "    }\n",
              "\n",
              "    .dataframe tbody tr th {\n",
              "        vertical-align: top;\n",
              "    }\n",
              "\n",
              "    .dataframe thead th {\n",
              "        text-align: right;\n",
              "    }\n",
              "</style>\n",
              "<table border=\"1\" class=\"dataframe\">\n",
              "  <thead>\n",
              "    <tr style=\"text-align: right;\">\n",
              "      <th></th>\n",
              "      <th>id</th>\n",
              "      <th>listing_url</th>\n",
              "      <th>scrape_id</th>\n",
              "      <th>last_scraped</th>\n",
              "      <th>source</th>\n",
              "      <th>name</th>\n",
              "      <th>description</th>\n",
              "      <th>neighborhood_overview</th>\n",
              "      <th>picture_url</th>\n",
              "      <th>host_id</th>\n",
              "      <th>...</th>\n",
              "      <th>review_scores_communication</th>\n",
              "      <th>review_scores_location</th>\n",
              "      <th>review_scores_value</th>\n",
              "      <th>license</th>\n",
              "      <th>instant_bookable</th>\n",
              "      <th>calculated_host_listings_count</th>\n",
              "      <th>calculated_host_listings_count_entire_homes</th>\n",
              "      <th>calculated_host_listings_count_private_rooms</th>\n",
              "      <th>calculated_host_listings_count_shared_rooms</th>\n",
              "      <th>reviews_per_month</th>\n",
              "    </tr>\n",
              "  </thead>\n",
              "  <tbody>\n",
              "    <tr>\n",
              "      <th>0</th>\n",
              "      <td>5456</td>\n",
              "      <td>https://www.airbnb.com/rooms/5456</td>\n",
              "      <td>20220912200151</td>\n",
              "      <td>2022-09-13</td>\n",
              "      <td>city scrape</td>\n",
              "      <td>Walk to 6th, Rainey St and Convention Ctr</td>\n",
              "      <td>Great central  location for walking to Convent...</td>\n",
              "      <td>My neighborhood is ideally located if you want...</td>\n",
              "      <td>https://a0.muscache.com/pictures/14084884/b5a3...</td>\n",
              "      <td>8028</td>\n",
              "      <td>...</td>\n",
              "      <td>4.81</td>\n",
              "      <td>4.74</td>\n",
              "      <td>4.79</td>\n",
              "      <td>NaN</td>\n",
              "      <td>f</td>\n",
              "      <td>1</td>\n",
              "      <td>1</td>\n",
              "      <td>0</td>\n",
              "      <td>0</td>\n",
              "      <td>3.73</td>\n",
              "    </tr>\n",
              "    <tr>\n",
              "      <th>1</th>\n",
              "      <td>5769</td>\n",
              "      <td>https://www.airbnb.com/rooms/5769</td>\n",
              "      <td>20220912200151</td>\n",
              "      <td>2022-09-13</td>\n",
              "      <td>city scrape</td>\n",
              "      <td>NW Austin Room</td>\n",
              "      <td>&lt;b&gt;The space&lt;/b&gt;&lt;br /&gt;Looking for a comfortabl...</td>\n",
              "      <td>Quiet neighborhood with lots of trees and good...</td>\n",
              "      <td>https://a0.muscache.com/pictures/23822033/ac94...</td>\n",
              "      <td>8186</td>\n",
              "      <td>...</td>\n",
              "      <td>4.94</td>\n",
              "      <td>4.75</td>\n",
              "      <td>4.92</td>\n",
              "      <td>NaN</td>\n",
              "      <td>f</td>\n",
              "      <td>1</td>\n",
              "      <td>0</td>\n",
              "      <td>1</td>\n",
              "      <td>0</td>\n",
              "      <td>1.78</td>\n",
              "    </tr>\n",
              "    <tr>\n",
              "      <th>2</th>\n",
              "      <td>46856014</td>\n",
              "      <td>https://www.airbnb.com/rooms/46856014</td>\n",
              "      <td>20220912200151</td>\n",
              "      <td>2022-09-12</td>\n",
              "      <td>city scrape</td>\n",
              "      <td>Electric Fireplace+Fire Pit, Lake Fishing + ka...</td>\n",
              "      <td>Quiet evenings with a beautiful view of the la...</td>\n",
              "      <td>Starbucks, Shopping center, Grocery Store, Dol...</td>\n",
              "      <td>https://a0.muscache.com/pictures/13ec989b-f3b6...</td>\n",
              "      <td>375760981</td>\n",
              "      <td>...</td>\n",
              "      <td>4.97</td>\n",
              "      <td>4.83</td>\n",
              "      <td>4.77</td>\n",
              "      <td>NaN</td>\n",
              "      <td>t</td>\n",
              "      <td>1</td>\n",
              "      <td>1</td>\n",
              "      <td>0</td>\n",
              "      <td>0</td>\n",
              "      <td>4.17</td>\n",
              "    </tr>\n",
              "    <tr>\n",
              "      <th>3</th>\n",
              "      <td>319887</td>\n",
              "      <td>https://www.airbnb.com/rooms/319887</td>\n",
              "      <td>20220912200151</td>\n",
              "      <td>2022-09-13</td>\n",
              "      <td>previous scrape</td>\n",
              "      <td>Quaint East Austin 2BR SXSW 2016</td>\n",
              "      <td>Awesome house in the middle of downtown action...</td>\n",
              "      <td>The neighborhood is the first sub-division in ...</td>\n",
              "      <td>https://a0.muscache.com/pictures/31764696/dbae...</td>\n",
              "      <td>1640158</td>\n",
              "      <td>...</td>\n",
              "      <td>5.00</td>\n",
              "      <td>4.00</td>\n",
              "      <td>4.00</td>\n",
              "      <td>NaN</td>\n",
              "      <td>f</td>\n",
              "      <td>1</td>\n",
              "      <td>1</td>\n",
              "      <td>0</td>\n",
              "      <td>0</td>\n",
              "      <td>0.02</td>\n",
              "    </tr>\n",
              "    <tr>\n",
              "      <th>4</th>\n",
              "      <td>319894</td>\n",
              "      <td>https://www.airbnb.com/rooms/319894</td>\n",
              "      <td>20220912200151</td>\n",
              "      <td>2022-09-13</td>\n",
              "      <td>city scrape</td>\n",
              "      <td>The Perfect Austin Modern Home</td>\n",
              "      <td>The home is a 2300 square foot modern style 3 ...</td>\n",
              "      <td>Everyone who lives in Agave - LOVES Agave. It'...</td>\n",
              "      <td>https://a0.muscache.com/pictures/200398af-d3b2...</td>\n",
              "      <td>1640172</td>\n",
              "      <td>...</td>\n",
              "      <td>4.98</td>\n",
              "      <td>4.82</td>\n",
              "      <td>4.88</td>\n",
              "      <td>NaN</td>\n",
              "      <td>f</td>\n",
              "      <td>2</td>\n",
              "      <td>1</td>\n",
              "      <td>1</td>\n",
              "      <td>0</td>\n",
              "      <td>1.34</td>\n",
              "    </tr>\n",
              "  </tbody>\n",
              "</table>\n",
              "<p>5 rows × 75 columns</p>\n",
              "</div>\n",
              "      <button class=\"colab-df-convert\" onclick=\"convertToInteractive('df-e128028a-a94e-4ce3-999b-e87abb17d436')\"\n",
              "              title=\"Convert this dataframe to an interactive table.\"\n",
              "              style=\"display:none;\">\n",
              "        \n",
              "  <svg xmlns=\"http://www.w3.org/2000/svg\" height=\"24px\"viewBox=\"0 0 24 24\"\n",
              "       width=\"24px\">\n",
              "    <path d=\"M0 0h24v24H0V0z\" fill=\"none\"/>\n",
              "    <path d=\"M18.56 5.44l.94 2.06.94-2.06 2.06-.94-2.06-.94-.94-2.06-.94 2.06-2.06.94zm-11 1L8.5 8.5l.94-2.06 2.06-.94-2.06-.94L8.5 2.5l-.94 2.06-2.06.94zm10 10l.94 2.06.94-2.06 2.06-.94-2.06-.94-.94-2.06-.94 2.06-2.06.94z\"/><path d=\"M17.41 7.96l-1.37-1.37c-.4-.4-.92-.59-1.43-.59-.52 0-1.04.2-1.43.59L10.3 9.45l-7.72 7.72c-.78.78-.78 2.05 0 2.83L4 21.41c.39.39.9.59 1.41.59.51 0 1.02-.2 1.41-.59l7.78-7.78 2.81-2.81c.8-.78.8-2.07 0-2.86zM5.41 20L4 18.59l7.72-7.72 1.47 1.35L5.41 20z\"/>\n",
              "  </svg>\n",
              "      </button>\n",
              "      \n",
              "  <style>\n",
              "    .colab-df-container {\n",
              "      display:flex;\n",
              "      flex-wrap:wrap;\n",
              "      gap: 12px;\n",
              "    }\n",
              "\n",
              "    .colab-df-convert {\n",
              "      background-color: #E8F0FE;\n",
              "      border: none;\n",
              "      border-radius: 50%;\n",
              "      cursor: pointer;\n",
              "      display: none;\n",
              "      fill: #1967D2;\n",
              "      height: 32px;\n",
              "      padding: 0 0 0 0;\n",
              "      width: 32px;\n",
              "    }\n",
              "\n",
              "    .colab-df-convert:hover {\n",
              "      background-color: #E2EBFA;\n",
              "      box-shadow: 0px 1px 2px rgba(60, 64, 67, 0.3), 0px 1px 3px 1px rgba(60, 64, 67, 0.15);\n",
              "      fill: #174EA6;\n",
              "    }\n",
              "\n",
              "    [theme=dark] .colab-df-convert {\n",
              "      background-color: #3B4455;\n",
              "      fill: #D2E3FC;\n",
              "    }\n",
              "\n",
              "    [theme=dark] .colab-df-convert:hover {\n",
              "      background-color: #434B5C;\n",
              "      box-shadow: 0px 1px 3px 1px rgba(0, 0, 0, 0.15);\n",
              "      filter: drop-shadow(0px 1px 2px rgba(0, 0, 0, 0.3));\n",
              "      fill: #FFFFFF;\n",
              "    }\n",
              "  </style>\n",
              "\n",
              "      <script>\n",
              "        const buttonEl =\n",
              "          document.querySelector('#df-e128028a-a94e-4ce3-999b-e87abb17d436 button.colab-df-convert');\n",
              "        buttonEl.style.display =\n",
              "          google.colab.kernel.accessAllowed ? 'block' : 'none';\n",
              "\n",
              "        async function convertToInteractive(key) {\n",
              "          const element = document.querySelector('#df-e128028a-a94e-4ce3-999b-e87abb17d436');\n",
              "          const dataTable =\n",
              "            await google.colab.kernel.invokeFunction('convertToInteractive',\n",
              "                                                     [key], {});\n",
              "          if (!dataTable) return;\n",
              "\n",
              "          const docLinkHtml = 'Like what you see? Visit the ' +\n",
              "            '<a target=\"_blank\" href=https://colab.research.google.com/notebooks/data_table.ipynb>data table notebook</a>'\n",
              "            + ' to learn more about interactive tables.';\n",
              "          element.innerHTML = '';\n",
              "          dataTable['output_type'] = 'display_data';\n",
              "          await google.colab.output.renderOutput(dataTable, element);\n",
              "          const docLink = document.createElement('div');\n",
              "          docLink.innerHTML = docLinkHtml;\n",
              "          element.appendChild(docLink);\n",
              "        }\n",
              "      </script>\n",
              "    </div>\n",
              "  </div>\n",
              "  "
            ]
          },
          "metadata": {},
          "execution_count": 16
        }
      ]
    },
    {
      "cell_type": "code",
      "source": [
        "#Solo tomamos las columnas de interés\n",
        "\n",
        "df=df[['number_of_reviews', 'host_acceptance_rate', 'price', 'availability_365', 'review_scores_rating', 'review_scores_cleanliness','review_scores_communication', 'room_type']]\n",
        "df.head()\n"
      ],
      "metadata": {
        "colab": {
          "base_uri": "https://localhost:8080/",
          "height": 206
        },
        "id": "caumnQ0EjZkT",
        "outputId": "bc8bac49-9b21-472e-c971-5c1fd67bdb60"
      },
      "execution_count": 17,
      "outputs": [
        {
          "output_type": "execute_result",
          "data": {
            "text/plain": [
              "   number_of_reviews host_acceptance_rate    price  availability_365  \\\n",
              "0                614                  95%  $140.00               311   \n",
              "1                269                 100%   $41.00                 3   \n",
              "2                 88                  98%  $194.00               342   \n",
              "3                  2                  NaN  $694.00                 0   \n",
              "4                171                  99%  $192.00               156   \n",
              "\n",
              "   review_scores_rating  review_scores_cleanliness  \\\n",
              "0                  4.84                       4.85   \n",
              "1                  4.90                       4.86   \n",
              "2                  4.85                       4.80   \n",
              "3                  4.50                       3.50   \n",
              "4                  4.84                       4.73   \n",
              "\n",
              "   review_scores_communication        room_type  \n",
              "0                         4.81  Entire home/apt  \n",
              "1                         4.94     Private room  \n",
              "2                         4.97  Entire home/apt  \n",
              "3                         5.00  Entire home/apt  \n",
              "4                         4.98  Entire home/apt  "
            ],
            "text/html": [
              "\n",
              "  <div id=\"df-25a6f65a-afde-41d4-a9e3-b45908e6261e\">\n",
              "    <div class=\"colab-df-container\">\n",
              "      <div>\n",
              "<style scoped>\n",
              "    .dataframe tbody tr th:only-of-type {\n",
              "        vertical-align: middle;\n",
              "    }\n",
              "\n",
              "    .dataframe tbody tr th {\n",
              "        vertical-align: top;\n",
              "    }\n",
              "\n",
              "    .dataframe thead th {\n",
              "        text-align: right;\n",
              "    }\n",
              "</style>\n",
              "<table border=\"1\" class=\"dataframe\">\n",
              "  <thead>\n",
              "    <tr style=\"text-align: right;\">\n",
              "      <th></th>\n",
              "      <th>number_of_reviews</th>\n",
              "      <th>host_acceptance_rate</th>\n",
              "      <th>price</th>\n",
              "      <th>availability_365</th>\n",
              "      <th>review_scores_rating</th>\n",
              "      <th>review_scores_cleanliness</th>\n",
              "      <th>review_scores_communication</th>\n",
              "      <th>room_type</th>\n",
              "    </tr>\n",
              "  </thead>\n",
              "  <tbody>\n",
              "    <tr>\n",
              "      <th>0</th>\n",
              "      <td>614</td>\n",
              "      <td>95%</td>\n",
              "      <td>$140.00</td>\n",
              "      <td>311</td>\n",
              "      <td>4.84</td>\n",
              "      <td>4.85</td>\n",
              "      <td>4.81</td>\n",
              "      <td>Entire home/apt</td>\n",
              "    </tr>\n",
              "    <tr>\n",
              "      <th>1</th>\n",
              "      <td>269</td>\n",
              "      <td>100%</td>\n",
              "      <td>$41.00</td>\n",
              "      <td>3</td>\n",
              "      <td>4.90</td>\n",
              "      <td>4.86</td>\n",
              "      <td>4.94</td>\n",
              "      <td>Private room</td>\n",
              "    </tr>\n",
              "    <tr>\n",
              "      <th>2</th>\n",
              "      <td>88</td>\n",
              "      <td>98%</td>\n",
              "      <td>$194.00</td>\n",
              "      <td>342</td>\n",
              "      <td>4.85</td>\n",
              "      <td>4.80</td>\n",
              "      <td>4.97</td>\n",
              "      <td>Entire home/apt</td>\n",
              "    </tr>\n",
              "    <tr>\n",
              "      <th>3</th>\n",
              "      <td>2</td>\n",
              "      <td>NaN</td>\n",
              "      <td>$694.00</td>\n",
              "      <td>0</td>\n",
              "      <td>4.50</td>\n",
              "      <td>3.50</td>\n",
              "      <td>5.00</td>\n",
              "      <td>Entire home/apt</td>\n",
              "    </tr>\n",
              "    <tr>\n",
              "      <th>4</th>\n",
              "      <td>171</td>\n",
              "      <td>99%</td>\n",
              "      <td>$192.00</td>\n",
              "      <td>156</td>\n",
              "      <td>4.84</td>\n",
              "      <td>4.73</td>\n",
              "      <td>4.98</td>\n",
              "      <td>Entire home/apt</td>\n",
              "    </tr>\n",
              "  </tbody>\n",
              "</table>\n",
              "</div>\n",
              "      <button class=\"colab-df-convert\" onclick=\"convertToInteractive('df-25a6f65a-afde-41d4-a9e3-b45908e6261e')\"\n",
              "              title=\"Convert this dataframe to an interactive table.\"\n",
              "              style=\"display:none;\">\n",
              "        \n",
              "  <svg xmlns=\"http://www.w3.org/2000/svg\" height=\"24px\"viewBox=\"0 0 24 24\"\n",
              "       width=\"24px\">\n",
              "    <path d=\"M0 0h24v24H0V0z\" fill=\"none\"/>\n",
              "    <path d=\"M18.56 5.44l.94 2.06.94-2.06 2.06-.94-2.06-.94-.94-2.06-.94 2.06-2.06.94zm-11 1L8.5 8.5l.94-2.06 2.06-.94-2.06-.94L8.5 2.5l-.94 2.06-2.06.94zm10 10l.94 2.06.94-2.06 2.06-.94-2.06-.94-.94-2.06-.94 2.06-2.06.94z\"/><path d=\"M17.41 7.96l-1.37-1.37c-.4-.4-.92-.59-1.43-.59-.52 0-1.04.2-1.43.59L10.3 9.45l-7.72 7.72c-.78.78-.78 2.05 0 2.83L4 21.41c.39.39.9.59 1.41.59.51 0 1.02-.2 1.41-.59l7.78-7.78 2.81-2.81c.8-.78.8-2.07 0-2.86zM5.41 20L4 18.59l7.72-7.72 1.47 1.35L5.41 20z\"/>\n",
              "  </svg>\n",
              "      </button>\n",
              "      \n",
              "  <style>\n",
              "    .colab-df-container {\n",
              "      display:flex;\n",
              "      flex-wrap:wrap;\n",
              "      gap: 12px;\n",
              "    }\n",
              "\n",
              "    .colab-df-convert {\n",
              "      background-color: #E8F0FE;\n",
              "      border: none;\n",
              "      border-radius: 50%;\n",
              "      cursor: pointer;\n",
              "      display: none;\n",
              "      fill: #1967D2;\n",
              "      height: 32px;\n",
              "      padding: 0 0 0 0;\n",
              "      width: 32px;\n",
              "    }\n",
              "\n",
              "    .colab-df-convert:hover {\n",
              "      background-color: #E2EBFA;\n",
              "      box-shadow: 0px 1px 2px rgba(60, 64, 67, 0.3), 0px 1px 3px 1px rgba(60, 64, 67, 0.15);\n",
              "      fill: #174EA6;\n",
              "    }\n",
              "\n",
              "    [theme=dark] .colab-df-convert {\n",
              "      background-color: #3B4455;\n",
              "      fill: #D2E3FC;\n",
              "    }\n",
              "\n",
              "    [theme=dark] .colab-df-convert:hover {\n",
              "      background-color: #434B5C;\n",
              "      box-shadow: 0px 1px 3px 1px rgba(0, 0, 0, 0.15);\n",
              "      filter: drop-shadow(0px 1px 2px rgba(0, 0, 0, 0.3));\n",
              "      fill: #FFFFFF;\n",
              "    }\n",
              "  </style>\n",
              "\n",
              "      <script>\n",
              "        const buttonEl =\n",
              "          document.querySelector('#df-25a6f65a-afde-41d4-a9e3-b45908e6261e button.colab-df-convert');\n",
              "        buttonEl.style.display =\n",
              "          google.colab.kernel.accessAllowed ? 'block' : 'none';\n",
              "\n",
              "        async function convertToInteractive(key) {\n",
              "          const element = document.querySelector('#df-25a6f65a-afde-41d4-a9e3-b45908e6261e');\n",
              "          const dataTable =\n",
              "            await google.colab.kernel.invokeFunction('convertToInteractive',\n",
              "                                                     [key], {});\n",
              "          if (!dataTable) return;\n",
              "\n",
              "          const docLinkHtml = 'Like what you see? Visit the ' +\n",
              "            '<a target=\"_blank\" href=https://colab.research.google.com/notebooks/data_table.ipynb>data table notebook</a>'\n",
              "            + ' to learn more about interactive tables.';\n",
              "          element.innerHTML = '';\n",
              "          dataTable['output_type'] = 'display_data';\n",
              "          await google.colab.output.renderOutput(dataTable, element);\n",
              "          const docLink = document.createElement('div');\n",
              "          docLink.innerHTML = docLinkHtml;\n",
              "          element.appendChild(docLink);\n",
              "        }\n",
              "      </script>\n",
              "    </div>\n",
              "  </div>\n",
              "  "
            ]
          },
          "metadata": {},
          "execution_count": 17
        }
      ]
    },
    {
      "cell_type": "markdown",
      "source": [
        "#PUNTO 3"
      ],
      "metadata": {
        "id": "WQ6nHExCFF7J"
      }
    },
    {
      "cell_type": "code",
      "source": [
        "#Quitamos % y $ en las columnas correspondiente\n",
        "df[\"host_acceptance_rate\"] = df[\"host_acceptance_rate\"].str.replace(\"%\",\"\")\n",
        "df[\"price\"] = df[\"price\"].str.replace(\"$\",\"\")\n",
        "df[\"price\"] = df[\"price\"].str.replace(\",\",\"\")\n",
        "\n",
        "df.dtypes"
      ],
      "metadata": {
        "colab": {
          "base_uri": "https://localhost:8080/"
        },
        "id": "vPN0i_DIq4mL",
        "outputId": "36f79824-2479-4801-9efc-0ae8c1927454"
      },
      "execution_count": 18,
      "outputs": [
        {
          "output_type": "stream",
          "name": "stderr",
          "text": [
            "/usr/local/lib/python3.7/dist-packages/ipykernel_launcher.py:3: FutureWarning: The default value of regex will change from True to False in a future version. In addition, single character regular expressions will *not* be treated as literal strings when regex=True.\n",
            "  This is separate from the ipykernel package so we can avoid doing imports until\n"
          ]
        },
        {
          "output_type": "execute_result",
          "data": {
            "text/plain": [
              "number_of_reviews                int64\n",
              "host_acceptance_rate            object\n",
              "price                           object\n",
              "availability_365                 int64\n",
              "review_scores_rating           float64\n",
              "review_scores_cleanliness      float64\n",
              "review_scores_communication    float64\n",
              "room_type                       object\n",
              "dtype: object"
            ]
          },
          "metadata": {},
          "execution_count": 18
        }
      ]
    },
    {
      "cell_type": "code",
      "source": [
        "print(df.shape) #Número de filas y columnas\n",
        "Duplicadas=df.duplicated()  #Crea una serie \n",
        "print(\"\\nNúmero de filas duplicadas:\", Duplicadas[Duplicadas==True].count()) "
      ],
      "metadata": {
        "colab": {
          "base_uri": "https://localhost:8080/"
        },
        "id": "ZEROvkzEkGZp",
        "outputId": "5ef59e60-ae27-4486-a76d-9ba68df4c2fc"
      },
      "execution_count": 19,
      "outputs": [
        {
          "output_type": "stream",
          "name": "stdout",
          "text": [
            "(18337, 8)\n",
            "\n",
            "Número de filas duplicadas: 1061\n"
          ]
        }
      ]
    },
    {
      "cell_type": "code",
      "source": [
        "#Limpieza de filas repetidas\n",
        "df.drop_duplicates(keep='first', inplace=True)\n",
        "df.shape"
      ],
      "metadata": {
        "colab": {
          "base_uri": "https://localhost:8080/"
        },
        "id": "zHzq8oK5kMuW",
        "outputId": "41f7684f-5169-4133-c6dd-50dceb077f8e"
      },
      "execution_count": 20,
      "outputs": [
        {
          "output_type": "execute_result",
          "data": {
            "text/plain": [
              "(17276, 8)"
            ]
          },
          "metadata": {},
          "execution_count": 20
        }
      ]
    },
    {
      "cell_type": "code",
      "source": [
        "#Identificar nulos\n",
        "df.isnull().sum()"
      ],
      "metadata": {
        "colab": {
          "base_uri": "https://localhost:8080/"
        },
        "id": "LKQRzqeRmsnJ",
        "outputId": "63cc7454-deb9-4c25-b9d6-b2b3e4984363"
      },
      "execution_count": 21,
      "outputs": [
        {
          "output_type": "execute_result",
          "data": {
            "text/plain": [
              "number_of_reviews                 0\n",
              "host_acceptance_rate           2302\n",
              "price                             0\n",
              "availability_365                  0\n",
              "review_scores_rating           2567\n",
              "review_scores_cleanliness      2628\n",
              "review_scores_communication    2629\n",
              "room_type                         0\n",
              "dtype: int64"
            ]
          },
          "metadata": {},
          "execution_count": 21
        }
      ]
    },
    {
      "cell_type": "code",
      "source": [
        "df =df.fillna(method=\"bfill\") \n",
        "df =df.fillna(method=\"ffill\") \n",
        "df.isnull().sum()"
      ],
      "metadata": {
        "colab": {
          "base_uri": "https://localhost:8080/"
        },
        "id": "7ECoPa1mLret",
        "outputId": "7f0db8a0-3caf-4431-ac0d-a6e027337943"
      },
      "execution_count": 22,
      "outputs": [
        {
          "output_type": "execute_result",
          "data": {
            "text/plain": [
              "number_of_reviews              0\n",
              "host_acceptance_rate           0\n",
              "price                          0\n",
              "availability_365               0\n",
              "review_scores_rating           0\n",
              "review_scores_cleanliness      0\n",
              "review_scores_communication    0\n",
              "room_type                      0\n",
              "dtype: int64"
            ]
          },
          "metadata": {},
          "execution_count": 22
        }
      ]
    },
    {
      "cell_type": "code",
      "source": [
        "df[\"host_acceptance_rate\"] = df[\"host_acceptance_rate\"].astype('int64')\n",
        "df[\"price\"] = df[\"price\"].astype('float64')\n",
        "df.dtypes"
      ],
      "metadata": {
        "colab": {
          "base_uri": "https://localhost:8080/"
        },
        "id": "Z2toU8qIrYMx",
        "outputId": "6518e1f9-2bb8-4691-dc18-d88a3a87242a"
      },
      "execution_count": 23,
      "outputs": [
        {
          "output_type": "execute_result",
          "data": {
            "text/plain": [
              "number_of_reviews                int64\n",
              "host_acceptance_rate             int64\n",
              "price                          float64\n",
              "availability_365                 int64\n",
              "review_scores_rating           float64\n",
              "review_scores_cleanliness      float64\n",
              "review_scores_communication    float64\n",
              "room_type                       object\n",
              "dtype: object"
            ]
          },
          "metadata": {},
          "execution_count": 23
        }
      ]
    },
    {
      "cell_type": "code",
      "source": [
        "fig, axs = plt.subplots(ncols=7, figsize=(16,8))\n",
        "index=0\n",
        "axs=axs.flatten()\n",
        "copiadf=df.copy()\n",
        "copiadf=copiadf.drop('room_type', axis=1)\n",
        "for k, v in copiadf.items(): # k variable, v valores\n",
        "  sns.boxplot(y=k, data=df, ax=axs[index])\n",
        "  index += 1\n",
        "plt.tight_layout(pad=0.4)"
      ],
      "metadata": {
        "colab": {
          "base_uri": "https://localhost:8080/",
          "height": 599
        },
        "id": "I6x3MwVUpOdv",
        "outputId": "af7a31c6-a9a7-4391-c861-f8b7d7cf22b0"
      },
      "execution_count": 24,
      "outputs": [
        {
          "output_type": "display_data",
          "data": {
            "text/plain": [
              "<Figure size 1152x576 with 7 Axes>"
            ],
            "image/png": "[encoded data removed]"
          },
          "metadata": {
            "needs_background": "light"
          }
        }
      ]
    },
    {
      "cell_type": "code",
      "source": [
        "y=df\n",
        "\n",
        "percentile25=y.quantile(0.25) #Q1\n",
        "percentile75=y.quantile(0.75) #Q3\n",
        "iqr= percentile75 - percentile25\n",
        "\n",
        "Limite_Superior_iqr= percentile75 + 1.5*iqr\n",
        "Limite_Inferior_iqr= percentile25 - 1.5*iqr\n",
        "print(\"Limite superior permitido\", Limite_Superior_iqr)\n",
        "print(\"Limite inferior permitido\", Limite_Inferior_iqr)"
      ],
      "metadata": {
        "colab": {
          "base_uri": "https://localhost:8080/"
        },
        "id": "VJY3Sw9dWqXl",
        "outputId": "448f7c61-6ebe-4be8-cbfd-7dc3da172e9d"
      },
      "execution_count": 25,
      "outputs": [
        {
          "output_type": "stream",
          "name": "stdout",
          "text": [
            "Limite superior permitido number_of_reviews               94.500\n",
            "host_acceptance_rate           112.000\n",
            "price                          577.500\n",
            "availability_365               750.000\n",
            "review_scores_rating             5.375\n",
            "review_scores_cleanliness        5.375\n",
            "review_scores_communication      5.165\n",
            "dtype: float64\n",
            "Limite inferior permitido number_of_reviews              -53.500\n",
            "host_acceptance_rate            80.000\n",
            "price                         -186.500\n",
            "availability_365              -378.000\n",
            "review_scores_rating             4.375\n",
            "review_scores_cleanliness        4.375\n",
            "review_scores_communication      4.725\n",
            "dtype: float64\n"
          ]
        }
      ]
    },
    {
      "cell_type": "code",
      "source": [
        "df=df[df['number_of_reviews']<94.500]\n",
        "df=df[df['host_acceptance_rate']>80.00]\n",
        "df=df[df['price']<577.500]\n",
        "df=df[df['review_scores_rating']>4.375]\n",
        "df=df[df['review_scores_cleanliness']>4.375]\n",
        "df=df[df['review_scores_communication']>4.725]\n",
        "df.head()"
      ],
      "metadata": {
        "id": "8nykaMB2uYDq",
        "colab": {
          "base_uri": "https://localhost:8080/",
          "height": 206
        },
        "outputId": "ac4b98b3-d81f-4f5a-ad22-6c7150e03155"
      },
      "execution_count": 26,
      "outputs": [
        {
          "output_type": "execute_result",
          "data": {
            "text/plain": [
              "    number_of_reviews  host_acceptance_rate  price  availability_365  \\\n",
              "2                  88                    98  194.0               342   \n",
              "6                  13                   100  500.0                 0   \n",
              "16                 16                    93  140.0               183   \n",
              "21                  0                   100  100.0                 0   \n",
              "25                 48                   100   60.0               257   \n",
              "\n",
              "    review_scores_rating  review_scores_cleanliness  \\\n",
              "2                   4.85                       4.80   \n",
              "6                   5.00                       4.92   \n",
              "16                  5.00                       4.94   \n",
              "21                  4.90                       4.95   \n",
              "25                  4.94                       5.00   \n",
              "\n",
              "    review_scores_communication        room_type  \n",
              "2                          4.97  Entire home/apt  \n",
              "6                          4.83  Entire home/apt  \n",
              "16                         5.00  Entire home/apt  \n",
              "21                         4.94     Private room  \n",
              "25                         5.00  Entire home/apt  "
            ],
            "text/html": [
              "\n",
              "  <div id=\"df-05e679fc-2bb1-4bba-8e61-57607bb7159e\">\n",
              "    <div class=\"colab-df-container\">\n",
              "      <div>\n",
              "<style scoped>\n",
              "    .dataframe tbody tr th:only-of-type {\n",
              "        vertical-align: middle;\n",
              "    }\n",
              "\n",
              "    .dataframe tbody tr th {\n",
              "        vertical-align: top;\n",
              "    }\n",
              "\n",
              "    .dataframe thead th {\n",
              "        text-align: right;\n",
              "    }\n",
              "</style>\n",
              "<table border=\"1\" class=\"dataframe\">\n",
              "  <thead>\n",
              "    <tr style=\"text-align: right;\">\n",
              "      <th></th>\n",
              "      <th>number_of_reviews</th>\n",
              "      <th>host_acceptance_rate</th>\n",
              "      <th>price</th>\n",
              "      <th>availability_365</th>\n",
              "      <th>review_scores_rating</th>\n",
              "      <th>review_scores_cleanliness</th>\n",
              "      <th>review_scores_communication</th>\n",
              "      <th>room_type</th>\n",
              "    </tr>\n",
              "  </thead>\n",
              "  <tbody>\n",
              "    <tr>\n",
              "      <th>2</th>\n",
              "      <td>88</td>\n",
              "      <td>98</td>\n",
              "      <td>194.0</td>\n",
              "      <td>342</td>\n",
              "      <td>4.85</td>\n",
              "      <td>4.80</td>\n",
              "      <td>4.97</td>\n",
              "      <td>Entire home/apt</td>\n",
              "    </tr>\n",
              "    <tr>\n",
              "      <th>6</th>\n",
              "      <td>13</td>\n",
              "      <td>100</td>\n",
              "      <td>500.0</td>\n",
              "      <td>0</td>\n",
              "      <td>5.00</td>\n",
              "      <td>4.92</td>\n",
              "      <td>4.83</td>\n",
              "      <td>Entire home/apt</td>\n",
              "    </tr>\n",
              "    <tr>\n",
              "      <th>16</th>\n",
              "      <td>16</td>\n",
              "      <td>93</td>\n",
              "      <td>140.0</td>\n",
              "      <td>183</td>\n",
              "      <td>5.00</td>\n",
              "      <td>4.94</td>\n",
              "      <td>5.00</td>\n",
              "      <td>Entire home/apt</td>\n",
              "    </tr>\n",
              "    <tr>\n",
              "      <th>21</th>\n",
              "      <td>0</td>\n",
              "      <td>100</td>\n",
              "      <td>100.0</td>\n",
              "      <td>0</td>\n",
              "      <td>4.90</td>\n",
              "      <td>4.95</td>\n",
              "      <td>4.94</td>\n",
              "      <td>Private room</td>\n",
              "    </tr>\n",
              "    <tr>\n",
              "      <th>25</th>\n",
              "      <td>48</td>\n",
              "      <td>100</td>\n",
              "      <td>60.0</td>\n",
              "      <td>257</td>\n",
              "      <td>4.94</td>\n",
              "      <td>5.00</td>\n",
              "      <td>5.00</td>\n",
              "      <td>Entire home/apt</td>\n",
              "    </tr>\n",
              "  </tbody>\n",
              "</table>\n",
              "</div>\n",
              "      <button class=\"colab-df-convert\" onclick=\"convertToInteractive('df-05e679fc-2bb1-4bba-8e61-57607bb7159e')\"\n",
              "              title=\"Convert this dataframe to an interactive table.\"\n",
              "              style=\"display:none;\">\n",
              "        \n",
              "  <svg xmlns=\"http://www.w3.org/2000/svg\" height=\"24px\"viewBox=\"0 0 24 24\"\n",
              "       width=\"24px\">\n",
              "    <path d=\"M0 0h24v24H0V0z\" fill=\"none\"/>\n",
              "    <path d=\"M18.56 5.44l.94 2.06.94-2.06 2.06-.94-2.06-.94-.94-2.06-.94 2.06-2.06.94zm-11 1L8.5 8.5l.94-2.06 2.06-.94-2.06-.94L8.5 2.5l-.94 2.06-2.06.94zm10 10l.94 2.06.94-2.06 2.06-.94-2.06-.94-.94-2.06-.94 2.06-2.06.94z\"/><path d=\"M17.41 7.96l-1.37-1.37c-.4-.4-.92-.59-1.43-.59-.52 0-1.04.2-1.43.59L10.3 9.45l-7.72 7.72c-.78.78-.78 2.05 0 2.83L4 21.41c.39.39.9.59 1.41.59.51 0 1.02-.2 1.41-.59l7.78-7.78 2.81-2.81c.8-.78.8-2.07 0-2.86zM5.41 20L4 18.59l7.72-7.72 1.47 1.35L5.41 20z\"/>\n",
              "  </svg>\n",
              "      </button>\n",
              "      \n",
              "  <style>\n",
              "    .colab-df-container {\n",
              "      display:flex;\n",
              "      flex-wrap:wrap;\n",
              "      gap: 12px;\n",
              "    }\n",
              "\n",
              "    .colab-df-convert {\n",
              "      background-color: #E8F0FE;\n",
              "      border: none;\n",
              "      border-radius: 50%;\n",
              "      cursor: pointer;\n",
              "      display: none;\n",
              "      fill: #1967D2;\n",
              "      height: 32px;\n",
              "      padding: 0 0 0 0;\n",
              "      width: 32px;\n",
              "    }\n",
              "\n",
              "    .colab-df-convert:hover {\n",
              "      background-color: #E2EBFA;\n",
              "      box-shadow: 0px 1px 2px rgba(60, 64, 67, 0.3), 0px 1px 3px 1px rgba(60, 64, 67, 0.15);\n",
              "      fill: #174EA6;\n",
              "    }\n",
              "\n",
              "    [theme=dark] .colab-df-convert {\n",
              "      background-color: #3B4455;\n",
              "      fill: #D2E3FC;\n",
              "    }\n",
              "\n",
              "    [theme=dark] .colab-df-convert:hover {\n",
              "      background-color: #434B5C;\n",
              "      box-shadow: 0px 1px 3px 1px rgba(0, 0, 0, 0.15);\n",
              "      filter: drop-shadow(0px 1px 2px rgba(0, 0, 0, 0.3));\n",
              "      fill: #FFFFFF;\n",
              "    }\n",
              "  </style>\n",
              "\n",
              "      <script>\n",
              "        const buttonEl =\n",
              "          document.querySelector('#df-05e679fc-2bb1-4bba-8e61-57607bb7159e button.colab-df-convert');\n",
              "        buttonEl.style.display =\n",
              "          google.colab.kernel.accessAllowed ? 'block' : 'none';\n",
              "\n",
              "        async function convertToInteractive(key) {\n",
              "          const element = document.querySelector('#df-05e679fc-2bb1-4bba-8e61-57607bb7159e');\n",
              "          const dataTable =\n",
              "            await google.colab.kernel.invokeFunction('convertToInteractive',\n",
              "                                                     [key], {});\n",
              "          if (!dataTable) return;\n",
              "\n",
              "          const docLinkHtml = 'Like what you see? Visit the ' +\n",
              "            '<a target=\"_blank\" href=https://colab.research.google.com/notebooks/data_table.ipynb>data table notebook</a>'\n",
              "            + ' to learn more about interactive tables.';\n",
              "          element.innerHTML = '';\n",
              "          dataTable['output_type'] = 'display_data';\n",
              "          await google.colab.output.renderOutput(dataTable, element);\n",
              "          const docLink = document.createElement('div');\n",
              "          docLink.innerHTML = docLinkHtml;\n",
              "          element.appendChild(docLink);\n",
              "        }\n",
              "      </script>\n",
              "    </div>\n",
              "  </div>\n",
              "  "
            ]
          },
          "metadata": {},
          "execution_count": 26
        }
      ]
    },
    {
      "cell_type": "code",
      "source": [
        "fig, axs = plt.subplots(ncols=7, figsize=(16,8))\n",
        "index=0\n",
        "axs=axs.flatten()\n",
        "copiadf=df.copy()\n",
        "copiadf=copiadf.drop('room_type', axis=1)\n",
        "for k, v in copiadf.items(): # k variable, v valores\n",
        "  sns.boxplot(y=k, data=df, ax=axs[index])\n",
        "  index += 1\n",
        "plt.tight_layout(pad=0.4)"
      ],
      "metadata": {
        "colab": {
          "base_uri": "https://localhost:8080/",
          "height": 598
        },
        "id": "pDhYcBjEuoBA",
        "outputId": "22bb30ee-4ae1-42c2-aefd-927d778c963b"
      },
      "execution_count": 27,
      "outputs": [
        {
          "output_type": "display_data",
          "data": {
            "text/plain": [
              "<Figure size 1152x576 with 7 Axes>"
            ],
            "image/png": "[encoded data removed]"
          },
          "metadata": {
            "needs_background": "light"
          }
        }
      ]
    },
    {
      "cell_type": "markdown",
      "source": [
        "#PUNTO 4"
      ],
      "metadata": {
        "id": "YP5ucEjLFKpq"
      }
    },
    {
      "cell_type": "code",
      "source": [
        "#División en 3 DataFrames\n",
        "\n",
        "Home=df[df['room_type']=='Entire home/apt']\n",
        "Room=df[df['room_type']=='Private room']\n",
        "Shared=df[df['room_type']=='Shared room']\n",
        "Hotel=df[df['room_type']=='Hotel room']\n",
        "print(Home.shape)\n",
        "print(Room.shape)\n",
        "print(Shared.shape)\n",
        "print(Hotel.shape)"
      ],
      "metadata": {
        "colab": {
          "base_uri": "https://localhost:8080/"
        },
        "id": "tzKSlzldeUXm",
        "outputId": "130f99a2-21d9-4aac-851d-e8c1edc83a77"
      },
      "execution_count": 28,
      "outputs": [
        {
          "output_type": "stream",
          "name": "stdout",
          "text": [
            "(7746, 8)\n",
            "(1539, 8)\n",
            "(51, 8)\n",
            "(32, 8)\n"
          ]
        }
      ]
    },
    {
      "cell_type": "code",
      "source": [
        "def correlaciones(i):\n",
        "  print('number_of_reviews vs host_acceptance_rate: ',abs(i['number_of_reviews'].corr(i['host_acceptance_rate'])))\n",
        "  print('number_of_reviews  vs review_scores_rating: ',abs(i['number_of_reviews'].corr(i['review_scores_rating'])))\n",
        "  print('number_of_reviews  vs price: ',abs(i['number_of_reviews'].corr(i['price'])))\n",
        "  print('number_of_reviews  vs review_scores_cleanliness: ',abs(i['number_of_reviews'].corr(i['review_scores_cleanliness'])))\n",
        "  print('number_of_reviews  vs availability_365: ',abs(i['number_of_reviews'].corr(i['availability_365'])))\n",
        "  print('number_of_reviews  vs review_scores_communication: ',abs(i['number_of_reviews'].corr(i['review_scores_communication'])))"
      ],
      "metadata": {
        "id": "hWRKJqhaZKe5"
      },
      "execution_count": 29,
      "outputs": []
    },
    {
      "cell_type": "code",
      "source": [
        "#Mapa de correlaciones\n",
        "Corr_Factors=Home.corr()\n",
        "Corr_Factors_abs= abs(Corr_Factors)\n",
        "mask=np.triu(np.ones_like(df.corr(),dtype=bool))\n",
        "Heat_Map=sns.heatmap(Corr_Factors_abs, annot=True,mask=mask, fmt='.2f')\n",
        "Heat_Map"
      ],
      "metadata": {
        "colab": {
          "base_uri": "https://localhost:8080/",
          "height": 424
        },
        "id": "FnM2euuodOoC",
        "outputId": "30f366bc-295d-4980-e254-ef15c197bd65"
      },
      "execution_count": 30,
      "outputs": [
        {
          "output_type": "execute_result",
          "data": {
            "text/plain": [
              "<matplotlib.axes._subplots.AxesSubplot at 0x7f060b1f73d0>"
            ]
          },
          "metadata": {},
          "execution_count": 30
        },
        {
          "output_type": "display_data",
          "data": {
            "text/plain": [
              "<Figure size 432x288 with 2 Axes>"
            ],
            "image/png": "[encoded data removed]"
          },
          "metadata": {
            "needs_background": "light"
          }
        }
      ]
    },
    {
      "cell_type": "code",
      "source": [
        "correlaciones(Home)"
      ],
      "metadata": {
        "colab": {
          "base_uri": "https://localhost:8080/"
        },
        "id": "ChGMilBFbafs",
        "outputId": "dfc6e3f4-d88b-4596-f2d8-2ac14ab3349d"
      },
      "execution_count": 31,
      "outputs": [
        {
          "output_type": "stream",
          "name": "stdout",
          "text": [
            "number_of_reviews vs host_acceptance_rate:  0.035752418063380864\n",
            "number_of_reviews  vs review_scores_rating:  0.157328010263186\n",
            "number_of_reviews  vs price:  0.02888420288605057\n",
            "number_of_reviews  vs review_scores_cleanliness:  0.167541989354215\n",
            "number_of_reviews  vs availability_365:  0.007362305529887736\n",
            "number_of_reviews  vs review_scores_communication:  0.21556537098994927\n"
          ]
        }
      ]
    },
    {
      "cell_type": "code",
      "source": [
        "#Mapa de correlaciones\n",
        "Corr_Factors=Room.corr()\n",
        "Corr_Factors_abs= abs(Corr_Factors)\n",
        "mask=np.triu(np.ones_like(df.corr(),dtype=bool))\n",
        "Heat_Map=sns.heatmap(Corr_Factors_abs, annot=True, mask=mask, fmt='.2f')\n",
        "Heat_Map"
      ],
      "metadata": {
        "colab": {
          "base_uri": "https://localhost:8080/",
          "height": 426
        },
        "id": "lS2HdhPDhXe4",
        "outputId": "cd53cd55-7ede-4816-ab69-1b4ffb6126b1"
      },
      "execution_count": 32,
      "outputs": [
        {
          "output_type": "execute_result",
          "data": {
            "text/plain": [
              "<matplotlib.axes._subplots.AxesSubplot at 0x7f060afd2950>"
            ]
          },
          "metadata": {},
          "execution_count": 32
        },
        {
          "output_type": "display_data",
          "data": {
            "text/plain": [
              "<Figure size 432x288 with 2 Axes>"
            ],
            "image/png": "[encoded data removed]"
          },
          "metadata": {
            "needs_background": "light"
          }
        }
      ]
    },
    {
      "cell_type": "code",
      "source": [
        "correlaciones(Room)"
      ],
      "metadata": {
        "colab": {
          "base_uri": "https://localhost:8080/"
        },
        "id": "SzVc9IhebhPN",
        "outputId": "aec8db18-2ec1-4609-e964-14cb9a435053"
      },
      "execution_count": 33,
      "outputs": [
        {
          "output_type": "stream",
          "name": "stdout",
          "text": [
            "number_of_reviews vs host_acceptance_rate:  0.04073875349648917\n",
            "number_of_reviews  vs review_scores_rating:  0.12315997192572782\n",
            "number_of_reviews  vs price:  0.13020175688118255\n",
            "number_of_reviews  vs review_scores_cleanliness:  0.10359983617832863\n",
            "number_of_reviews  vs availability_365:  0.014562909198526649\n",
            "number_of_reviews  vs review_scores_communication:  0.2211513282557487\n"
          ]
        }
      ]
    },
    {
      "cell_type": "code",
      "source": [
        "#Mapa de correlaciones\n",
        "Corr_Factors=Shared.corr()\n",
        "Corr_Factors_abs= abs(Corr_Factors)\n",
        "mask=np.triu(np.ones_like(df.corr(),dtype=bool))\n",
        "Heat_Map=sns.heatmap(Corr_Factors_abs, annot=True, mask=mask,fmt='.2f')\n",
        "Heat_Map"
      ],
      "metadata": {
        "id": "dkEwxyGAhbQl",
        "outputId": "67d4d449-f198-4839-f1c4-6b0fe4886f27",
        "colab": {
          "base_uri": "https://localhost:8080/",
          "height": 424
        }
      },
      "execution_count": 34,
      "outputs": [
        {
          "output_type": "execute_result",
          "data": {
            "text/plain": [
              "<matplotlib.axes._subplots.AxesSubplot at 0x7f060b43a2d0>"
            ]
          },
          "metadata": {},
          "execution_count": 34
        },
        {
          "output_type": "display_data",
          "data": {
            "text/plain": [
              "<Figure size 432x288 with 2 Axes>"
            ],
            "image/png": "[encoded data removed]"
          },
          "metadata": {
            "needs_background": "light"
          }
        }
      ]
    },
    {
      "cell_type": "code",
      "source": [
        "correlaciones(Shared)"
      ],
      "metadata": {
        "colab": {
          "base_uri": "https://localhost:8080/"
        },
        "id": "op6ILqdCbnVh",
        "outputId": "9ce432bc-8950-4457-9e39-66d966e9fbf0"
      },
      "execution_count": 35,
      "outputs": [
        {
          "output_type": "stream",
          "name": "stdout",
          "text": [
            "number_of_reviews vs host_acceptance_rate:  0.1630317826712675\n",
            "number_of_reviews  vs review_scores_rating:  0.3058949980127007\n",
            "number_of_reviews  vs price:  0.33721594457264964\n",
            "number_of_reviews  vs review_scores_cleanliness:  0.22948289885177564\n",
            "number_of_reviews  vs availability_365:  0.04829408902094025\n",
            "number_of_reviews  vs review_scores_communication:  0.2435256414177619\n"
          ]
        }
      ]
    },
    {
      "cell_type": "code",
      "source": [
        "#Mapa de correlaciones\n",
        "Corr_Factors=Hotel.corr()\n",
        "Corr_Factors_abs= abs(Corr_Factors)\n",
        "mask=np.triu(np.ones_like(df.corr(),dtype=bool))\n",
        "Heat_Map=sns.heatmap(Corr_Factors_abs, annot=True, mask=mask,fmt='.2f')\n",
        "Heat_Map"
      ],
      "metadata": {
        "colab": {
          "base_uri": "https://localhost:8080/",
          "height": 424
        },
        "id": "2DdNJpiuI9TD",
        "outputId": "997cd5d2-61bc-4165-a24b-f8095771465b"
      },
      "execution_count": 36,
      "outputs": [
        {
          "output_type": "execute_result",
          "data": {
            "text/plain": [
              "<matplotlib.axes._subplots.AxesSubplot at 0x7f0610348c90>"
            ]
          },
          "metadata": {},
          "execution_count": 36
        },
        {
          "output_type": "display_data",
          "data": {
            "text/plain": [
              "<Figure size 432x288 with 2 Axes>"
            ],
            "image/png": "[encoded data removed]"
          },
          "metadata": {
            "needs_background": "light"
          }
        }
      ]
    },
    {
      "cell_type": "code",
      "source": [
        "correlaciones(Hotel)"
      ],
      "metadata": {
        "colab": {
          "base_uri": "https://localhost:8080/"
        },
        "id": "Yi_kn4uIJB2E",
        "outputId": "a1a2c17a-2797-4df0-b6ca-a42f9d5691f0"
      },
      "execution_count": 37,
      "outputs": [
        {
          "output_type": "stream",
          "name": "stdout",
          "text": [
            "number_of_reviews vs host_acceptance_rate:  0.36804799358454887\n",
            "number_of_reviews  vs review_scores_rating:  0.5101556860434097\n",
            "number_of_reviews  vs price:  0.45481408596434614\n",
            "number_of_reviews  vs review_scores_cleanliness:  0.39410311459842606\n",
            "number_of_reviews  vs availability_365:  0.1767059105242251\n",
            "number_of_reviews  vs review_scores_communication:  0.7428659501515215\n"
          ]
        }
      ]
    },
    {
      "cell_type": "markdown",
      "source": [
        "#PUNTO 5"
      ],
      "metadata": {
        "id": "JYa-PxAge3mI"
      }
    },
    {
      "cell_type": "markdown",
      "source": [
        "HOME"
      ],
      "metadata": {
        "id": "QZoK_2PxDhJY"
      }
    },
    {
      "cell_type": "code",
      "source": [
        "Home.columns"
      ],
      "metadata": {
        "colab": {
          "base_uri": "https://localhost:8080/"
        },
        "id": "QslQvAmGNoJD",
        "outputId": "2d8ddae0-e1b2-455d-d268-078b8f70c655"
      },
      "execution_count": 38,
      "outputs": [
        {
          "output_type": "execute_result",
          "data": {
            "text/plain": [
              "Index(['number_of_reviews', 'host_acceptance_rate', 'price',\n",
              "       'availability_365', 'review_scores_rating', 'review_scores_cleanliness',\n",
              "       'review_scores_communication', 'room_type'],\n",
              "      dtype='object')"
            ]
          },
          "metadata": {},
          "execution_count": 38
        }
      ]
    },
    {
      "cell_type": "code",
      "source": [
        "from sklearn.linear_model import LinearRegression\n",
        "model=LinearRegression()\n",
        "type(model)"
      ],
      "metadata": {
        "id": "5_JSqIZ7e6in",
        "colab": {
          "base_uri": "https://localhost:8080/"
        },
        "outputId": "ee83c72c-4bb8-4609-d9cd-dcea61429f1d"
      },
      "execution_count": 39,
      "outputs": [
        {
          "output_type": "execute_result",
          "data": {
            "text/plain": [
              "sklearn.linear_model._base.LinearRegression"
            ]
          },
          "metadata": {},
          "execution_count": 39
        }
      ]
    },
    {
      "cell_type": "code",
      "source": [
        "Var_Dep=Home['number_of_reviews']\n",
        "Var_Indep=Home[['host_acceptance_rate', 'price',\n",
        "       'availability_365', 'review_scores_rating', 'review_scores_cleanliness',\n",
        "       'review_scores_communication']]"
      ],
      "metadata": {
        "id": "Wc0cy2vrDHVQ"
      },
      "execution_count": 40,
      "outputs": []
    },
    {
      "cell_type": "code",
      "source": [
        "model.fit(X=Var_Indep, y=Var_Dep)\n",
        "model.__dict__\n",
        "model.score(X=Var_Indep,y=Var_Dep)"
      ],
      "metadata": {
        "colab": {
          "base_uri": "https://localhost:8080/"
        },
        "id": "SCF5WpuoEd5r",
        "outputId": "c980a7bb-5e65-4581-c79e-709a1ff3f647"
      },
      "execution_count": 41,
      "outputs": [
        {
          "output_type": "execute_result",
          "data": {
            "text/plain": [
              "0.0568521410164583"
            ]
          },
          "metadata": {},
          "execution_count": 41
        }
      ]
    },
    {
      "cell_type": "markdown",
      "source": [
        "PRIVATE ROOM"
      ],
      "metadata": {
        "id": "kSqWR6uDG35R"
      }
    },
    {
      "cell_type": "code",
      "source": [
        "modelP=LinearRegression()\n",
        "type(model)"
      ],
      "metadata": {
        "colab": {
          "base_uri": "https://localhost:8080/"
        },
        "id": "gzjQXhOHHWSp",
        "outputId": "040cbbd6-8c7a-4970-8a5d-6be7004ae47d"
      },
      "execution_count": 42,
      "outputs": [
        {
          "output_type": "execute_result",
          "data": {
            "text/plain": [
              "sklearn.linear_model._base.LinearRegression"
            ]
          },
          "metadata": {},
          "execution_count": 42
        }
      ]
    },
    {
      "cell_type": "code",
      "source": [
        "PVar_Dep=Room['number_of_reviews']\n",
        "PVar_Indep=Room[['host_acceptance_rate', 'price',\n",
        "       'availability_365', 'review_scores_rating', 'review_scores_cleanliness',\n",
        "       'review_scores_communication']]"
      ],
      "metadata": {
        "id": "4myvir8uG7EW"
      },
      "execution_count": 43,
      "outputs": []
    },
    {
      "cell_type": "code",
      "source": [
        "modelP.fit(X=PVar_Indep, y=PVar_Dep)\n",
        "modelP.__dict__\n",
        "modelP.score(X=PVar_Indep,y=PVar_Dep)"
      ],
      "metadata": {
        "colab": {
          "base_uri": "https://localhost:8080/"
        },
        "id": "f3ZkDOJnHSRO",
        "outputId": "bc1fd37e-99b8-4fc1-e430-9667679c6c9d"
      },
      "execution_count": 44,
      "outputs": [
        {
          "output_type": "execute_result",
          "data": {
            "text/plain": [
              "0.06869581305305383"
            ]
          },
          "metadata": {},
          "execution_count": 44
        }
      ]
    },
    {
      "cell_type": "markdown",
      "source": [
        "SHARED ROOM"
      ],
      "metadata": {
        "id": "KmtnBk0IIAOw"
      }
    },
    {
      "cell_type": "code",
      "source": [
        "modelS=LinearRegression()\n",
        "type(model)"
      ],
      "metadata": {
        "colab": {
          "base_uri": "https://localhost:8080/"
        },
        "id": "v5F16hmhICXT",
        "outputId": "7138c872-d8cc-4d39-84d6-93bc10732c00"
      },
      "execution_count": 45,
      "outputs": [
        {
          "output_type": "execute_result",
          "data": {
            "text/plain": [
              "sklearn.linear_model._base.LinearRegression"
            ]
          },
          "metadata": {},
          "execution_count": 45
        }
      ]
    },
    {
      "cell_type": "code",
      "source": [
        "SVar_Dep=Shared['number_of_reviews']\n",
        "SVar_Indep=Shared[['host_acceptance_rate', 'price',\n",
        "       'availability_365', 'review_scores_rating', 'review_scores_cleanliness',\n",
        "       'review_scores_communication']]"
      ],
      "metadata": {
        "id": "HOAoA07ZINl2"
      },
      "execution_count": 46,
      "outputs": []
    },
    {
      "cell_type": "code",
      "source": [
        "modelS.fit(X=SVar_Indep, y=SVar_Dep)\n",
        "modelS.__dict__\n",
        "modelS.score(X=SVar_Indep,y=SVar_Dep)"
      ],
      "metadata": {
        "colab": {
          "base_uri": "https://localhost:8080/"
        },
        "id": "fThf9WztIaB3",
        "outputId": "7ea0f9b9-6649-4b48-8a9a-e7ea3cb06124"
      },
      "execution_count": 47,
      "outputs": [
        {
          "output_type": "execute_result",
          "data": {
            "text/plain": [
              "0.24906437679674664"
            ]
          },
          "metadata": {},
          "execution_count": 47
        }
      ]
    },
    {
      "cell_type": "markdown",
      "source": [
        "HOTEL ROOM"
      ],
      "metadata": {
        "id": "UN-ihwWdJXW-"
      }
    },
    {
      "cell_type": "code",
      "source": [
        "modelH=LinearRegression()\n",
        "type(model)"
      ],
      "metadata": {
        "colab": {
          "base_uri": "https://localhost:8080/"
        },
        "id": "6vlZ9iJBJYti",
        "outputId": "e95d53dc-50b5-4663-bffb-f08dd30e2bbe"
      },
      "execution_count": 48,
      "outputs": [
        {
          "output_type": "execute_result",
          "data": {
            "text/plain": [
              "sklearn.linear_model._base.LinearRegression"
            ]
          },
          "metadata": {},
          "execution_count": 48
        }
      ]
    },
    {
      "cell_type": "code",
      "source": [
        "HVar_Dep=Hotel['number_of_reviews']\n",
        "HVar_Indep=Hotel[['host_acceptance_rate', 'price',\n",
        "       'availability_365', 'review_scores_rating', 'review_scores_cleanliness',\n",
        "       'review_scores_communication']]"
      ],
      "metadata": {
        "id": "J1i1dN8SJeaD"
      },
      "execution_count": 49,
      "outputs": []
    },
    {
      "cell_type": "code",
      "source": [
        "modelH.fit(X=HVar_Indep, y=HVar_Dep)\n",
        "modelH.__dict__\n",
        "modelH.score(X=HVar_Indep,y=HVar_Dep)"
      ],
      "metadata": {
        "colab": {
          "base_uri": "https://localhost:8080/"
        },
        "id": "N6_MB-SKJebg",
        "outputId": "792c3947-2893-4a3f-a3d7-8008e110ccd0"
      },
      "execution_count": 50,
      "outputs": [
        {
          "output_type": "execute_result",
          "data": {
            "text/plain": [
              "0.6153172064884358"
            ]
          },
          "metadata": {},
          "execution_count": 50
        }
      ]
    },
    {
      "cell_type": "markdown",
      "source": [
        "#PUNTO 6"
      ],
      "metadata": {
        "id": "MKBsx98HFPxZ"
      }
    },
    {
      "cell_type": "code",
      "source": [
        "#Home\n",
        "coef_Deter=model.score(X=Var_Indep,y=Var_Dep)\n",
        "coef_Deter"
      ],
      "metadata": {
        "colab": {
          "base_uri": "https://localhost:8080/"
        },
        "id": "2_uX75B9FTBI",
        "outputId": "03515c96-fa19-4911-fabb-faa8cec235a5"
      },
      "execution_count": 51,
      "outputs": [
        {
          "output_type": "execute_result",
          "data": {
            "text/plain": [
              "0.0568521410164583"
            ]
          },
          "metadata": {},
          "execution_count": 51
        }
      ]
    },
    {
      "cell_type": "code",
      "source": [
        "#Home\n",
        "coef_Correl=np.sqrt(coef_Deter)\n",
        "coef_Correl"
      ],
      "metadata": {
        "colab": {
          "base_uri": "https://localhost:8080/"
        },
        "id": "kcuUN4ZFFagr",
        "outputId": "4863057b-be60-4fe7-8061-5b3f65cdddb4"
      },
      "execution_count": 52,
      "outputs": [
        {
          "output_type": "execute_result",
          "data": {
            "text/plain": [
              "0.2384368700861054"
            ]
          },
          "metadata": {},
          "execution_count": 52
        }
      ]
    },
    {
      "cell_type": "code",
      "source": [
        "#Private Room\n",
        "coef_DeterP=modelP.score(X=PVar_Indep,y=PVar_Dep)\n",
        "coef_DeterP"
      ],
      "metadata": {
        "colab": {
          "base_uri": "https://localhost:8080/"
        },
        "id": "k6xVqRhTFhLo",
        "outputId": "c4598c77-f2ea-4a8e-eefb-6381901b6cb9"
      },
      "execution_count": 53,
      "outputs": [
        {
          "output_type": "execute_result",
          "data": {
            "text/plain": [
              "0.06869581305305383"
            ]
          },
          "metadata": {},
          "execution_count": 53
        }
      ]
    },
    {
      "cell_type": "code",
      "source": [
        "#Private Room\n",
        "coef_Correlp=np.sqrt(coef_DeterP)\n",
        "coef_Correlp"
      ],
      "metadata": {
        "colab": {
          "base_uri": "https://localhost:8080/"
        },
        "id": "vy2iQFCiFlae",
        "outputId": "bd796f9b-9a4b-4d26-a37a-8666a9e2af91"
      },
      "execution_count": 54,
      "outputs": [
        {
          "output_type": "execute_result",
          "data": {
            "text/plain": [
              "0.2620988612204445"
            ]
          },
          "metadata": {},
          "execution_count": 54
        }
      ]
    },
    {
      "cell_type": "code",
      "source": [
        "#Shared Room\n",
        "coef_Deters=modelS.score(X=SVar_Indep,y=SVar_Dep)\n",
        "coef_Deters"
      ],
      "metadata": {
        "colab": {
          "base_uri": "https://localhost:8080/"
        },
        "id": "PEjv9R3ZFsWi",
        "outputId": "222ceec4-3de0-4627-c90d-aec36138fea6"
      },
      "execution_count": 55,
      "outputs": [
        {
          "output_type": "execute_result",
          "data": {
            "text/plain": [
              "0.24906437679674664"
            ]
          },
          "metadata": {},
          "execution_count": 55
        }
      ]
    },
    {
      "cell_type": "code",
      "source": [
        "#Shared Room\n",
        "coef_Correls=np.sqrt(coef_Deters)\n",
        "coef_Correls"
      ],
      "metadata": {
        "colab": {
          "base_uri": "https://localhost:8080/"
        },
        "id": "tf-1bfkrF2vg",
        "outputId": "aba0a6d0-aef7-48e2-a816-ebfadfba5939"
      },
      "execution_count": 56,
      "outputs": [
        {
          "output_type": "execute_result",
          "data": {
            "text/plain": [
              "0.49906349976405473"
            ]
          },
          "metadata": {},
          "execution_count": 56
        }
      ]
    },
    {
      "cell_type": "code",
      "source": [
        "#Hotel Room\n",
        "coef_Deterh=modelH.score(X=HVar_Indep,y=HVar_Dep)\n",
        "coef_Deterh"
      ],
      "metadata": {
        "colab": {
          "base_uri": "https://localhost:8080/"
        },
        "id": "sEPUS-2fJPDn",
        "outputId": "5a73a011-4671-4ead-d9d0-07bf27ddb37b"
      },
      "execution_count": 57,
      "outputs": [
        {
          "output_type": "execute_result",
          "data": {
            "text/plain": [
              "0.6153172064884358"
            ]
          },
          "metadata": {},
          "execution_count": 57
        }
      ]
    },
    {
      "cell_type": "code",
      "source": [
        "#Hotel Room\n",
        "coef_Correlh=np.sqrt(coef_Deterh)\n",
        "coef_Correlh"
      ],
      "metadata": {
        "colab": {
          "base_uri": "https://localhost:8080/"
        },
        "id": "BQayKwo_JO5s",
        "outputId": "8305dee2-833e-4848-dc9e-b75a3c50343a"
      },
      "execution_count": 58,
      "outputs": [
        {
          "output_type": "execute_result",
          "data": {
            "text/plain": [
              "0.7844215744664573"
            ]
          },
          "metadata": {},
          "execution_count": 58
        }
      ]
    },
    {
      "cell_type": "code",
      "source": [
        "Tabla = pd.DataFrame()"
      ],
      "metadata": {
        "id": "XwGUJSF0F4-F"
      },
      "execution_count": 59,
      "outputs": []
    },
    {
      "cell_type": "code",
      "source": [
        "Tabla['Tipo de habitacion'] = ['Entire room/apt', 'Private room', 'Shared room', 'Hotel room']\n",
        "Tabla['Coef_det']=[coef_Deter,coef_DeterP,coef_Deters,coef_Deterh]\n",
        "Tabla['Coef_Correl']=[coef_Correl,coef_Correlp,coef_Correls,coef_Correlh]"
      ],
      "metadata": {
        "id": "vFCmz-J3F7kP"
      },
      "execution_count": 60,
      "outputs": []
    },
    {
      "cell_type": "code",
      "source": [
        "print(Tabla)"
      ],
      "metadata": {
        "colab": {
          "base_uri": "https://localhost:8080/"
        },
        "id": "lY2N8Q3CKCgb",
        "outputId": "df85e5e1-a504-4958-c2d6-bf35b49a5f75"
      },
      "execution_count": 61,
      "outputs": [
        {
          "output_type": "stream",
          "name": "stdout",
          "text": [
            "  Tipo de habitacion  Coef_det  Coef_Correl\n",
            "0    Entire room/apt  0.056852     0.238437\n",
            "1       Private room  0.068696     0.262099\n",
            "2        Shared room  0.249064     0.499063\n",
            "3         Hotel room  0.615317     0.784422\n"
          ]
        }
      ]
    }
  ]
}